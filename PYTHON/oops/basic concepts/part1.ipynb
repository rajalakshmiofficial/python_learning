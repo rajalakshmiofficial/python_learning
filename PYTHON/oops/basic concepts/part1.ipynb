{
 "cells": [
  {
   "cell_type": "code",
   "execution_count": 2,
   "id": "f2e1aa7e",
   "metadata": {},
   "outputs": [
    {
     "name": "stdout",
     "output_type": "stream",
     "text": [
      "raj\n",
      "maha\n",
      "1239kkll\n"
     ]
    }
   ],
   "source": [
    "class Employee:\n",
    "    def __init__(self):\n",
    "        pass\n",
    "       \n",
    "emp1=Employee()\n",
    "emp2=Employee()\n",
    "\n",
    "emp1.first='raj'\n",
    "emp1.last='lakshmi'\n",
    "emp1.age='21'\n",
    "emp1.address='1239kkll'\n",
    "emp2.first='maha'\n",
    "emp2.last='lakshmi'\n",
    "emp2.age='22'\n",
    "print(emp1.first)\n",
    "print(emp2.first)\n",
    "print(emp1.address)\n",
    "        "
   ]
  },
  {
   "cell_type": "markdown",
   "id": "ac5598f4",
   "metadata": {},
   "source": [
    "to avoid these many lines and doing mistakes we use constructor that is init method"
   ]
  },
  {
   "cell_type": "code",
   "execution_count": 15,
   "id": "92a349df",
   "metadata": {},
   "outputs": [
    {
     "name": "stdout",
     "output_type": "stream",
     "text": [
      "self called\n",
      "self called\n",
      "self called\n",
      "raj.lakshmi@gmail.com\n",
      "rajlakshmi\n",
      "rajlakshmi\n"
     ]
    },
    {
     "data": {
      "text/plain": [
       "'mahalakshmi'"
      ]
     },
     "execution_count": 15,
     "metadata": {},
     "output_type": "execute_result"
    }
   ],
   "source": [
    "class Employee:\n",
    "    def __init__(a,first,last,age):\n",
    "        print('self called')\n",
    "        a.first=first\n",
    "        a.last=last\n",
    "        a.age=age\n",
    "        a.email=first+'.'+last+ '@gmail.com'  ##important\n",
    "    def fullname(a):\n",
    "        return '{}{}'.format(a.first,a.last)\n",
    "emp1=Employee('raj','lakshmi','21')\n",
    "emp2=Employee('maha','lakshmi','22')\n",
    "ab=Employee('mahanathi','lakshmi','22')\n",
    "print(emp1.email)\n",
    "emp1.email\n",
    "print(Employee.fullname(emp1))\n",
    "print(emp1.fullname())\n",
    "emp1.fullname()\n",
    "#print('{}{}'.format(emp1.first,emp2.last))\n",
    "emp2.fullname()\n",
    "\n",
    "        "
   ]
  },
  {
   "cell_type": "markdown",
   "id": "f3ae3ba7",
   "metadata": {},
   "source": [
    "here first,last,age,email are attributes(datas) these data is different for each instanevariables\n",
    "every instance contain instance variable"
   ]
  },
  {
   "cell_type": "markdown",
   "id": "84b78df1",
   "metadata": {},
   "source": [
    "NOTE here @gamil without quotation means it throws error as invalid syntax"
   ]
  },
  {
   "cell_type": "markdown",
   "id": "393b8aaf",
   "metadata": {},
   "source": [
    "class\n",
    "instance,object\n",
    "instance variables,attributes\n"
   ]
  },
  {
   "cell_type": "code",
   "execution_count": null,
   "id": "07d11a6b",
   "metadata": {},
   "outputs": [],
   "source": []
  }
 ],
 "metadata": {
  "kernelspec": {
   "display_name": "Python 3",
   "language": "python",
   "name": "python3"
  },
  "language_info": {
   "codemirror_mode": {
    "name": "ipython",
    "version": 3
   },
   "file_extension": ".py",
   "mimetype": "text/x-python",
   "name": "python",
   "nbconvert_exporter": "python",
   "pygments_lexer": "ipython3",
   "version": "3.8.8"
  }
 },
 "nbformat": 4,
 "nbformat_minor": 5
}
