{
 "cells": [
  {
   "cell_type": "code",
   "execution_count": 2,
   "id": "3c85b8b3",
   "metadata": {},
   "outputs": [
    {
     "name": "stdout",
     "output_type": "stream",
     "text": [
      "raj 21 2124259\n",
      "vino 21 2124270\n"
     ]
    }
   ],
   "source": [
    "class Student:\n",
    "    def __init__(self,name,age,rollno):\n",
    "        self.name=name\n",
    "        self.age=age\n",
    "        self.rollno=rollno\n",
    "    \n",
    "    def show(self):\n",
    "        print(self.name,self.age,self.rollno)\n",
    "        \n",
    "        \n",
    "        \n",
    "s1=Student('raj','21',2124259)\n",
    "s2=Student('vino','21',2124270)\n",
    "s1.show()\n",
    "s2.show()"
   ]
  },
  {
   "cell_type": "code",
   "execution_count": 12,
   "id": "a82f99f8",
   "metadata": {},
   "outputs": [
    {
     "name": "stdout",
     "output_type": "stream",
     "text": [
      "12 13 giga\n",
      "raj 21 2124259\n"
     ]
    }
   ],
   "source": [
    "class Student:\n",
    "    def __init__(self,name,age,rollno):\n",
    "        self.name=name\n",
    "        self.age=age\n",
    "        self.rollno=rollno\n",
    "        #self.lap=self.Laptop(12,13,'giga')\n",
    "    \n",
    "    def show(self):\n",
    "        print(self.name,self.age,self.rollno)\n",
    "    \n",
    "    class Laptop:\n",
    "        def __init__(self,cpu,model,memory):\n",
    "            self.cpu=cpu\n",
    "            self.model=model\n",
    "            self.memory=memory\n",
    "        def show(self):\n",
    "            print(self.cpu,self.model,self.memory)\n",
    "            \n",
    "            \n",
    "s1=Student('raj','21',2124259)\n",
    "s2=Student('vino','21',2124270)\n",
    "#1 method\n",
    "s1_lap=s1.Laptop(12,13,'giga')\n",
    "#s1_lap(12,13,'giga')\n",
    "\n",
    "s2_lap=s2.Laptop\n",
    "s1_lap.show()\n",
    "s1.show()\n",
    "\n",
    "\n",
    "        \n",
    "        "
   ]
  },
  {
   "cell_type": "code",
   "execution_count": 9,
   "id": "0f4df3ff",
   "metadata": {},
   "outputs": [
    {
     "name": "stdout",
     "output_type": "stream",
     "text": [
      "1769685392848\n",
      "1769685392848\n",
      "the student class raj 21 2124259\n",
      "the laptop clss i5 le 90\n"
     ]
    }
   ],
   "source": [
    "class Student:\n",
    "    def __init__(self,name,age,rollno):\n",
    "        self.name=name\n",
    "        self.age=age\n",
    "        self.rollno=rollno\n",
    "        self.lap=self.Laptop('i5','le','90')\n",
    "    \n",
    "    def show(self):\n",
    "        print('the student class',self.name,self.age,self.rollno)\n",
    "        self.lap.show()\n",
    "    \n",
    "    class Laptop:\n",
    "        def __init__(self,cpu,model,memory):\n",
    "            self.cpu=cpu\n",
    "            self.model=model\n",
    "            self.memory=memory\n",
    "        def show(self):\n",
    "            print('the laptop clss',self.cpu,self.model,self.memory)\n",
    "            \n",
    "            \n",
    "s1=Student('raj','21',2124259)\n",
    "s2=Student('vino','21',2124270)\n",
    "\n",
    "#1 method\n",
    "s1_lap=s1.Laptop\n",
    "s2_lap=s2.Laptop\n",
    "print(id(s1_lap))\n",
    "print(id(s2_lap))\n",
    "#2 method\n",
    "#s1_lap=Student.Laptop()\n",
    "#s2_lap=Student.Laptop()\n",
    "\n",
    "s1.show()"
   ]
  },
  {
   "cell_type": "code",
   "execution_count": null,
   "id": "0c8cfa31",
   "metadata": {},
   "outputs": [],
   "source": []
  }
 ],
 "metadata": {
  "kernelspec": {
   "display_name": "Python 3",
   "language": "python",
   "name": "python3"
  },
  "language_info": {
   "codemirror_mode": {
    "name": "ipython",
    "version": 3
   },
   "file_extension": ".py",
   "mimetype": "text/x-python",
   "name": "python",
   "nbconvert_exporter": "python",
   "pygments_lexer": "ipython3",
   "version": "3.8.8"
  }
 },
 "nbformat": 4,
 "nbformat_minor": 5
}
