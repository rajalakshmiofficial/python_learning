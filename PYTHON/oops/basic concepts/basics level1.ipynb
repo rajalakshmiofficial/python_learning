{
 "cells": [
  {
   "cell_type": "markdown",
   "id": "1c708aef",
   "metadata": {},
   "source": [
    "# class and object"
   ]
  },
  {
   "cell_type": "code",
   "execution_count": 2,
   "id": "d9c60d85",
   "metadata": {},
   "outputs": [
    {
     "name": "stdout",
     "output_type": "stream",
     "text": [
      "i5,16gb,20TB\n"
     ]
    }
   ],
   "source": [
    "class Phone:    #class name should be capital\n",
    "    def config(self):\n",
    "        print('i5,16gb,20TB')\n",
    "redmi=Phone()   #in the class we create instance that is objecta\n",
    "redmi.config()   #in the bracket self itself ref to object redmi\n",
    "        \n"
   ]
  },
  {
   "cell_type": "code",
   "execution_count": 1,
   "id": "fe59d29a",
   "metadata": {},
   "outputs": [
    {
     "name": "stdout",
     "output_type": "stream",
     "text": [
      "i5,16gb,20TB\n",
      "i5,16gb,20TB\n",
      "<class 'int'>\n",
      "<class '__main__.phone'>\n"
     ]
    }
   ],
   "source": [
    "class phone:\n",
    "    def config(self):      #here config is reusability\n",
    "        print('i5,16gb,20TB')\n",
    "redmi=phone()\n",
    "com1=phone()\n",
    "#phone.config(redmi)\n",
    "phone.config(redmi)\n",
    "phone.config(com1)\n",
    "x=9\n",
    "print(type(x))\n",
    "print(type(redmi))"
   ]
  },
  {
   "cell_type": "code",
   "execution_count": 4,
   "id": "143a219e",
   "metadata": {},
   "outputs": [
    {
     "name": "stdout",
     "output_type": "stream",
     "text": [
      "i5,16gb,20TB\n"
     ]
    }
   ],
   "source": [
    "#1way\n",
    "class phone:\n",
    "    def config(self):      #here config is reusability\n",
    "        print('i5,16gb,20TB')\n",
    "redmi=phone()\n",
    "com1=phone()\n",
    "redmi.config()"
   ]
  },
  {
   "cell_type": "code",
   "execution_count": 6,
   "id": "f4e62453",
   "metadata": {},
   "outputs": [
    {
     "name": "stdout",
     "output_type": "stream",
     "text": [
      "i5,16gb,20TB\n"
     ]
    }
   ],
   "source": [
    "#2way\n",
    "class phone:\n",
    "    def config(self):      #here config is reusability\n",
    "        print('i5,16gb,20TB')\n",
    "redmi=phone()\n",
    "com1=phone()\n",
    "phone.config(redmi)\n"
   ]
  },
  {
   "cell_type": "markdown",
   "id": "4a0d1832",
   "metadata": {},
   "source": [
    "# __init__ method"
   ]
  },
  {
   "cell_type": "markdown",
   "id": "a7c4f541",
   "metadata": {},
   "source": [
    "#when we create nd call object the init call automatically"
   ]
  },
  {
   "cell_type": "code",
   "execution_count": 12,
   "id": "af54adf8",
   "metadata": {},
   "outputs": [
    {
     "ename": "TypeError",
     "evalue": "__init__() takes 0 positional arguments but 1 was given",
     "output_type": "error",
     "traceback": [
      "\u001b[1;31m---------------------------------------------------------------------------\u001b[0m",
      "\u001b[1;31mTypeError\u001b[0m                                 Traceback (most recent call last)",
      "\u001b[1;32m<ipython-input-12-b8adefd389a7>\u001b[0m in \u001b[0;36m<module>\u001b[1;34m\u001b[0m\n\u001b[0;32m      4\u001b[0m     \u001b[1;32mdef\u001b[0m \u001b[0mconfig\u001b[0m\u001b[1;33m(\u001b[0m\u001b[0mself\u001b[0m\u001b[1;33m)\u001b[0m\u001b[1;33m:\u001b[0m      \u001b[1;31m#here config is reusability\u001b[0m\u001b[1;33m\u001b[0m\u001b[1;33m\u001b[0m\u001b[0m\n\u001b[0;32m      5\u001b[0m         \u001b[0mprint\u001b[0m\u001b[1;33m(\u001b[0m\u001b[1;34m'i5,16gb,20TB'\u001b[0m\u001b[1;33m)\u001b[0m\u001b[1;33m\u001b[0m\u001b[1;33m\u001b[0m\u001b[0m\n\u001b[1;32m----> 6\u001b[1;33m \u001b[0mredmi\u001b[0m\u001b[1;33m=\u001b[0m\u001b[0mphone\u001b[0m\u001b[1;33m(\u001b[0m\u001b[1;33m)\u001b[0m\u001b[1;33m\u001b[0m\u001b[1;33m\u001b[0m\u001b[0m\n\u001b[0m\u001b[0;32m      7\u001b[0m \u001b[0mcom1\u001b[0m\u001b[1;33m=\u001b[0m\u001b[0mphone\u001b[0m\u001b[1;33m(\u001b[0m\u001b[1;33m)\u001b[0m\u001b[1;33m\u001b[0m\u001b[1;33m\u001b[0m\u001b[0m\n\u001b[0;32m      8\u001b[0m \u001b[0mredmi\u001b[0m\u001b[1;33m\u001b[0m\u001b[1;33m\u001b[0m\u001b[0m\n",
      "\u001b[1;31mTypeError\u001b[0m: __init__() takes 0 positional arguments but 1 was given"
     ]
    }
   ],
   "source": [
    "class phone:\n",
    "    def __init__():\n",
    "        print('hi iam init')\n",
    "    def config(self):      #here config is reusability\n",
    "        print('i5,16gb,20TB')\n",
    "redmi=phone()\n",
    "com1=phone()\n",
    "redmi\n",
    "#config(redmi)\n",
    "\n",
    "redmi.config()\n",
    "com1.config()"
   ]
  },
  {
   "cell_type": "code",
   "execution_count": 12,
   "id": "11e54362",
   "metadata": {},
   "outputs": [
    {
     "name": "stdout",
     "output_type": "stream",
     "text": [
      "hi iam init\n",
      "hi iam init\n",
      "i5,16gb,20TB\n",
      "i5,16gb,20TB\n"
     ]
    }
   ],
   "source": [
    "# with self\n",
    "class phone:\n",
    "    def __init__(self):\n",
    "        print('hi iam init')\n",
    "    def config(self):      #here config is reusability\n",
    "        print('i5,16gb,20TB')\n",
    "redmi=phone()\n",
    "com1=phone()\n",
    "redmi.config()\n",
    "com1.config()"
   ]
  },
  {
   "cell_type": "code",
   "execution_count": 21,
   "id": "51ae1d7f",
   "metadata": {},
   "outputs": [
    {
     "name": "stdout",
     "output_type": "stream",
     "text": [
      "hi iam init\n",
      "hi iam init\n",
      "i5,16gb,20TB\n",
      "i5,16gb,20TB\n"
     ]
    }
   ],
   "source": [
    "# with self\n",
    "class phone:\n",
    "    def __init__(self,cpu,ram,):\n",
    "        self.a=cpu\n",
    "        self.b=ram        \n",
    "        print('hi iam init')\n",
    "    def config(self):      #here config is reusability\n",
    "        print('i5,16gb,20TB')\n",
    "redmi=phone(4,9,)\n",
    "com1=phone(6,7)\n",
    "redmi.config()\n",
    "com1.config()"
   ]
  },
  {
   "cell_type": "markdown",
   "id": "e218bd6b",
   "metadata": {},
   "source": [
    "# constructor, self"
   ]
  },
  {
   "cell_type": "code",
   "execution_count": 22,
   "id": "082e8db8",
   "metadata": {},
   "outputs": [],
   "source": [
    "# system have heap memory our object are take some memory space in heap memory and it have some address so we use id fun."
   ]
  },
  {
   "cell_type": "code",
   "execution_count": 24,
   "id": "0a95fd59",
   "metadata": {},
   "outputs": [
    {
     "name": "stdout",
     "output_type": "stream",
     "text": [
      "2180870404560\n"
     ]
    }
   ],
   "source": [
    "class com:\n",
    "    pass\n",
    "c1=com()\n",
    "print(id(c1))"
   ]
  },
  {
   "cell_type": "code",
   "execution_count": null,
   "id": "8465bc0f",
   "metadata": {},
   "outputs": [],
   "source": [
    "# size and memory allocation space is depends upons what ever types of variables nd no. of variables we used to create object"
   ]
  },
  {
   "cell_type": "markdown",
   "id": "aa63c151",
   "metadata": {},
   "source": [
    "# who is responsible to assign memory or cal memory is our constructor"
   ]
  },
  {
   "cell_type": "code",
   "execution_count": 25,
   "id": "251fe335",
   "metadata": {},
   "outputs": [
    {
     "ename": "NameError",
     "evalue": "name 'name' is not defined",
     "output_type": "error",
     "traceback": [
      "\u001b[1;31m---------------------------------------------------------------------------\u001b[0m",
      "\u001b[1;31mNameError\u001b[0m                                 Traceback (most recent call last)",
      "\u001b[1;32m<ipython-input-25-cb8e1eb8ebc9>\u001b[0m in \u001b[0;36m<module>\u001b[1;34m\u001b[0m\n\u001b[0;32m      3\u001b[0m         \u001b[0mself\u001b[0m\u001b[1;33m.\u001b[0m\u001b[0mname\u001b[0m\u001b[1;33m=\u001b[0m\u001b[0mname\u001b[0m\u001b[1;33m\u001b[0m\u001b[1;33m\u001b[0m\u001b[0m\n\u001b[0;32m      4\u001b[0m         \u001b[0mself\u001b[0m\u001b[1;33m.\u001b[0m\u001b[0mage\u001b[0m\u001b[1;33m=\u001b[0m\u001b[0mage\u001b[0m\u001b[1;33m\u001b[0m\u001b[1;33m\u001b[0m\u001b[0m\n\u001b[1;32m----> 5\u001b[1;33m \u001b[0mc1\u001b[0m\u001b[1;33m=\u001b[0m\u001b[0mcatlog\u001b[0m\u001b[1;33m(\u001b[0m\u001b[1;33m)\u001b[0m\u001b[1;33m\u001b[0m\u001b[1;33m\u001b[0m\u001b[0m\n\u001b[0m\u001b[0;32m      6\u001b[0m \u001b[0mc2\u001b[0m\u001b[1;33m=\u001b[0m\u001b[0mcatlog\u001b[0m\u001b[1;33m(\u001b[0m\u001b[1;33m)\u001b[0m\u001b[1;33m\u001b[0m\u001b[1;33m\u001b[0m\u001b[0m\n\u001b[0;32m      7\u001b[0m \u001b[1;33m\u001b[0m\u001b[0m\n",
      "\u001b[1;32m<ipython-input-25-cb8e1eb8ebc9>\u001b[0m in \u001b[0;36m__init__\u001b[1;34m(self)\u001b[0m\n\u001b[0;32m      1\u001b[0m \u001b[1;32mclass\u001b[0m \u001b[0mcatlog\u001b[0m\u001b[1;33m:\u001b[0m\u001b[1;33m\u001b[0m\u001b[1;33m\u001b[0m\u001b[0m\n\u001b[0;32m      2\u001b[0m     \u001b[1;32mdef\u001b[0m \u001b[0m__init__\u001b[0m\u001b[1;33m(\u001b[0m\u001b[0mself\u001b[0m\u001b[1;33m)\u001b[0m\u001b[1;33m:\u001b[0m\u001b[1;33m\u001b[0m\u001b[1;33m\u001b[0m\u001b[0m\n\u001b[1;32m----> 3\u001b[1;33m         \u001b[0mself\u001b[0m\u001b[1;33m.\u001b[0m\u001b[0mname\u001b[0m\u001b[1;33m=\u001b[0m\u001b[0mname\u001b[0m\u001b[1;33m\u001b[0m\u001b[1;33m\u001b[0m\u001b[0m\n\u001b[0m\u001b[0;32m      4\u001b[0m         \u001b[0mself\u001b[0m\u001b[1;33m.\u001b[0m\u001b[0mage\u001b[0m\u001b[1;33m=\u001b[0m\u001b[0mage\u001b[0m\u001b[1;33m\u001b[0m\u001b[1;33m\u001b[0m\u001b[0m\n\u001b[0;32m      5\u001b[0m \u001b[0mc1\u001b[0m\u001b[1;33m=\u001b[0m\u001b[0mcatlog\u001b[0m\u001b[1;33m(\u001b[0m\u001b[1;33m)\u001b[0m\u001b[1;33m\u001b[0m\u001b[1;33m\u001b[0m\u001b[0m\n",
      "\u001b[1;31mNameError\u001b[0m: name 'name' is not defined"
     ]
    }
   ],
   "source": [
    "class catlog:\n",
    "    def __init__(self):\n",
    "        self.name=name\n",
    "        self.age=age\n",
    "c1=catlog()\n",
    "c2=catlog()\n",
    "        "
   ]
  },
  {
   "cell_type": "code",
   "execution_count": 31,
   "id": "0c13f27e",
   "metadata": {},
   "outputs": [
    {
     "name": "stdout",
     "output_type": "stream",
     "text": [
      "akis\n",
      "22\n",
      "raj\n",
      "17\n"
     ]
    }
   ],
   "source": [
    "class catlog:        #it runs   #here 2 objects have same values how we change values    \n",
    "    def __init__(self):\n",
    "        self.name='raj'   #attributes\n",
    "        self.age=23\n",
    "c1=catlog()\n",
    "c2=catlog()\n",
    "c1.name='akis'\n",
    "c2.age=17\n",
    "c1.age=22\n",
    "print(c1.name)\n",
    "print(c1.age)\n",
    "print(c2.name)\n",
    "print(c2.age)\n",
    "        "
   ]
  },
  {
   "cell_type": "code",
   "execution_count": 29,
   "id": "1a5c2815",
   "metadata": {},
   "outputs": [
    {
     "name": "stdout",
     "output_type": "stream",
     "text": [
      "init called\n",
      "init called\n"
     ]
    }
   ],
   "source": [
    "class catlog:\n",
    "    def __init__(self,name,age):\n",
    "        self.name=name\n",
    "        self.age=age\n",
    "        print('init called')\n",
    "c1=catlog('raj',23)\n",
    "c2=catlog('vino',18)\n",
    "        "
   ]
  },
  {
   "cell_type": "code",
   "execution_count": 32,
   "id": "768741c7",
   "metadata": {},
   "outputs": [],
   "source": [
    "#functions we need to mention self then only it knows which object is called there we create 1000's of objects"
   ]
  },
  {
   "cell_type": "code",
   "execution_count": 34,
   "id": "b591a0bb",
   "metadata": {},
   "outputs": [
    {
     "name": "stdout",
     "output_type": "stream",
     "text": [
      "20\n"
     ]
    }
   ],
   "source": [
    "class catlog:\n",
    "    def __init__(self):\n",
    "        self.name='raj'\n",
    "        self.age='17'\n",
    "    def update(self):\n",
    "        self.age='20'\n",
    "c1=catlog()\n",
    "c1.update()\n",
    "print(c1.age)"
   ]
  },
  {
   "cell_type": "code",
   "execution_count": 38,
   "id": "3c2adaee",
   "metadata": {},
   "outputs": [
    {
     "name": "stdout",
     "output_type": "stream",
     "text": [
      "They are same age\n"
     ]
    }
   ],
   "source": [
    "class catlog:\n",
    "    def __init__(self):\n",
    "        self.name='raj'\n",
    "        self.age='17'\n",
    "    def update(self):\n",
    "        self.age='20'\n",
    "    def compare(self,other):     #here is self is becames to object c1 itsef and other is c2\n",
    "        if self.age == other.age:\n",
    "            return True\n",
    "        else:\n",
    "            return False\n",
    "c1=catlog()\n",
    "c2=catlog()\n",
    "#c2.update()\n",
    "c1.compare(c2)   #c1 self,c2 other(it happen background)\n",
    "if c1.age==c2.age:\n",
    "    print('They are same age')\n",
    "else:\n",
    "    print('not')\n",
    "        "
   ]
  },
  {
   "cell_type": "markdown",
   "id": "2c3e2f85",
   "metadata": {},
   "source": [
    "# Types of variables\n",
    "## variables 2 types\n",
    " #instance variable\n",
    " #class(static) variable   "
   ]
  },
  {
   "cell_type": "code",
   "execution_count": 40,
   "id": "0172dac4",
   "metadata": {},
   "outputs": [],
   "source": [
    "# instance variable one object change pana it wont affect another object"
   ]
  },
  {
   "cell_type": "code",
   "execution_count": 41,
   "id": "ecaea705",
   "metadata": {},
   "outputs": [],
   "source": [
    "# which created variable is common for all objects is class variable"
   ]
  },
  {
   "cell_type": "code",
   "execution_count": 42,
   "id": "85b6daee",
   "metadata": {},
   "outputs": [],
   "source": [
    "# namespace area which is sued to store created object/variable\n",
    "#1.class namespace=classvariables store\n",
    "#2.object/instance namespace=instance variable store"
   ]
  },
  {
   "cell_type": "code",
   "execution_count": 43,
   "id": "1ba87eef",
   "metadata": {},
   "outputs": [],
   "source": [
    "# inside of init method===instance variable\n",
    "# outside of init method nd inside of class===class varwiable"
   ]
  },
  {
   "cell_type": "code",
   "execution_count": 52,
   "id": "b2a2372c",
   "metadata": {},
   "outputs": [
    {
     "name": "stdout",
     "output_type": "stream",
     "text": [
      "vino 17 jt\n",
      "raj 17 jt\n"
     ]
    }
   ],
   "source": [
    "class Catlog:\n",
    "    schools='ktv hr school'\n",
    "    def __init__(self):\n",
    "        self.name='raj'\n",
    "        self.age='17'\n",
    "c1=Catlog()\n",
    "c2=Catlog()\n",
    "c1.name='vino'   #instance variable\n",
    "#c1.schools='jt'\n",
    "Catlog.schools='jt'   #class variable\n",
    "print(c1.name,c1.age,c1.schools)\n",
    "print(c2.name,c2.age,c2.schools)\n",
    "        "
   ]
  },
  {
   "cell_type": "markdown",
   "id": "550f5d71",
   "metadata": {},
   "source": [
    "# Types of methods"
   ]
  },
  {
   "cell_type": "markdown",
   "id": "610053a2",
   "metadata": {},
   "source": [
    "### 1.instance method\n",
    "### 2.class method\n",
    "### 3. static method"
   ]
  },
  {
   "cell_type": "code",
   "execution_count": 56,
   "id": "faf94df9",
   "metadata": {},
   "outputs": [
    {
     "name": "stdout",
     "output_type": "stream",
     "text": [
      "49.666666666666664\n"
     ]
    },
    {
     "ename": "TypeError",
     "evalue": "info() missing 1 required positional argument: 'cls'",
     "output_type": "error",
     "traceback": [
      "\u001b[1;31m---------------------------------------------------------------------------\u001b[0m",
      "\u001b[1;31mTypeError\u001b[0m                                 Traceback (most recent call last)",
      "\u001b[1;32m<ipython-input-56-0089e07eca2c>\u001b[0m in \u001b[0;36m<module>\u001b[1;34m\u001b[0m\n\u001b[0;32m     24\u001b[0m \u001b[0ms2\u001b[0m\u001b[1;33m=\u001b[0m\u001b[0mStudent\u001b[0m\u001b[1;33m(\u001b[0m\u001b[1;36m43\u001b[0m\u001b[1;33m,\u001b[0m\u001b[1;36m23\u001b[0m\u001b[1;33m,\u001b[0m\u001b[1;36m78\u001b[0m\u001b[1;33m)\u001b[0m\u001b[1;33m\u001b[0m\u001b[1;33m\u001b[0m\u001b[0m\n\u001b[0;32m     25\u001b[0m \u001b[0mprint\u001b[0m\u001b[1;33m(\u001b[0m\u001b[0ms1\u001b[0m\u001b[1;33m.\u001b[0m\u001b[0mavg\u001b[0m\u001b[1;33m(\u001b[0m\u001b[1;33m)\u001b[0m\u001b[1;33m)\u001b[0m\u001b[1;33m\u001b[0m\u001b[1;33m\u001b[0m\u001b[0m\n\u001b[1;32m---> 26\u001b[1;33m \u001b[0mprint\u001b[0m\u001b[1;33m(\u001b[0m\u001b[0mStudent\u001b[0m\u001b[1;33m.\u001b[0m\u001b[0minfo\u001b[0m\u001b[1;33m(\u001b[0m\u001b[1;33m)\u001b[0m\u001b[1;33m)\u001b[0m\u001b[1;33m\u001b[0m\u001b[1;33m\u001b[0m\u001b[0m\n\u001b[0m\u001b[0;32m     27\u001b[0m \u001b[1;33m\u001b[0m\u001b[0m\n",
      "\u001b[1;31mTypeError\u001b[0m: info() missing 1 required positional argument: 'cls'"
     ]
    }
   ],
   "source": [
    "class Student:\n",
    "    college='srv'\n",
    "    def __init__(self,m1,m2,m3):\n",
    "        self.m1=m1\n",
    "        self.m2=m2\n",
    "        self.m3=m3\n",
    "   #by using these 3 marks i want avg mrk of student\n",
    "   \n",
    "                     #accessor method,mutator method\n",
    "    # instance method  (accessor) \n",
    "    def avg(self):\n",
    "        return (self.m1 + self.m2 + self.m3 )/3\n",
    "    \n",
    "    #instance(mutaator method)\n",
    "    def set_mark(self,value):\n",
    "        self.m1=value\n",
    "        \n",
    "    #class method\n",
    "    def info(cls):\n",
    "        return cls.school\n",
    "\n",
    "        \n",
    "s1=Student(50,69,30)\n",
    "s2=Student(43,23,78)\n",
    "print(s1.avg())\n",
    "print(Student.info())\n",
    "        "
   ]
  },
  {
   "cell_type": "code",
   "execution_count": 59,
   "id": "ff9d5a49",
   "metadata": {},
   "outputs": [
    {
     "name": "stdout",
     "output_type": "stream",
     "text": [
      "49.666666666666664\n",
      "this is student class and itis something static method\n",
      "None\n"
     ]
    },
    {
     "ename": "TypeError",
     "evalue": "info() takes 0 positional arguments but 1 was given",
     "output_type": "error",
     "traceback": [
      "\u001b[1;31m---------------------------------------------------------------------------\u001b[0m",
      "\u001b[1;31mTypeError\u001b[0m                                 Traceback (most recent call last)",
      "\u001b[1;32m<ipython-input-59-0e704097f458>\u001b[0m in \u001b[0;36m<module>\u001b[1;34m\u001b[0m\n\u001b[0;32m     29\u001b[0m \u001b[0mprint\u001b[0m\u001b[1;33m(\u001b[0m\u001b[0ms1\u001b[0m\u001b[1;33m.\u001b[0m\u001b[0mavg\u001b[0m\u001b[1;33m(\u001b[0m\u001b[1;33m)\u001b[0m\u001b[1;33m)\u001b[0m\u001b[1;33m\u001b[0m\u001b[1;33m\u001b[0m\u001b[0m\n\u001b[0;32m     30\u001b[0m \u001b[0mprint\u001b[0m\u001b[1;33m(\u001b[0m\u001b[0mStudent\u001b[0m\u001b[1;33m.\u001b[0m\u001b[0minfo\u001b[0m\u001b[1;33m(\u001b[0m\u001b[1;33m)\u001b[0m\u001b[1;33m)\u001b[0m\u001b[1;33m\u001b[0m\u001b[1;33m\u001b[0m\u001b[0m\n\u001b[1;32m---> 31\u001b[1;33m \u001b[0ms1\u001b[0m\u001b[1;33m.\u001b[0m\u001b[0minfo\u001b[0m\u001b[1;33m(\u001b[0m\u001b[1;33m)\u001b[0m\u001b[1;33m\u001b[0m\u001b[1;33m\u001b[0m\u001b[0m\n\u001b[0m",
      "\u001b[1;31mTypeError\u001b[0m: info() takes 0 positional arguments but 1 was given"
     ]
    }
   ],
   "source": [
    "class Student:\n",
    "    college='srv'\n",
    "    def __init__(self,m1,m2,m3):\n",
    "        self.m1=m1\n",
    "        self.m2=m2\n",
    "        self.m3=m3\n",
    "   #by using these 3 marks i want avg mrk of student\n",
    "   \n",
    "                     #accessor method,mutator method\n",
    "    # instance method  (accessor) \n",
    "    def avg(self):\n",
    "        return (self.m1 + self.m2 + self.m3 )/3\n",
    "    \n",
    "    #instance(mutaator method)\n",
    "    def set_mark(self,value):\n",
    "        self.m1=value\n",
    "        \n",
    "    #class method\n",
    "    @classmethod\n",
    "    def getschoolname(cls):\n",
    "        return cls.college\n",
    "    \n",
    "    def info():\n",
    "        print('this is student class and itis something static method')\n",
    "\n",
    "        \n",
    "s1=Student(50,69,30)\n",
    "s2=Student(43,23,78)\n",
    "print(s1.avg())\n",
    "print(Student.info())\n",
    "s1.info()"
   ]
  },
  {
   "cell_type": "code",
   "execution_count": 13,
   "id": "5911b85c",
   "metadata": {},
   "outputs": [
    {
     "data": {
      "text/plain": [
       "'C:\\\\Users\\\\2124259\\\\OneDrive - Cognizant\\\\Desktop\\\\PYTHON\\\\oops\\\\basic concepts'"
      ]
     },
     "execution_count": 13,
     "metadata": {},
     "output_type": "execute_result"
    }
   ],
   "source": [
    "pwd"
   ]
  },
  {
   "cell_type": "code",
   "execution_count": 62,
   "id": "689eceb0",
   "metadata": {},
   "outputs": [
    {
     "name": "stdout",
     "output_type": "stream",
     "text": [
      "49.666666666666664\n",
      "this is student class and itis something static method\n",
      "None\n",
      "this is student class and itis something static method\n",
      "this is student class and itis something static method\n"
     ]
    }
   ],
   "source": [
    "class Student:\n",
    "    college='srv'\n",
    "    def __init__(self,m1,m2,m3):\n",
    "        self.m1=m1\n",
    "        self.m2=m2\n",
    "        self.m3=m3\n",
    "   #by using these 3 marks i want avg mrk of student\n",
    "   \n",
    "                     #accessor method,mutator method\n",
    "    # instance method  (accessor) \n",
    "    def avg(self):\n",
    "        return (self.m1 + self.m2 + self.m3 )/3\n",
    "    \n",
    "    #instance(mutaator method)\n",
    "    def set_mark(self,value):\n",
    "        self.m1=value\n",
    "        \n",
    "    #class method\n",
    "    @classmethod\n",
    "    def getschoolname(cls):\n",
    "        return cls.college\n",
    "    @staticmethod  #**___\n",
    "    def info():\n",
    "        print('this is student class and itis something static method')\n",
    "\n",
    "        \n",
    "s1=Student(50,69,30)\n",
    "s2=Student(43,23,78)\n",
    "print(s1.avg())\n",
    "print(Student.info())\n",
    "s1.info()   #****\n",
    "Student.info()   #***"
   ]
  },
  {
   "cell_type": "code",
   "execution_count": 14,
   "id": "6b33d9fb",
   "metadata": {},
   "outputs": [],
   "source": [
    "import os"
   ]
  },
  {
   "cell_type": "code",
   "execution_count": 15,
   "id": "3f6b4f6d",
   "metadata": {},
   "outputs": [
    {
     "name": "stdout",
     "output_type": "stream",
     "text": [
      "nt\n"
     ]
    }
   ],
   "source": [
    "print(os.name)"
   ]
  },
  {
   "cell_type": "markdown",
   "id": "e8b35da0",
   "metadata": {},
   "source": [
    "https://www.geeksforgeeks.org/os-module-python-examples/"
   ]
  },
  {
   "cell_type": "code",
   "execution_count": null,
   "id": "8126a01b",
   "metadata": {},
   "outputs": [],
   "source": []
  }
 ],
 "metadata": {
  "kernelspec": {
   "display_name": "Python 3",
   "language": "python",
   "name": "python3"
  },
  "language_info": {
   "codemirror_mode": {
    "name": "ipython",
    "version": 3
   },
   "file_extension": ".py",
   "mimetype": "text/x-python",
   "name": "python",
   "nbconvert_exporter": "python",
   "pygments_lexer": "ipython3",
   "version": "3.8.8"
  }
 },
 "nbformat": 4,
 "nbformat_minor": 5
}
