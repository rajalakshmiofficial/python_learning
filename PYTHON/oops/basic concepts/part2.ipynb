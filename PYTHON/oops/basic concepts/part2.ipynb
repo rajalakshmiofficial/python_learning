{
 "cells": [
  {
   "cell_type": "markdown",
   "id": "e44549ff",
   "metadata": {},
   "source": [
    "### Class variables"
   ]
  },
  {
   "cell_type": "markdown",
   "id": "bbfc0f8c",
   "metadata": {},
   "source": [
    "class variable doesnot need self keyword"
   ]
  },
  {
   "cell_type": "code",
   "execution_count": 11,
   "id": "ac572f29",
   "metadata": {},
   "outputs": [
    {
     "name": "stdout",
     "output_type": "stream",
     "text": [
      "{'first': 'Corey', 'last': 'Schafer', 'email': 'Corey.Schafer@email.com', 'pay': 50000}\n",
      "50000\n",
      "75000\n"
     ]
    }
   ],
   "source": [
    "class Employee:\n",
    "    \n",
    "    def __init__(self, first, last, pay):\n",
    "        self.first = first\n",
    "        self.last = last\n",
    "        self.email = first + '.' + last + '@email.com'\n",
    "        self.pay = pay\n",
    "\n",
    "    def fullname(self):\n",
    "        return '{} {}'.format(self.first, self.last)\n",
    "    \n",
    "    def apply_raise(self):\n",
    "        self.pay=int(self.pay*1.5)\n",
    "\n",
    "emp_1 = Employee('Corey', 'Schafer', 50000)\n",
    "emp_2 = Employee('Test', 'Employee', 60000)\n",
    "print(emp_1.__dict__)\n",
    "print(emp_1.pay)\n",
    "emp_1.apply_raise()  ##note\n",
    "print(emp_1.pay)\n"
   ]
  },
  {
   "cell_type": "markdown",
   "id": "d3a2b3af",
   "metadata": {},
   "source": [
    "instead of hardcoding 1.5 we can use class variable so we can use more benefits. if we want to raise amount of emp1 or entire employee class currentlly we dont have attribute raise amount so we use class variable so we can easily update amount. we dont want to go manually go and change it in multiple locations"
   ]
  },
  {
   "cell_type": "code",
   "execution_count": 12,
   "id": "080a1f4b",
   "metadata": {},
   "outputs": [
    {
     "name": "stdout",
     "output_type": "stream",
     "text": [
      "50000\n",
      "75000\n"
     ]
    }
   ],
   "source": [
    "class Employee:\n",
    "    raise_amount=1.5\n",
    "    def __init__(self, first, last, pay):\n",
    "        self.first = first\n",
    "        self.last = last\n",
    "        self.email = first + '.' + last + '@email.com'\n",
    "        self.pay = pay\n",
    "\n",
    "    def fullname(self):\n",
    "        return '{} {}'.format(self.first, self.last)\n",
    "    \n",
    "    def apply_raise(self):\n",
    "        self.pay=int(self.pay*self.raise_amount)\n",
    "        return self.pay\n",
    "        ###note here we can put either self./Employee but self. is beeter to change each instance as we want\n",
    "        #self.pay=int(self.pay*Employee.raise_amount)\n",
    "emp_1 = Employee('Corey', 'Schafer', 50000)\n",
    "emp_2 = Employee('Test', 'Employee', 60000)\n",
    "\n",
    "print(emp_1.pay)\n",
    "emp_1.apply_raise()  ##note\n",
    "print(emp_1.pay)"
   ]
  },
  {
   "cell_type": "code",
   "execution_count": 13,
   "id": "37c5e5f6",
   "metadata": {},
   "outputs": [
    {
     "name": "stdout",
     "output_type": "stream",
     "text": [
      "1.5\n",
      "amount is 90000\n",
      "{'first': 'Test', 'last': 'Employee', 'email': 'Test.Employee@email.com', 'pay': 60000}\n",
      "{'first': 'Test', 'last': 'Employee', 'email': 'Test.Employee@email.com', 'pay': 60000, 'raise_amount': 1.7}\n",
      "{'first': 'Corey', 'last': 'Schafer', 'email': 'Corey.Schafer@email.com', 'pay': 90000, 'raise_amount': 1.8}\n",
      "1.5\n",
      "1.8\n",
      "1.7\n",
      "1.5\n"
     ]
    }
   ],
   "source": [
    "class Employee:\n",
    "    raise_amount=1.5\n",
    "    def __init__(self, first, last, pay):\n",
    "        self.first = first\n",
    "        self.last = last\n",
    "        self.email = first + '.' + last + '@email.com'\n",
    "        self.pay = pay\n",
    "\n",
    "    def fullname(self):\n",
    "        return '{} {}'.format(self.first, self.last)\n",
    "    \n",
    "    def apply_raise(self):\n",
    "        #self.pay=int(self.pay* self.raise_amount)###note here we can put either self./Employee but self. is beeter to change each instance as we want\n",
    "        self.pay=int(self.pay*self.raise_amount)\n",
    "        return self.pay\n",
    "emp_1 = Employee('Corey', 'Schafer', 50000)\n",
    "emp_2 = Employee('Test', 'Employee', 60000)\n",
    "emp_3 = Employee('Test11', 'Employee1', 40000)\n",
    "print(emp_1.raise_amount)\n",
    "#print('amount is',emp_1.apply_raise())\n",
    "emp_1.raise_amount=1.8\n",
    "print('amount is',emp_1.apply_raise())\n",
    "print(emp_2.__dict__)\n",
    "emp_2.raise_amount=1.7#check cmd nd uncmd this line\n",
    "print(emp_2.__dict__)\n",
    "print(emp_1.__dict__)\n",
    "print(Employee.raise_amount)\n",
    "print(emp_1.raise_amount)\n",
    "print(emp_2.raise_amount)\n",
    "print(emp_3.raise_amount)"
   ]
  },
  {
   "cell_type": "markdown",
   "id": "4adbab12",
   "metadata": {},
   "source": [
    "### i want to know how many employees there in class/how many instances is there"
   ]
  },
  {
   "cell_type": "code",
   "execution_count": 8,
   "id": "1dcfd746",
   "metadata": {},
   "outputs": [
    {
     "name": "stdout",
     "output_type": "stream",
     "text": [
      "1.5\n",
      "amount is 75000\n",
      "1.8\n",
      "amount is 112500\n",
      "3\n"
     ]
    }
   ],
   "source": [
    "class Employee:\n",
    "    num_of_employees=0\n",
    "    raise_amount=1.5\n",
    "    def __init__(self, first, last, pay):\n",
    "        self.first = first\n",
    "        self.last = last\n",
    "        self.email = first + '.' + last + '@email.com'\n",
    "        self.pay = pay\n",
    "        Employee.num_of_employees += 1   #instead of self.numof employees use employee. bcz this is class variable\n",
    "\n",
    "    def fullname(self):\n",
    "        return '{} {}'.format(self.first, self.last)\n",
    "    \n",
    "    def apply_raise(self):\n",
    "        #self.pay=int(self.pay* self.raise_amount)###note here we can put either self./Employee but self. is beeter to change each instance as we want\n",
    "        self.pay=int(self.pay*Employee.raise_amount)\n",
    "        return self.pay\n",
    "emp_1 = Employee('Corey', 'Schafer', 50000)\n",
    "print(emp_1.raise_amount)\n",
    "print('amount is',emp_1.apply_raise())\n",
    "emp_1.raise_amount=1.8\n",
    "print(emp_1.raise_amount)\n",
    "print('amount is',emp_1.apply_raise())\n",
    "emp_2 = Employee('Test', 'Employee', 60000)\n",
    "emp_3 = Employee('Test11', 'Employee1', 40000)\n",
    "print(Employee.num_of_employees)"
   ]
  },
  {
   "cell_type": "markdown",
   "id": "44b9bbc7",
   "metadata": {},
   "source": [
    "initialize 0. and each time when we create employee it will be increment by 1. since init method run every time when we create new employee"
   ]
  },
  {
   "cell_type": "code",
   "execution_count": null,
   "id": "fbaee79a",
   "metadata": {},
   "outputs": [],
   "source": []
  }
 ],
 "metadata": {
  "kernelspec": {
   "display_name": "Python 3",
   "language": "python",
   "name": "python3"
  },
  "language_info": {
   "codemirror_mode": {
    "name": "ipython",
    "version": 3
   },
   "file_extension": ".py",
   "mimetype": "text/x-python",
   "name": "python",
   "nbconvert_exporter": "python",
   "pygments_lexer": "ipython3",
   "version": "3.8.8"
  }
 },
 "nbformat": 4,
 "nbformat_minor": 5
}
