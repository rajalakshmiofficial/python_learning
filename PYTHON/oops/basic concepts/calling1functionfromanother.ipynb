{
 "cells": [
  {
   "cell_type": "markdown",
   "id": "d5fd64db",
   "metadata": {},
   "source": [
    "https://www.geeksforgeeks.org/python-call-function-from-another-function/"
   ]
  },
  {
   "cell_type": "code",
   "execution_count": 1,
   "id": "a66c34e0",
   "metadata": {},
   "outputs": [
    {
     "name": "stdout",
     "output_type": "stream",
     "text": [
      "Function2 :  Hello\n",
      "Function1 :  World\n"
     ]
    }
   ],
   "source": [
    "# Python code to demonstrate calling parent class\n",
    "# method from the child class method\n",
    "\n",
    "class Parent:\n",
    "\n",
    "# constructor of Parent class\n",
    "\tdef __init__(self):\n",
    "\t\t# Initialization of the Strings\n",
    "\t\tself.String1 =\"Hello\"\n",
    "\t\tself.String2 =\"World\"\n",
    "\n",
    "\tdef Function2(self):\n",
    "\t\tprint(\"Function2 : \", self.String1)\n",
    "\t\t#return\n",
    "\n",
    "# Child class is inheriting from Parent class\n",
    "class Child(Parent):\n",
    "\n",
    "\tdef Function1(self):\n",
    "\t\t# calling Function2 Method in parent class\n",
    "\t\tself.Function2()\n",
    "\t\tprint(\"Function1 : \", self.String2)\n",
    "\t\treturn\n",
    "\n",
    "### Instance of Parent class\n",
    "Object1 = Parent()\n",
    "\n",
    "### Instance of Child class\n",
    "Object2 = Child()\n",
    "\n",
    "# Calling Function1 using Child class instance\n",
    "Object2.Function1()\n"
   ]
  },
  {
   "cell_type": "code",
   "execution_count": 2,
   "id": "cb724490",
   "metadata": {},
   "outputs": [
    {
     "name": "stdout",
     "output_type": "stream",
     "text": [
      "Function2 :  Hello\n",
      "Function1 :  World\n"
     ]
    }
   ],
   "source": [
    "'''\n",
    "Call a function from within another function\n",
    "in the same class in Python\n",
    "'''\n",
    "\n",
    "class Main:\n",
    "\n",
    "\t# constructor of Main class\n",
    "\tdef __init__(self):\n",
    "\t\t# Initialization of the Strings\n",
    "\t\tself.String1 =\"Hello\"\n",
    "\t\tself.String2 =\"World\"\n",
    "\n",
    "\tdef Function1(self):\n",
    "\t\t# calling Function2 Method\n",
    "\t\tself.Function2()\n",
    "\t\tprint(\"Function1 : \", self.String2)\n",
    "\t\treturn\n",
    "\n",
    "\tdef Function2(self):\n",
    "\t\tprint(\"Function2 : \", self.String1)\n",
    "\t\treturn\n",
    "\n",
    "# Instance of Class Main\n",
    "Object = Main()\n",
    "\n",
    "# Calling Function1\n",
    "Object.Function1()\n"
   ]
  },
  {
   "cell_type": "code",
   "execution_count": null,
   "id": "bc9d12fa",
   "metadata": {},
   "outputs": [],
   "source": []
  }
 ],
 "metadata": {
  "kernelspec": {
   "display_name": "Python 3",
   "language": "python",
   "name": "python3"
  },
  "language_info": {
   "codemirror_mode": {
    "name": "ipython",
    "version": 3
   },
   "file_extension": ".py",
   "mimetype": "text/x-python",
   "name": "python",
   "nbconvert_exporter": "python",
   "pygments_lexer": "ipython3",
   "version": "3.8.8"
  }
 },
 "nbformat": 4,
 "nbformat_minor": 5
}
