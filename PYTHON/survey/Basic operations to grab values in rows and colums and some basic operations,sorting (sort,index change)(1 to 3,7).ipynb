{
 "cells": [
  {
   "cell_type": "code",
   "execution_count": null,
   "id": "2a084533",
   "metadata": {},
   "outputs": [],
   "source": [
    "import pandas as pd"
   ]
  },
  {
   "cell_type": "code",
   "execution_count": null,
   "id": "5a831ffe",
   "metadata": {},
   "outputs": [],
   "source": [
    "df=pd.read_csv('C:\\\\Users\\\\2124259\\\\Downloads\\\\python practice\\survey\\survey_results_public.csv')\n",
    "\n",
    "        "
   ]
  },
  {
   "cell_type": "code",
   "execution_count": null,
   "id": "e354cc84",
   "metadata": {},
   "outputs": [],
   "source": [
    "df\n"
   ]
  },
  {
   "cell_type": "code",
   "execution_count": null,
   "id": "83e2c176",
   "metadata": {},
   "outputs": [],
   "source": [
    "\n",
    "df.shape    #no of rows and columns"
   ]
  },
  {
   "cell_type": "code",
   "execution_count": null,
   "id": "71bbcfa7",
   "metadata": {},
   "outputs": [],
   "source": [
    "df.info"
   ]
  },
  {
   "cell_type": "code",
   "execution_count": null,
   "id": "e650ff65",
   "metadata": {},
   "outputs": [],
   "source": [
    "df.info()"
   ]
  },
  {
   "cell_type": "code",
   "execution_count": null,
   "id": "4e04cb3c",
   "metadata": {},
   "outputs": [],
   "source": [
    "df.tail(10)"
   ]
  },
  {
   "cell_type": "code",
   "execution_count": null,
   "id": "c3ebcf2e",
   "metadata": {},
   "outputs": [],
   "source": [
    "pd.set_option('display.max_columns',61)"
   ]
  },
  {
   "cell_type": "code",
   "execution_count": null,
   "id": "9a889eb5",
   "metadata": {},
   "outputs": [],
   "source": [
    "schema_df=pd.read_csv('C:\\\\Users\\\\2124259\\\\Downloads\\\\python practice\\survey\\survey_results_schema.csv')\n"
   ]
  },
  {
   "cell_type": "code",
   "execution_count": null,
   "id": "c91a956e",
   "metadata": {},
   "outputs": [],
   "source": [
    "schema_df"
   ]
  },
  {
   "cell_type": "code",
   "execution_count": null,
   "id": "fc10a4e7",
   "metadata": {},
   "outputs": [],
   "source": [
    "df.head(10)"
   ]
  },
  {
   "cell_type": "code",
   "execution_count": null,
   "id": "43c96d8e",
   "metadata": {},
   "outputs": [],
   "source": [
    "schema_df.tail(10)"
   ]
  },
  {
   "cell_type": "code",
   "execution_count": null,
   "id": "86095a32",
   "metadata": {},
   "outputs": [],
   "source": [
    "schema_df['Column']"
   ]
  },
  {
   "cell_type": "code",
   "execution_count": null,
   "id": "fb5ca884",
   "metadata": {},
   "outputs": [],
   "source": [
    "schema_df.loc['Country']"
   ]
  },
  {
   "cell_type": "code",
   "execution_count": null,
   "id": "483a99fa",
   "metadata": {},
   "outputs": [],
   "source": [
    "pd.set_option('display.max_columns',60)\n",
    "pd.set_option('display.max_rows',60)"
   ]
  },
  {
   "cell_type": "code",
   "execution_count": null,
   "id": "a43d68de",
   "metadata": {},
   "outputs": [],
   "source": [
    "import pandas as pd"
   ]
  },
  {
   "cell_type": "code",
   "execution_count": null,
   "id": "da0eee24",
   "metadata": {},
   "outputs": [],
   "source": [
    "data={'Department no':[1,2,3,4],\n",
    "      'Department name':['Dental','ENT','Skin','Orthopedic'],\n",
    "      'Doctor Name':['Jone','Joes','Ravivarma','David'],\n",
    "     'phone number': ['944','890','866','877']}\n"
   ]
  },
  {
   "cell_type": "code",
   "execution_count": null,
   "id": "7ef5ccde",
   "metadata": {},
   "outputs": [],
   "source": [
    "df=pd.DataFrame(data)\n",
    "df"
   ]
  },
  {
   "cell_type": "code",
   "execution_count": null,
   "id": "2f28bef9",
   "metadata": {},
   "outputs": [],
   "source": [
    "data['Department name']"
   ]
  },
  {
   "cell_type": "code",
   "execution_count": null,
   "id": "7206b201",
   "metadata": {},
   "outputs": [],
   "source": [
    "df['Doctor Name']"
   ]
  },
  {
   "cell_type": "code",
   "execution_count": null,
   "id": "f99ecf0c",
   "metadata": {},
   "outputs": [],
   "source": [
    "schema_df['Country']"
   ]
  },
  {
   "cell_type": "code",
   "execution_count": null,
   "id": "8fb3ca03",
   "metadata": {},
   "outputs": [],
   "source": [
    "df[['Doctor Name','Department name']]"
   ]
  },
  {
   "cell_type": "code",
   "execution_count": null,
   "id": "5d2a1f3c",
   "metadata": {},
   "outputs": [],
   "source": [
    "type(df['Department name'])"
   ]
  },
  {
   "cell_type": "code",
   "execution_count": null,
   "id": "156dacac",
   "metadata": {},
   "outputs": [],
   "source": [
    "df.iloc[0]   #0th row called  with its headings"
   ]
  },
  {
   "cell_type": "code",
   "execution_count": null,
   "id": "220214a9",
   "metadata": {},
   "outputs": [],
   "source": [
    "df.iloc[[0,1,2,3]]"
   ]
  },
  {
   "cell_type": "code",
   "execution_count": null,
   "id": "5e94a902",
   "metadata": {},
   "outputs": [],
   "source": [
    "df.iloc[0:4]   #slicing no need bracket"
   ]
  },
  {
   "cell_type": "code",
   "execution_count": null,
   "id": "1eb8faa7",
   "metadata": {},
   "outputs": [],
   "source": [
    "df.iloc[[0,1],2]   #iloc means we can access using index ist one is row, column"
   ]
  },
  {
   "cell_type": "code",
   "execution_count": null,
   "id": "893a4504",
   "metadata": {},
   "outputs": [],
   "source": [
    "df.iloc[0:3,0:2]    #slicing"
   ]
  },
  {
   "cell_type": "code",
   "execution_count": null,
   "id": "e753d544",
   "metadata": {},
   "outputs": [],
   "source": [
    "df.loc[[0,1,2]]  #all columns accessed if you want particular column give this as ,"
   ]
  },
  {
   "cell_type": "code",
   "execution_count": null,
   "id": "2e7e02bd",
   "metadata": {},
   "outputs": [],
   "source": [
    "df.loc[[0,1],['Department name','Doctor Name']]   #loc means we can only pass objects as string not index"
   ]
  },
  {
   "cell_type": "code",
   "execution_count": null,
   "id": "efd06297",
   "metadata": {},
   "outputs": [],
   "source": [
    "df.shape"
   ]
  },
  {
   "cell_type": "code",
   "execution_count": null,
   "id": "51d4b083",
   "metadata": {},
   "outputs": [],
   "source": [
    "df.info"
   ]
  },
  {
   "cell_type": "code",
   "execution_count": null,
   "id": "327f836e",
   "metadata": {},
   "outputs": [],
   "source": [
    "df.info()"
   ]
  },
  {
   "cell_type": "code",
   "execution_count": null,
   "id": "fc0943e8",
   "metadata": {},
   "outputs": [],
   "source": [
    "df.set_index('Department no')"
   ]
  },
  {
   "cell_type": "code",
   "execution_count": null,
   "id": "64a77440",
   "metadata": {},
   "outputs": [],
   "source": [
    "df"
   ]
  },
  {
   "cell_type": "code",
   "execution_count": null,
   "id": "103a4b75",
   "metadata": {},
   "outputs": [],
   "source": [
    "df.set_index('Department no', inplace=True)   #set index use only() not []"
   ]
  },
  {
   "cell_type": "code",
   "execution_count": null,
   "id": "16ab4a12",
   "metadata": {},
   "outputs": [],
   "source": [
    "df"
   ]
  },
  {
   "cell_type": "code",
   "execution_count": null,
   "id": "41a47cbb",
   "metadata": {},
   "outputs": [],
   "source": [
    "df['Department name'].value_counts()"
   ]
  },
  {
   "cell_type": "code",
   "execution_count": null,
   "id": "d99d8a04",
   "metadata": {},
   "outputs": [],
   "source": [
    "df['Department name']   #particular columa heading vachu acess panalam with index"
   ]
  },
  {
   "cell_type": "code",
   "execution_count": null,
   "id": "7f61f859",
   "metadata": {},
   "outputs": [],
   "source": [
    "df.loc[0:4,'Department name':'phone number']"
   ]
  },
  {
   "cell_type": "code",
   "execution_count": null,
   "id": "6dccbf1b",
   "metadata": {},
   "outputs": [],
   "source": [
    "df.sort_index()"
   ]
  },
  {
   "cell_type": "code",
   "execution_count": null,
   "id": "a378c32c",
   "metadata": {},
   "outputs": [],
   "source": [
    "df.set_index('Department name',inplace=True)"
   ]
  },
  {
   "cell_type": "code",
   "execution_count": null,
   "id": "c597e9a9",
   "metadata": {},
   "outputs": [],
   "source": [
    "df"
   ]
  },
  {
   "cell_type": "code",
   "execution_count": null,
   "id": "b35fe2c0",
   "metadata": {},
   "outputs": [],
   "source": [
    "df.sort_index()"
   ]
  },
  {
   "cell_type": "code",
   "execution_count": null,
   "id": "9907951b",
   "metadata": {},
   "outputs": [],
   "source": [
    "df.loc['Orthopedic','phone number']"
   ]
  },
  {
   "cell_type": "code",
   "execution_count": null,
   "id": "e309d160",
   "metadata": {},
   "outputs": [],
   "source": [
    "df.loc['Skin','Doctor Name']"
   ]
  },
  {
   "cell_type": "code",
   "execution_count": null,
   "id": "6d665b59",
   "metadata": {},
   "outputs": [],
   "source": [
    "df.sort_index    #attributes some datas missed"
   ]
  },
  {
   "cell_type": "code",
   "execution_count": null,
   "id": "c42d9677",
   "metadata": {},
   "outputs": [],
   "source": [
    "df.index"
   ]
  },
  {
   "cell_type": "code",
   "execution_count": null,
   "id": "6bab3918",
   "metadata": {},
   "outputs": [],
   "source": [
    "df.loc['Orthopedic']"
   ]
  },
  {
   "cell_type": "code",
   "execution_count": null,
   "id": "79f4a143",
   "metadata": {},
   "outputs": [],
   "source": [
    "df.reset_index(inplace=True)"
   ]
  },
  {
   "cell_type": "code",
   "execution_count": null,
   "id": "6f1f0697",
   "metadata": {},
   "outputs": [],
   "source": [
    "df"
   ]
  },
  {
   "cell_type": "code",
   "execution_count": null,
   "id": "5e7640c2",
   "metadata": {},
   "outputs": [],
   "source": []
  }
 ],
 "metadata": {
  "kernelspec": {
   "display_name": "Python 3",
   "language": "python",
   "name": "python3"
  },
  "language_info": {
   "codemirror_mode": {
    "name": "ipython",
    "version": 3
   },
   "file_extension": ".py",
   "mimetype": "text/x-python",
   "name": "python",
   "nbconvert_exporter": "python",
   "pygments_lexer": "ipython3",
   "version": "3.8.8"
  }
 },
 "nbformat": 4,
 "nbformat_minor": 5
}
