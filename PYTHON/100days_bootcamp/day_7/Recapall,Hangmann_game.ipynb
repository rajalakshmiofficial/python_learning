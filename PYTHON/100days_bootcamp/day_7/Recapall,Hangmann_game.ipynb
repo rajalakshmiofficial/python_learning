{
 "cells": [
  {
   "cell_type": "markdown",
   "id": "744e0e88",
   "metadata": {},
   "source": [
    "#### Resources"
   ]
  },
  {
   "cell_type": "markdown",
   "id": "44f9a08a",
   "metadata": {},
   "source": [
    "https://replit.com/@appbrewery/Day-7-Hangman-5-End#main.py\n",
    "https://www.askpython.com/python/python-import-statement\n",
    "https://developers.google.com/edu/python/lists#for-and-in"
   ]
  },
  {
   "cell_type": "code",
   "execution_count": 3,
   "id": "9f269b76",
   "metadata": {},
   "outputs": [],
   "source": [
    "x=5\n",
    "y=2\n",
    "if x>0:\n",
    "    if y>5:\n",
    "        print('hi')\n",
    "    #else:\n",
    "        #print('a')\n",
    "else:\n",
    "    print('hello')"
   ]
  },
  {
   "cell_type": "markdown",
   "id": "9ae1aab7",
   "metadata": {},
   "source": [
    "### Continue\n",
    "\n"
   ]
  },
  {
   "cell_type": "code",
   "execution_count": 4,
   "id": "765c2153",
   "metadata": {},
   "outputs": [
    {
     "name": "stdout",
     "output_type": "stream",
     "text": [
      "s\n",
      "t\n",
      "r\n",
      "match\n",
      "n\n",
      "g\n"
     ]
    }
   ],
   "source": [
    "new='string'\n",
    "for item in new:\n",
    "    if item=='i':\n",
    "        print('match')\n",
    "        continue\n",
    "        print('hi')\n",
    "    else:\n",
    "        print(item)"
   ]
  },
  {
   "cell_type": "markdown",
   "id": "df344f16",
   "metadata": {},
   "source": [
    "### break"
   ]
  },
  {
   "cell_type": "code",
   "execution_count": 5,
   "id": "1a89ac8e",
   "metadata": {},
   "outputs": [
    {
     "name": "stdout",
     "output_type": "stream",
     "text": [
      "s\n",
      "t\n",
      "r\n",
      "match\n"
     ]
    }
   ],
   "source": [
    "new='string'\n",
    "for item in new:\n",
    "    if item=='i':\n",
    "        print('match')\n",
    "        break\n",
    "        print('hi')\n",
    "    else:\n",
    "        print(item)"
   ]
  },
  {
   "cell_type": "code",
   "execution_count": 6,
   "id": "d946e336",
   "metadata": {},
   "outputs": [
    {
     "name": "stdout",
     "output_type": "stream",
     "text": [
      "s\n",
      "t\n",
      "r\n",
      "hi\n",
      "n\n",
      "g\n"
     ]
    }
   ],
   "source": [
    "new='string'\n",
    "for item in new:\n",
    "    if item=='i':\n",
    "        pass\n",
    "        print('hi')\n",
    "       \n",
    "    else:\n",
    "        print(item)"
   ]
  },
  {
   "cell_type": "code",
   "execution_count": 7,
   "id": "81b04733",
   "metadata": {},
   "outputs": [
    {
     "name": "stdout",
     "output_type": "stream",
     "text": [
      "hi\n"
     ]
    }
   ],
   "source": [
    "for item in new:\n",
    "    pass\n",
    "print('hi')    \n",
    "    "
   ]
  },
  {
   "cell_type": "code",
   "execution_count": 8,
   "id": "f59bdaef",
   "metadata": {},
   "outputs": [],
   "source": [
    "mylist1 = [1,2,3,4,5]\n",
    "from random import shuffle\n",
    "shuffle(mylist1)"
   ]
  },
  {
   "cell_type": "code",
   "execution_count": 9,
   "id": "613f030d",
   "metadata": {},
   "outputs": [
    {
     "data": {
      "text/plain": [
       "[1, 4, 5, 2, 3]"
      ]
     },
     "execution_count": 9,
     "metadata": {},
     "output_type": "execute_result"
    }
   ],
   "source": [
    "mylist1"
   ]
  },
  {
   "cell_type": "code",
   "execution_count": 10,
   "id": "cb91fd58",
   "metadata": {},
   "outputs": [
    {
     "data": {
      "text/plain": [
       "[1, 4, 5, 2, 3]"
      ]
     },
     "execution_count": 10,
     "metadata": {},
     "output_type": "execute_result"
    }
   ],
   "source": [
    "mylist1"
   ]
  },
  {
   "cell_type": "code",
   "execution_count": 11,
   "id": "c3fd3f2e",
   "metadata": {},
   "outputs": [
    {
     "data": {
      "text/plain": [
       "[0, 1, 16, 81, 256, 625, 1296, 2401, 4096, 6561, 10000]"
      ]
     },
     "execution_count": 11,
     "metadata": {},
     "output_type": "execute_result"
    }
   ],
   "source": [
    "lst = [ x**2 for x in [x**2 for x in range(11)]]\n",
    "lst"
   ]
  },
  {
   "cell_type": "code",
   "execution_count": 12,
   "id": "e86c406b",
   "metadata": {},
   "outputs": [
    {
     "data": {
      "text/plain": [
       "[0, 1, 4, 9, 16, 25, 36, 49, 64, 81, 100]"
      ]
     },
     "execution_count": 12,
     "metadata": {},
     "output_type": "execute_result"
    }
   ],
   "source": [
    "lst = [x**2 for x in range(11)]\n",
    "lst"
   ]
  },
  {
   "cell_type": "code",
   "execution_count": 13,
   "id": "557305fb",
   "metadata": {},
   "outputs": [
    {
     "data": {
      "text/plain": [
       "[0, 2, 4, 6, 8, 10]"
      ]
     },
     "execution_count": 13,
     "metadata": {},
     "output_type": "execute_result"
    }
   ],
   "source": [
    "# Check for even numbers in a range\n",
    "lst = [x for x in range(11) if x % 2 == 0]\n",
    "lst"
   ]
  },
  {
   "cell_type": "code",
   "execution_count": 14,
   "id": "9cf8980a",
   "metadata": {},
   "outputs": [
    {
     "data": {
      "text/plain": [
       "[32.0, 50.0, 68.18, 94.1]"
      ]
     },
     "execution_count": 14,
     "metadata": {},
     "output_type": "execute_result"
    }
   ],
   "source": [
    "# Convert Celsius to Fahrenheit\n",
    "celsius = [0,10,20.1,34.5]\n",
    "\n",
    "fahrenheit = [((9/5)*temp + 32) for temp in celsius ]\n",
    "\n",
    "fahrenheit"
   ]
  },
  {
   "cell_type": "code",
   "execution_count": 15,
   "id": "23a1f20e",
   "metadata": {},
   "outputs": [
    {
     "data": {
      "text/plain": [
       "[32.0, 50.0, 68.18, 94.1]"
      ]
     },
     "execution_count": 15,
     "metadata": {},
     "output_type": "execute_result"
    }
   ],
   "source": [
    "fahrenheit=[]\n",
    "celsius = [0,10,20.1,34.5]\n",
    "for temp in celsius:\n",
    "    a=(9/5)*temp + 32\n",
    "    fahrenheit.append(a)\n",
    "    \n",
    "fahrenheit    \n",
    "    \n"
   ]
  },
  {
   "cell_type": "code",
   "execution_count": 16,
   "id": "3082251d",
   "metadata": {},
   "outputs": [
    {
     "data": {
      "text/plain": [
       "[32.0, 50.0, 68.18, 94.1]"
      ]
     },
     "execution_count": 16,
     "metadata": {},
     "output_type": "execute_result"
    }
   ],
   "source": [
    "fahrenheit=[]\n",
    "\n",
    "celsius = [0,10,20.1,34.5]\n",
    "for temp in celsius:\n",
    "    a=(9/5)*temp + 32\n",
    "    fahrenheit.append(a)\n",
    "    \n",
    "fahrenheit    \n",
    "    "
   ]
  },
  {
   "cell_type": "code",
   "execution_count": 3,
   "id": "25e2ca32",
   "metadata": {},
   "outputs": [
    {
     "name": "stdout",
     "output_type": "stream",
     "text": [
      "start\n",
      "s\n",
      "sentence\n"
     ]
    }
   ],
   "source": [
    "st = 'Print only the words that start with s in this sentence'\n",
    "#st=st.split()\n",
    "#print(st)\n",
    "#print(type(st))  ---list\n",
    "for i in st.split():\n",
    "    if i[0]=='s':\n",
    "        print(i)\n",
    "  "
   ]
  },
  {
   "cell_type": "code",
   "execution_count": 11,
   "id": "6dce228d",
   "metadata": {},
   "outputs": [
    {
     "name": "stdout",
     "output_type": "stream",
     "text": [
      "hi hello how are you\n"
     ]
    }
   ],
   "source": [
    "full_name = input()"
   ]
  },
  {
   "cell_type": "code",
   "execution_count": 12,
   "id": "cdea0c44",
   "metadata": {},
   "outputs": [
    {
     "data": {
      "text/plain": [
       "['hi', 'hello', 'how', 'are', 'you']"
      ]
     },
     "execution_count": 12,
     "metadata": {},
     "output_type": "execute_result"
    }
   ],
   "source": [
    "name_list = full_name.split(sep = ' ')\n",
    "name_list"
   ]
  },
  {
   "cell_type": "code",
   "execution_count": 17,
   "id": "ff4b97c1",
   "metadata": {},
   "outputs": [
    {
     "data": {
      "text/plain": [
       "'himhellomhowmaremyou'"
      ]
     },
     "execution_count": 17,
     "metadata": {},
     "output_type": "execute_result"
    }
   ],
   "source": [
    "\"m\".join(name_list)"
   ]
  },
  {
   "cell_type": "markdown",
   "id": "c17e72a2",
   "metadata": {},
   "source": [
    "Join: takes a list of strings and returns joined string depends on target delimiter"
   ]
  },
  {
   "cell_type": "code",
   "execution_count": 15,
   "id": "735fb94b",
   "metadata": {},
   "outputs": [
    {
     "data": {
      "text/plain": [
       "'hi hello how are you'"
      ]
     },
     "execution_count": 15,
     "metadata": {},
     "output_type": "execute_result"
    }
   ],
   "source": [
    "\" \".join(name_list)"
   ]
  },
  {
   "cell_type": "code",
   "execution_count": null,
   "id": "acd71e68",
   "metadata": {},
   "outputs": [],
   "source": []
  }
 ],
 "metadata": {
  "kernelspec": {
   "display_name": "Python 3",
   "language": "python",
   "name": "python3"
  },
  "language_info": {
   "codemirror_mode": {
    "name": "ipython",
    "version": 3
   },
   "file_extension": ".py",
   "mimetype": "text/x-python",
   "name": "python",
   "nbconvert_exporter": "python",
   "pygments_lexer": "ipython3",
   "version": "3.8.8"
  }
 },
 "nbformat": 4,
 "nbformat_minor": 5
}
