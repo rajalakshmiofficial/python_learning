{
 "cells": [
  {
   "cell_type": "markdown",
   "id": "28d23928",
   "metadata": {},
   "source": [
    "## avgstudent height"
   ]
  },
  {
   "cell_type": "markdown",
   "id": "42707e91",
   "metadata": {},
   "source": [
    "#dont use len,sum function use for loop"
   ]
  },
  {
   "cell_type": "markdown",
   "id": "356b4c24",
   "metadata": {},
   "source": [
    "https://www.geeksforgeeks.org/python-program-to-find-sum-of-elements-in-list/"
   ]
  },
  {
   "cell_type": "code",
   "execution_count": 11,
   "id": "0ff5762b",
   "metadata": {},
   "outputs": [
    {
     "name": "stdout",
     "output_type": "stream",
     "text": [
      "height is 180\n",
      "height1 is 0\n",
      "height1 is 180\n",
      "height is 124\n",
      "height1 is 180\n",
      "height1 is 304\n",
      "height is 165\n",
      "height1 is 304\n",
      "height1 is 469\n",
      "height is 173\n",
      "height1 is 469\n",
      "height1 is 642\n",
      "height is 189\n",
      "height1 is 642\n",
      "height1 is 831\n",
      "height is 169\n",
      "height1 is 831\n",
      "height1 is 1000\n",
      "height is 146\n",
      "height1 is 1000\n",
      "height1 is 1146\n",
      "7\n",
      "1146\n",
      "your avg height is 163.71\n"
     ]
    }
   ],
   "source": [
    "student_height=[180,124,165,173,189,169,146]\n",
    "height1=0\n",
    "i=0\n",
    "for height in student_height:\n",
    "    print('height is',height)\n",
    "    print('height1 is',height1)\n",
    "    height1 +=height\n",
    "    print('height1 is',height1)\n",
    "    i+=1\n",
    "    \n",
    "print(i)    \n",
    "avg=height1/i\n",
    "print(height1)\n",
    "avg=round(avg,2)\n",
    "print(f'your avg height is {avg}') \n",
    "    "
   ]
  },
  {
   "cell_type": "code",
   "execution_count": 2,
   "id": "2cecffd2",
   "metadata": {},
   "outputs": [
    {
     "data": {
      "text/plain": [
       "builtin_function_or_method"
      ]
     },
     "execution_count": 2,
     "metadata": {},
     "output_type": "execute_result"
    }
   ],
   "source": [
    "type(round)"
   ]
  },
  {
   "cell_type": "code",
   "execution_count": 10,
   "id": "0cc06d6b",
   "metadata": {},
   "outputs": [
    {
     "name": "stdout",
     "output_type": "stream",
     "text": [
      "164\n"
     ]
    }
   ],
   "source": [
    "height=[180,124,165,173,189,169,146]\n",
    "a=sum(height)\n",
    "b=len(height)\n",
    "print(round(a/b))\n"
   ]
  },
  {
   "cell_type": "markdown",
   "id": "4e51631a",
   "metadata": {},
   "source": [
    "### use loops to find sum and len"
   ]
  },
  {
   "cell_type": "code",
   "execution_count": 14,
   "id": "bc1e3d71",
   "metadata": {},
   "outputs": [
    {
     "name": "stdout",
     "output_type": "stream",
     "text": [
      "1146\n",
      "7\n",
      "164\n"
     ]
    }
   ],
   "source": [
    "student_height=[180,124,165,173,189,169,146]\n",
    "height1=0\n",
    "for height in student_height:    \n",
    "    height1 +=height\n",
    "total=height1 \n",
    "print(total)\n",
    "i=0\n",
    "for item in student_height:\n",
    "    i +=1\n",
    "print(i) \n",
    "print(round(total/i))\n"
   ]
  },
  {
   "cell_type": "code",
   "execution_count": 19,
   "id": "b32b24ad",
   "metadata": {},
   "outputs": [
    {
     "name": "stdout",
     "output_type": "stream",
     "text": [
      "11\n",
      "5\n",
      "17\n",
      "18\n",
      "23\n",
      "Sum of all elements in given list:  74\n"
     ]
    }
   ],
   "source": [
    "# Python program to find sum of elements in list\n",
    " \n",
    "total = 0\n",
    " \n",
    "# creating a list\n",
    "list1 = [11, 5, 17, 18, 23]\n",
    " \n",
    "# Iterate each element in list\n",
    "# and add them in variable total\n",
    "for ele in range(0, len(list1)):   ###****\n",
    "    print(list1[ele])\n",
    "    total = total + list1[ele]\n",
    "print(\"Sum of all elements in given list: \", total)"
   ]
  },
  {
   "cell_type": "code",
   "execution_count": 18,
   "id": "507cc6db",
   "metadata": {},
   "outputs": [
    {
     "data": {
      "text/plain": [
       "range(0, 5)"
      ]
     },
     "execution_count": 18,
     "metadata": {},
     "output_type": "execute_result"
    }
   ],
   "source": [
    "range(0, len(list1))"
   ]
  },
  {
   "cell_type": "code",
   "execution_count": 12,
   "id": "6c8767d7",
   "metadata": {},
   "outputs": [
    {
     "name": "stdout",
     "output_type": "stream",
     "text": [
      "0\n",
      "11\n",
      "1\n",
      "5\n",
      "2\n",
      "17\n",
      "3\n",
      "18\n",
      "4\n",
      "23\n",
      "Sum of all elements in given list:  74\n"
     ]
    }
   ],
   "source": [
    "total = 0\n",
    " \n",
    "# creating a list\n",
    "list1 = [11, 5, 17, 18, 23]\n",
    " \n",
    "# Iterate each element in list\n",
    "# and add them in variable total\n",
    "for ele in range(0,len(list1)):\n",
    "    print(ele)###****\n",
    "    print(list1[ele])\n",
    "    total = total + list1[ele]\n",
    "print(\"Sum of all elements in given list: \", total)"
   ]
  },
  {
   "cell_type": "code",
   "execution_count": 4,
   "id": "3d0915b2",
   "metadata": {},
   "outputs": [
    {
     "data": {
      "text/plain": [
       "range(0, 5)"
      ]
     },
     "execution_count": 4,
     "metadata": {},
     "output_type": "execute_result"
    }
   ],
   "source": [
    "range(len(list1))"
   ]
  },
  {
   "cell_type": "code",
   "execution_count": 8,
   "id": "705b044a",
   "metadata": {},
   "outputs": [
    {
     "name": "stdout",
     "output_type": "stream",
     "text": [
      "5\n"
     ]
    },
    {
     "data": {
      "text/plain": [
       "range(0, 5)"
      ]
     },
     "execution_count": 8,
     "metadata": {},
     "output_type": "execute_result"
    }
   ],
   "source": [
    "a=len(list1)\n",
    "print(a)\n",
    "range(a)\n"
   ]
  },
  {
   "cell_type": "markdown",
   "id": "2bc94b7a",
   "metadata": {},
   "source": [
    "#### you  want to caluculate highest score from a list of scores and ask input from a user"
   ]
  },
  {
   "cell_type": "code",
   "execution_count": 55,
   "id": "17a0b45f",
   "metadata": {},
   "outputs": [
    {
     "name": "stdout",
     "output_type": "stream",
     "text": [
      "enter a scores use commas: 80,90,40,30,98,70,99\n",
      "<class 'list'>\n",
      "7\n",
      "0\n",
      "80\n",
      "max value is 80\n",
      "1\n",
      "90\n",
      "max value is 90\n",
      "2\n",
      "40\n",
      "max value is 90\n",
      "3\n",
      "30\n",
      "max value is 90\n",
      "4\n",
      "98\n",
      "max value is 98\n",
      "5\n",
      "70\n",
      "max value is 98\n",
      "6\n",
      "99\n",
      "max value is 99\n",
      "your max value is 99\n"
     ]
    }
   ],
   "source": [
    "#scores=[4,5,10,7]\n",
    "scores=input('enter a scores use commas: ').split(',')\n",
    "print(type(scores))\n",
    "print(len(scores))\n",
    "max_value=0\n",
    "#sum(scores)\n",
    "for i in range(0,len(scores)):\n",
    "    print(i)\n",
    "    scores[i]=int(scores[i])    \n",
    "    print(scores[i])\n",
    "    if max_value<scores[i]:\n",
    "        max_value=scores[i]\n",
    "    print('max value is',max_value)    \n",
    "print(f'your max value is {max_value}')        \n",
    "    \n",
    "    \n"
   ]
  },
  {
   "cell_type": "code",
   "execution_count": 39,
   "id": "302dc667",
   "metadata": {},
   "outputs": [
    {
     "name": "stdout",
     "output_type": "stream",
     "text": [
      "enter a scores: 1,2,3,4\n",
      "<class 'str'>\n",
      "7\n"
     ]
    },
    {
     "ename": "TypeError",
     "evalue": "'str' object does not support item assignment",
     "output_type": "error",
     "traceback": [
      "\u001b[1;31m---------------------------------------------------------------------------\u001b[0m",
      "\u001b[1;31mTypeError\u001b[0m                                 Traceback (most recent call last)",
      "\u001b[1;32m<ipython-input-39-1e1f29f04218>\u001b[0m in \u001b[0;36m<module>\u001b[1;34m\u001b[0m\n\u001b[0;32m      4\u001b[0m \u001b[1;31m#sum(scores)\u001b[0m\u001b[1;33m\u001b[0m\u001b[1;33m\u001b[0m\u001b[1;33m\u001b[0m\u001b[0m\n\u001b[0;32m      5\u001b[0m \u001b[1;32mfor\u001b[0m \u001b[0mi\u001b[0m \u001b[1;32min\u001b[0m \u001b[0mrange\u001b[0m\u001b[1;33m(\u001b[0m\u001b[1;36m0\u001b[0m\u001b[1;33m,\u001b[0m\u001b[0mlen\u001b[0m\u001b[1;33m(\u001b[0m\u001b[0mscores\u001b[0m\u001b[1;33m)\u001b[0m\u001b[1;33m)\u001b[0m\u001b[1;33m:\u001b[0m\u001b[1;33m\u001b[0m\u001b[1;33m\u001b[0m\u001b[0m\n\u001b[1;32m----> 6\u001b[1;33m     \u001b[0mscores\u001b[0m\u001b[1;33m[\u001b[0m\u001b[0mi\u001b[0m\u001b[1;33m]\u001b[0m\u001b[1;33m=\u001b[0m\u001b[0mint\u001b[0m\u001b[1;33m(\u001b[0m\u001b[0mscores\u001b[0m\u001b[1;33m[\u001b[0m\u001b[0mi\u001b[0m\u001b[1;33m]\u001b[0m\u001b[1;33m)\u001b[0m\u001b[1;33m\u001b[0m\u001b[1;33m\u001b[0m\u001b[0m\n\u001b[0m\u001b[0;32m      7\u001b[0m \u001b[0mprint\u001b[0m\u001b[1;33m(\u001b[0m\u001b[0mscores\u001b[0m\u001b[1;33m)\u001b[0m\u001b[1;33m\u001b[0m\u001b[1;33m\u001b[0m\u001b[0m\n\u001b[0;32m      8\u001b[0m \u001b[0mtype\u001b[0m\u001b[1;33m(\u001b[0m\u001b[0mscores\u001b[0m\u001b[1;33m)\u001b[0m\u001b[1;33m\u001b[0m\u001b[1;33m\u001b[0m\u001b[0m\n",
      "\u001b[1;31mTypeError\u001b[0m: 'str' object does not support item assignment"
     ]
    }
   ],
   "source": [
    "scores=input('enter a scores: ')\n",
    "print(type(scores))\n",
    "print(len(scores))\n",
    "#sum(scores)\n",
    "for i in range(0,len(scores)):\n",
    "    scores[i]=int(scores[i])\n",
    "print(scores)\n",
    "type(scores)"
   ]
  },
  {
   "cell_type": "markdown",
   "id": "2edf9061",
   "metadata": {},
   "source": [
    "### numberadding (1 to 100)"
   ]
  },
  {
   "cell_type": "code",
   "execution_count": 58,
   "id": "5c3bafa1",
   "metadata": {},
   "outputs": [
    {
     "name": "stdout",
     "output_type": "stream",
     "text": [
      "20100\n"
     ]
    }
   ],
   "source": [
    "total=0\n",
    "for i in range(0,201):\n",
    "    total += i\n",
    "print(total)    "
   ]
  },
  {
   "cell_type": "code",
   "execution_count": 57,
   "id": "01cf5096",
   "metadata": {},
   "outputs": [
    {
     "data": {
      "text/plain": [
       "(20100, 5050)"
      ]
     },
     "execution_count": 57,
     "metadata": {},
     "output_type": "execute_result"
    }
   ],
   "source": [
    "201*100,101*50\n"
   ]
  },
  {
   "cell_type": "markdown",
   "id": "455ac63f",
   "metadata": {},
   "source": [
    "### sum of all even no's 1 to 100 inclue 100"
   ]
  },
  {
   "cell_type": "code",
   "execution_count": 59,
   "id": "3124fb91",
   "metadata": {},
   "outputs": [
    {
     "name": "stdout",
     "output_type": "stream",
     "text": [
      "2550\n"
     ]
    }
   ],
   "source": [
    "total=0\n",
    "for i in range(0,101):\n",
    "    if i%2==0:        \n",
    "        total += i\n",
    "print(total)         "
   ]
  },
  {
   "cell_type": "code",
   "execution_count": null,
   "id": "c7d6bef9",
   "metadata": {},
   "outputs": [],
   "source": []
  },
  {
   "cell_type": "markdown",
   "id": "834501bb",
   "metadata": {},
   "source": [
    "### alternateway rage step function"
   ]
  },
  {
   "cell_type": "code",
   "execution_count": 60,
   "id": "b3974c8f",
   "metadata": {},
   "outputs": [
    {
     "name": "stdout",
     "output_type": "stream",
     "text": [
      "2550\n"
     ]
    }
   ],
   "source": [
    "total=0\n",
    "for i in range(0,101,2):\n",
    "    total += i\n",
    "print(total)    "
   ]
  },
  {
   "cell_type": "markdown",
   "id": "4acc866c",
   "metadata": {},
   "source": [
    "### fizzbuzz"
   ]
  },
  {
   "cell_type": "code",
   "execution_count": 63,
   "id": "f38c808d",
   "metadata": {},
   "outputs": [
    {
     "name": "stdout",
     "output_type": "stream",
     "text": [
      "no is 0 fizzbuzz\n",
      "1\n",
      "2\n",
      "no is 3 fizz\n",
      "4\n",
      "no is 5 buzz\n",
      "no is 6 fizz\n",
      "7\n",
      "8\n",
      "no is 9 fizz\n",
      "no is 10 buzz\n",
      "11\n",
      "no is 12 fizz\n",
      "13\n",
      "14\n",
      "no is 15 fizzbuzz\n",
      "16\n",
      "17\n",
      "no is 18 fizz\n",
      "19\n",
      "no is 20 buzz\n",
      "no is 21 fizz\n",
      "22\n",
      "23\n",
      "no is 24 fizz\n",
      "no is 25 buzz\n",
      "26\n",
      "no is 27 fizz\n",
      "28\n",
      "29\n",
      "no is 30 fizzbuzz\n",
      "31\n",
      "32\n",
      "no is 33 fizz\n",
      "34\n",
      "no is 35 buzz\n",
      "no is 36 fizz\n",
      "37\n",
      "38\n",
      "no is 39 fizz\n",
      "no is 40 buzz\n",
      "41\n",
      "no is 42 fizz\n",
      "43\n",
      "44\n",
      "no is 45 fizzbuzz\n",
      "46\n",
      "47\n",
      "no is 48 fizz\n",
      "49\n",
      "no is 50 buzz\n",
      "no is 51 fizz\n",
      "52\n",
      "53\n",
      "no is 54 fizz\n",
      "no is 55 buzz\n",
      "56\n",
      "no is 57 fizz\n",
      "58\n",
      "59\n",
      "no is 60 fizzbuzz\n",
      "61\n",
      "62\n",
      "no is 63 fizz\n",
      "64\n",
      "no is 65 buzz\n",
      "no is 66 fizz\n",
      "67\n",
      "68\n",
      "no is 69 fizz\n",
      "no is 70 buzz\n",
      "71\n",
      "no is 72 fizz\n",
      "73\n",
      "74\n",
      "no is 75 fizzbuzz\n",
      "76\n",
      "77\n",
      "no is 78 fizz\n",
      "79\n",
      "no is 80 buzz\n",
      "no is 81 fizz\n",
      "82\n",
      "83\n",
      "no is 84 fizz\n",
      "no is 85 buzz\n",
      "86\n",
      "no is 87 fizz\n",
      "88\n",
      "89\n",
      "no is 90 fizzbuzz\n",
      "91\n",
      "92\n",
      "no is 93 fizz\n",
      "94\n",
      "no is 95 buzz\n",
      "no is 96 fizz\n",
      "97\n",
      "98\n",
      "no is 99 fizz\n",
      "no is 100 buzz\n"
     ]
    }
   ],
   "source": [
    "for i in range(0,101):\n",
    "    if i%3==0 and i%5==0:\n",
    "        print(f'no is {i} fizzbuzz')\n",
    "    elif i%3==0:\n",
    "        print(f'no is {i} fizz')\n",
    "    elif i%5==0:\n",
    "        print(f'no is {i} buzz')\n",
    "    else:\n",
    "        print(i)"
   ]
  },
  {
   "cell_type": "markdown",
   "id": "3a5181e4",
   "metadata": {},
   "source": [
    "### Password generator\n"
   ]
  },
  {
   "cell_type": "code",
   "execution_count": 65,
   "id": "76f64785",
   "metadata": {},
   "outputs": [
    {
     "name": "stdout",
     "output_type": "stream",
     "text": [
      "Welcome to the PyPassword Generator!\n",
      "How many letters would you like in your password?\n",
      "6\n",
      "How many symbols would you like?\n",
      "3\n",
      "How many numbers would you like?\n",
      "3\n"
     ]
    }
   ],
   "source": [
    "#Password Generator Project\n",
    "import random\n",
    "letters = ['a', 'b', 'c', 'd', 'e', 'f', 'g', 'h', 'i', 'j', 'k', 'l', 'm', 'n', 'o', 'p', 'q', 'r', 's', 't', 'u', 'v', 'w', 'x', 'y', 'z', 'A', 'B', 'C', 'D', 'E', 'F', 'G', 'H', 'I', 'J', 'K', 'L', 'M', 'N', 'O', 'P', 'Q', 'R', 'S', 'T', 'U', 'V', 'W', 'X', 'Y', 'Z']\n",
    "numbers = ['0', '1', '2', '3', '4', '5', '6', '7', '8', '9']\n",
    "symbols = ['!', '#', '$', '%', '&', '(', ')', '*', '+']\n",
    "\n",
    "print(\"Welcome to the PyPassword Generator!\")\n",
    "nr_letters = int(input(\"How many letters would you like in your password?\\n\")) \n",
    "nr_symbols = int(input(f\"How many symbols would you like?\\n\"))\n",
    "nr_numbers = int(input(f\"How many numbers would you like?\\n\"))\n",
    "\n",
    "#Eazy Level  numerlettersymbol\n",
    "# password = \"\"\n",
    "\n",
    "# for char in range(1, nr_letters + 1):\n",
    "#   password += random.choice(letters)\n",
    "\n",
    "# for char in range(1, nr_symbols + 1):\n",
    "#   password += random.choice(symbols)\n",
    "\n",
    "# for char in range(1, nr_numbers + 1):\n",
    "#   password += random.choice(numbers)\n",
    "\n",
    "# print(password)\n",
    "\n",
    "#Hard Level  mixing\n",
    "password_list = []"
   ]
  },
  {
   "cell_type": "code",
   "execution_count": 93,
   "id": "7a789d77",
   "metadata": {},
   "outputs": [
    {
     "name": "stdout",
     "output_type": "stream",
     "text": [
      "Welcome to the PyPassword Generator!\n",
      "How many letters would you like in your password?\n",
      "6\n",
      "How many symbols would you like?\n",
      "2\n",
      "How many numbers would you like?\n",
      "2\n",
      "d\n",
      "dX\n",
      "dXL\n",
      "dXLQ\n",
      "dXLQi\n",
      "dXLQiW\n",
      "outsidelist dXLQiW\n",
      "----------\n",
      "dXLQiW&%24\n"
     ]
    }
   ],
   "source": [
    "#Password Generator Project  easy\n",
    "import random\n",
    "letters = ['a', 'b', 'c', 'd', 'e', 'f', 'g', 'h', 'i', 'j', 'k', 'l', 'm', 'n', 'o', 'p', 'q', 'r', 's', 't', 'u', 'v', 'w', 'x', 'y', 'z', 'A', 'B', 'C', 'D', 'E', 'F', 'G', 'H', 'I', 'J', 'K', 'L', 'M', 'N', 'O', 'P', 'Q', 'R', 'S', 'T', 'U', 'V', 'W', 'X', 'Y', 'Z']\n",
    "numbers = ['0', '1', '2', '3', '4', '5', '6', '7', '8', '9']\n",
    "symbols = ['!', '#', '$', '%', '&', '(', ')', '*', '+']\n",
    "\n",
    "print(\"Welcome to the PyPassword Generator!\")\n",
    "nr_letters = int(input(\"How many letters would you like in your password?\\n\")) \n",
    "nr_symbols = int(input(f\"How many symbols would you like?\\n\"))\n",
    "nr_numbers = int(input(f\"How many numbers would you like?\\n\"))\n",
    "password=''\n",
    "for char in range(0,nr_letters):\n",
    "#for char in range(1, nr_letters + 1)\n",
    "    password += random.choice(letters)\n",
    "    print(password) \n",
    "print('outsidelist',password)    \n",
    "for char in range(1, nr_symbols + 1):\n",
    "    password += random.choice(symbols)\n",
    "for char in range(1, nr_numbers + 1):                          \n",
    "                              \n",
    "    password += random.choice(numbers)\n",
    "a= '-'*10\n",
    "print(a)\n",
    "print(password)\n",
    "   \n"
   ]
  },
  {
   "cell_type": "code",
   "execution_count": 97,
   "id": "ad09a488",
   "metadata": {},
   "outputs": [
    {
     "name": "stdout",
     "output_type": "stream",
     "text": [
      "Welcome to the PyPassword Generator!\n",
      "How many letters would you like in your password?\n",
      "3\n",
      "How many symbols would you like?\n",
      "3\n",
      "How many numbers would you like?\n",
      "3\n",
      "['d', 'o', 'Z', '+', '$', '%', '9', '0', '6']\n",
      "['%', 'Z', '0', '6', 'o', '$', '+', '9', 'd']\n",
      "Your password is: %Z06o$+9d\n"
     ]
    }
   ],
   "source": [
    "#hardlevel\n",
    "import random\n",
    "letters = ['a', 'b', 'c', 'd', 'e', 'f', 'g', 'h', 'i', 'j', 'k', 'l', 'm', 'n', 'o', 'p', 'q', 'r', 's', 't', 'u', 'v', 'w', 'x', 'y', 'z', 'A', 'B', 'C', 'D', 'E', 'F', 'G', 'H', 'I', 'J', 'K', 'L', 'M', 'N', 'O', 'P', 'Q', 'R', 'S', 'T', 'U', 'V', 'W', 'X', 'Y', 'Z']\n",
    "numbers = ['0', '1', '2', '3', '4', '5', '6', '7', '8', '9']\n",
    "symbols = ['!', '#', '$', '%', '&', '(', ')', '*', '+']\n",
    "\n",
    "print(\"Welcome to the PyPassword Generator!\")\n",
    "nr_letters = int(input(\"How many letters would you like in your password?\\n\")) \n",
    "nr_symbols = int(input(f\"How many symbols would you like?\\n\"))\n",
    "nr_numbers = int(input(f\"How many numbers would you like?\\n\"))\n",
    "\n",
    "password_list = []\n",
    "\n",
    "for char in range(1, nr_letters + 1):    \n",
    "    password_list.append(random.choice(letters))\n",
    "\n",
    "for char in range(1, nr_symbols + 1):\n",
    "    password_list += random.choice(symbols)\n",
    "\n",
    "for char in range(1, nr_numbers + 1):\n",
    "    password_list += random.choice(numbers)\n",
    "\n",
    "print(password_list)\n",
    "random.shuffle(password_list)\n",
    "print(password_list)\n",
    "\n",
    "password = \"\"\n",
    "for char in password_list:\n",
    "    password += char\n",
    "\n",
    "print(f\"Your password is: {password}\")"
   ]
  },
  {
   "cell_type": "markdown",
   "id": "62895919",
   "metadata": {},
   "source": [
    "https://replit.com/@appbrewery/password-generator-end#main.py"
   ]
  },
  {
   "cell_type": "code",
   "execution_count": 66,
   "id": "8484c960",
   "metadata": {},
   "outputs": [
    {
     "name": "stdout",
     "output_type": "stream",
     "text": [
      "range(1, 6)\n"
     ]
    }
   ],
   "source": [
    "nr_letters=5    #5times loop 1,2,3,4,5\n",
    "print(range(1, nr_letters + 1))"
   ]
  },
  {
   "cell_type": "code",
   "execution_count": 67,
   "id": "3a96e14a",
   "metadata": {},
   "outputs": [
    {
     "name": "stdout",
     "output_type": "stream",
     "text": [
      "range(0, 5)\n"
     ]
    }
   ],
   "source": [
    "nr_letters=5  #5times loop 0,1,2,3,4\n",
    "print(range(0, nr_letters ))"
   ]
  },
  {
   "cell_type": "code",
   "execution_count": null,
   "id": "5510f790",
   "metadata": {},
   "outputs": [],
   "source": []
  },
  {
   "cell_type": "markdown",
   "id": "66e43ec8",
   "metadata": {},
   "source": [
    "####  donot ask no of letter,symbols from user randomly choose"
   ]
  },
  {
   "cell_type": "code",
   "execution_count": 106,
   "id": "7cca061a",
   "metadata": {},
   "outputs": [
    {
     "name": "stdout",
     "output_type": "stream",
     "text": [
      "Welcome to the PyPassword Generator!\n",
      "['q', 'n']\n",
      "['q', 'n', '%', '+', '&', '!', '!', ')', '#', '1', '6', '4', '4', '0', '1', '6', '8']\n",
      "['#', '1', '%', '!', '4', '!', 'q', '&', '8', '6', '+', '1', ')', '6', '0', '4', 'n']\n",
      "Your password is: #1%!4!q&86+1)604n\n"
     ]
    },
    {
     "data": {
      "text/plain": [
       "17"
      ]
     },
     "execution_count": 106,
     "metadata": {},
     "output_type": "execute_result"
    }
   ],
   "source": [
    "import random\n",
    "letters = ['a', 'b', 'c', 'd', 'e', 'f', 'g', 'h', 'i', 'j', 'k', 'l', 'm', 'n', 'o', 'p', 'q', 'r', 's', 't', 'u', 'v', 'w', 'x', 'y', 'z', 'A', 'B', 'C', 'D', 'E', 'F', 'G', 'H', 'I', 'J', 'K', 'L', 'M', 'N', 'O', 'P', 'Q', 'R', 'S', 'T', 'U', 'V', 'W', 'X', 'Y', 'Z']\n",
    "numbers = ['0', '1', '2', '3', '4', '5', '6', '7', '8', '9']\n",
    "symbols = ['!', '#', '$', '%', '&', '(', ')', '*', '+']\n",
    "\n",
    "print(\"Welcome to the PyPassword Generator!\")\n",
    "#nr_letters = int(input(\"How many letters would you like in your password?\\n\")) \n",
    "#nr_symbols = int(input(f\"How many symbols would you like?\\n\"))\n",
    "#nr_numbers = int(input(f\"How many numbers would you like?\\n\"))\n",
    "\n",
    "password_list = []\n",
    "nr_letters=random.randint(0,9)\n",
    "for char in range(1, nr_letters + 1):    \n",
    "    password_list.append(random.choice(letters))\n",
    "print(password_list)\n",
    "nr_symbols=random.randint(0,9)\n",
    "for char in range(1, nr_symbols + 1):\n",
    "    password_list += random.choice(symbols)\n",
    "nr_numbers=random.randint(0,9)\n",
    "for char in range(1, nr_numbers + 1):\n",
    "    password_list += random.choice(numbers)\n",
    "\n",
    "print(password_list)\n",
    "random.shuffle(password_list)\n",
    "print(password_list)\n",
    "\n",
    "password = \"\"\n",
    "for char in password_list:\n",
    "    password += char\n",
    "\n",
    "print(f\"Your password is: {password}\")\n",
    "len(password)\n",
    "\n",
    "\n",
    "\n"
   ]
  },
  {
   "cell_type": "code",
   "execution_count": null,
   "id": "65e03a04",
   "metadata": {},
   "outputs": [],
   "source": []
  }
 ],
 "metadata": {
  "kernelspec": {
   "display_name": "Python 3",
   "language": "python",
   "name": "python3"
  },
  "language_info": {
   "codemirror_mode": {
    "name": "ipython",
    "version": 3
   },
   "file_extension": ".py",
   "mimetype": "text/x-python",
   "name": "python",
   "nbconvert_exporter": "python",
   "pygments_lexer": "ipython3",
   "version": "3.8.8"
  }
 },
 "nbformat": 4,
 "nbformat_minor": 5
}
