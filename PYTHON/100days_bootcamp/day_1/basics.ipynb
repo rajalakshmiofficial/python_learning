{
 "cells": [
  {
   "cell_type": "markdown",
   "id": "704037c6",
   "metadata": {},
   "source": [
    "### string manipulation"
   ]
  },
  {
   "cell_type": "code",
   "execution_count": 10,
   "id": "062515f6",
   "metadata": {},
   "outputs": [
    {
     "name": "stdout",
     "output_type": "stream",
     "text": [
      "helloworld helloworld helloworld \n"
     ]
    }
   ],
   "source": [
    "print('helloworld '* 3)"
   ]
  },
  {
   "cell_type": "code",
   "execution_count": 11,
   "id": "1c8d8216",
   "metadata": {},
   "outputs": [
    {
     "name": "stdout",
     "output_type": "stream",
     "text": [
      "helloworld\n",
      "helloworld\n",
      "helloworld\n",
      "helloworld\n",
      "helloworld\n",
      "\n"
     ]
    }
   ],
   "source": [
    "a='helloworld\\n'\n",
    "b=a * 5\n",
    "print(b)"
   ]
  },
  {
   "cell_type": "code",
   "execution_count": 1,
   "id": "2d1e7225",
   "metadata": {},
   "outputs": [
    {
     "name": "stdout",
     "output_type": "stream",
     "text": [
      "hello\n",
      "how 'are' you\n",
      "how is your day\n"
     ]
    }
   ],
   "source": [
    "print('hello\\nhow \\'are\\' you\\nhow is your day')  #newline, ''-->\\'___ \\'"
   ]
  },
  {
   "cell_type": "code",
   "execution_count": 13,
   "id": "60e58c0d",
   "metadata": {},
   "outputs": [
    {
     "name": "stdout",
     "output_type": "stream",
     "text": [
      "hi how you\n"
     ]
    }
   ],
   "source": [
    "print('hi'+' '+'how'+' '+'you')  #string manipulation concatenation"
   ]
  },
  {
   "cell_type": "code",
   "execution_count": 14,
   "id": "8584e29f",
   "metadata": {},
   "outputs": [
    {
     "name": "stdout",
     "output_type": "stream",
     "text": [
      "hi hello goodmorning\n"
     ]
    }
   ],
   "source": [
    "print('hi '+'hello'+' goodmorning')"
   ]
  },
  {
   "cell_type": "code",
   "execution_count": 9,
   "id": "76fde629",
   "metadata": {},
   "outputs": [
    {
     "name": "stdout",
     "output_type": "stream",
     "text": [
      "8\n",
      "i\n",
      "1\n"
     ]
    }
   ],
   "source": [
    "a='hi hello'\n",
    "print(len(a))\n",
    "a='hi hello'[1]\n",
    "print(a)\n",
    "print(len(a))"
   ]
  },
  {
   "cell_type": "markdown",
   "id": "06cb47c2",
   "metadata": {},
   "source": [
    "## error possibilities"
   ]
  },
  {
   "cell_type": "code",
   "execution_count": 16,
   "id": "5869d36d",
   "metadata": {},
   "outputs": [
    {
     "ename": "SyntaxError",
     "evalue": "EOL while scanning string literal (<ipython-input-16-b67dbc8a2cbb>, line 1)",
     "output_type": "error",
     "traceback": [
      "\u001b[1;36m  File \u001b[1;32m\"<ipython-input-16-b67dbc8a2cbb>\"\u001b[1;36m, line \u001b[1;32m1\u001b[0m\n\u001b[1;33m    print('hi hello)\u001b[0m\n\u001b[1;37m                    ^\u001b[0m\n\u001b[1;31mSyntaxError\u001b[0m\u001b[1;31m:\u001b[0m EOL while scanning string literal\n"
     ]
    }
   ],
   "source": [
    " print('hi hello)"
   ]
  },
  {
   "cell_type": "code",
   "execution_count": 17,
   "id": "374f8d19",
   "metadata": {},
   "outputs": [
    {
     "name": "stdout",
     "output_type": "stream",
     "text": [
      "enter a string: raji\n",
      "4\n"
     ]
    }
   ],
   "source": [
    "a=input('enter a string: ')  #input function\n",
    "print(len(a))  #number of characters in a"
   ]
  },
  {
   "cell_type": "code",
   "execution_count": 18,
   "id": "963e4abe",
   "metadata": {},
   "outputs": [
    {
     "name": "stdout",
     "output_type": "stream",
     "text": [
      "enter a string: raji\n",
      "4\n"
     ]
    }
   ],
   "source": [
    "print(len(input('enter a string: ')))"
   ]
  },
  {
   "cell_type": "code",
   "execution_count": 22,
   "id": "dc09f080",
   "metadata": {},
   "outputs": [],
   "source": [
    "f=4"
   ]
  },
  {
   "cell_type": "code",
   "execution_count": 23,
   "id": "75e5e72e",
   "metadata": {},
   "outputs": [
    {
     "data": {
      "text/plain": [
       "28"
      ]
     },
     "execution_count": 23,
     "metadata": {},
     "output_type": "execute_result"
    }
   ],
   "source": [
    "#if you  need size of string in bytes\n",
    "import sys\n",
    "sys.getsizeof(f)\n"
   ]
  },
  {
   "cell_type": "code",
   "execution_count": 24,
   "id": "e6faaf67",
   "metadata": {},
   "outputs": [
    {
     "name": "stdout",
     "output_type": "stream",
     "text": [
      "dashboard\n",
      "monitor\n"
     ]
    }
   ],
   "source": [
    "app='dashboard'   #variables\n",
    "print(app)\n",
    "app='monitor'\n",
    "print(app)"
   ]
  },
  {
   "cell_type": "code",
   "execution_count": 25,
   "id": "8525a29f",
   "metadata": {},
   "outputs": [
    {
     "name": "stdout",
     "output_type": "stream",
     "text": [
      "monitor\n",
      "9\n",
      "7\n"
     ]
    }
   ],
   "source": [
    "app='dashboard'   #variables\n",
    "b=len(app)\n",
    "app='monitor'\n",
    "print(app)\n",
    "print(b)\n",
    "print(len(app))"
   ]
  },
  {
   "cell_type": "code",
   "execution_count": 26,
   "id": "6e01ba23",
   "metadata": {},
   "outputs": [
    {
     "name": "stdout",
     "output_type": "stream",
     "text": [
      "<class 'str'>\n",
      "<class 'int'>\n"
     ]
    }
   ],
   "source": [
    "app='dashboard'   #variables\n",
    "print(type(app))\n",
    "app=7\n",
    "print(type(app))"
   ]
  },
  {
   "cell_type": "code",
   "execution_count": 27,
   "id": "18d25b5f",
   "metadata": {},
   "outputs": [
    {
     "name": "stdout",
     "output_type": "stream",
     "text": [
      "a: 10\n",
      "b: 5\n",
      "a is 5\n",
      "b is  10\n"
     ]
    }
   ],
   "source": [
    "a=input('a: ')\n",
    "b=input('b: ')\n",
    "c=a\n",
    "a=b\n",
    "b=c\n",
    "print('a is',a)\n",
    "print('b is ',b)"
   ]
  },
  {
   "cell_type": "markdown",
   "id": "d9bfafb0",
   "metadata": {},
   "source": [
    "## variables naming rule"
   ]
  },
  {
   "cell_type": "code",
   "execution_count": 28,
   "id": "1feb52d6",
   "metadata": {},
   "outputs": [
    {
     "ename": "SyntaxError",
     "evalue": "invalid syntax (<ipython-input-28-53e2b4e7358c>, line 2)",
     "output_type": "error",
     "traceback": [
      "\u001b[1;36m  File \u001b[1;32m\"<ipython-input-28-53e2b4e7358c>\"\u001b[1;36m, line \u001b[1;32m2\u001b[0m\n\u001b[1;33m    1a=10\u001b[0m\n\u001b[1;37m     ^\u001b[0m\n\u001b[1;31mSyntaxError\u001b[0m\u001b[1;31m:\u001b[0m invalid syntax\n"
     ]
    }
   ],
   "source": [
    "## error possibilities\n",
    "1a=10"
   ]
  },
  {
   "cell_type": "code",
   "execution_count": 29,
   "id": "5068820e",
   "metadata": {},
   "outputs": [],
   "source": [
    "a=5"
   ]
  },
  {
   "cell_type": "code",
   "execution_count": 30,
   "id": "b74bd2a4",
   "metadata": {},
   "outputs": [
    {
     "ename": "SyntaxError",
     "evalue": "invalid syntax (<ipython-input-30-79e28f6d30b2>, line 1)",
     "output_type": "error",
     "traceback": [
      "\u001b[1;36m  File \u001b[1;32m\"<ipython-input-30-79e28f6d30b2>\"\u001b[1;36m, line \u001b[1;32m1\u001b[0m\n\u001b[1;33m    user name='raj'\u001b[0m\n\u001b[1;37m         ^\u001b[0m\n\u001b[1;31mSyntaxError\u001b[0m\u001b[1;31m:\u001b[0m invalid syntax\n"
     ]
    }
   ],
   "source": [
    "user name='raj'"
   ]
  },
  {
   "cell_type": "code",
   "execution_count": 31,
   "id": "bdd39cf7",
   "metadata": {},
   "outputs": [
    {
     "data": {
      "text/plain": [
       "<function len(obj, /)>"
      ]
     },
     "execution_count": 31,
     "metadata": {},
     "output_type": "execute_result"
    }
   ],
   "source": [
    "len"
   ]
  },
  {
   "cell_type": "code",
   "execution_count": 32,
   "id": "686999f2",
   "metadata": {},
   "outputs": [],
   "source": [
    "user_name='raj'"
   ]
  },
  {
   "cell_type": "code",
   "execution_count": 33,
   "id": "bbe62fbb",
   "metadata": {},
   "outputs": [
    {
     "ename": "SyntaxError",
     "evalue": "invalid syntax (<ipython-input-33-f5952c70658b>, line 1)",
     "output_type": "error",
     "traceback": [
      "\u001b[1;36m  File \u001b[1;32m\"<ipython-input-33-f5952c70658b>\"\u001b[1;36m, line \u001b[1;32m1\u001b[0m\n\u001b[1;33m    if=input('enter a name: ')\u001b[0m\n\u001b[1;37m      ^\u001b[0m\n\u001b[1;31mSyntaxError\u001b[0m\u001b[1;31m:\u001b[0m invalid syntax\n"
     ]
    }
   ],
   "source": [
    "if=input('enter a name: ')\n",
    "print(input)"
   ]
  },
  {
   "cell_type": "code",
   "execution_count": 34,
   "id": "1b143c01",
   "metadata": {},
   "outputs": [
    {
     "data": {
      "text/plain": [
       "method"
      ]
     },
     "execution_count": 34,
     "metadata": {},
     "output_type": "execute_result"
    }
   ],
   "source": [
    "type(input)   #type of input changed from builtintype to str. so hereafer we call input it will throw error"
   ]
  },
  {
   "cell_type": "code",
   "execution_count": 35,
   "id": "d5045cd5",
   "metadata": {},
   "outputs": [
    {
     "data": {
      "text/plain": [
       "builtin_function_or_method"
      ]
     },
     "execution_count": 35,
     "metadata": {},
     "output_type": "execute_result"
    }
   ],
   "source": [
    "type(print)"
   ]
  },
  {
   "cell_type": "code",
   "execution_count": 37,
   "id": "ec149517",
   "metadata": {},
   "outputs": [
    {
     "name": "stdout",
     "output_type": "stream",
     "text": [
      "how old are you 20\n"
     ]
    }
   ],
   "source": [
    "app=input('how old are you ')   #so we donot use builtinfucnction as variable if we use that builtin function wont work"
   ]
  },
  {
   "cell_type": "code",
   "execution_count": 38,
   "id": "64decaa8",
   "metadata": {},
   "outputs": [
    {
     "ename": "TypeError",
     "evalue": "can't multiply sequence by non-int of type 'method'",
     "output_type": "error",
     "traceback": [
      "\u001b[1;31m---------------------------------------------------------------------------\u001b[0m",
      "\u001b[1;31mTypeError\u001b[0m                                 Traceback (most recent call last)",
      "\u001b[1;32m<ipython-input-38-a196e3ede002>\u001b[0m in \u001b[0;36m<module>\u001b[1;34m\u001b[0m\n\u001b[1;32m----> 1\u001b[1;33m \u001b[0mapp\u001b[0m\u001b[1;33m=\u001b[0m\u001b[0minput\u001b[0m\u001b[1;33m*\u001b[0m\u001b[1;33m(\u001b[0m\u001b[1;34m'how old are you'\u001b[0m\u001b[1;33m)\u001b[0m\u001b[1;33m\u001b[0m\u001b[1;33m\u001b[0m\u001b[0m\n\u001b[0m",
      "\u001b[1;31mTypeError\u001b[0m: can't multiply sequence by non-int of type 'method'"
     ]
    }
   ],
   "source": [
    "app=input*('how old are you')"
   ]
  },
  {
   "cell_type": "code",
   "execution_count": 39,
   "id": "9bdd3a13",
   "metadata": {},
   "outputs": [
    {
     "ename": "TypeError",
     "evalue": "unsupported operand type(s) for *: 'method' and 'int'",
     "output_type": "error",
     "traceback": [
      "\u001b[1;31m---------------------------------------------------------------------------\u001b[0m",
      "\u001b[1;31mTypeError\u001b[0m                                 Traceback (most recent call last)",
      "\u001b[1;32m<ipython-input-39-5c4d43bb890a>\u001b[0m in \u001b[0;36m<module>\u001b[1;34m\u001b[0m\n\u001b[1;32m----> 1\u001b[1;33m \u001b[0mapp\u001b[0m\u001b[1;33m=\u001b[0m\u001b[0minput\u001b[0m\u001b[1;33m*\u001b[0m\u001b[1;36m8\u001b[0m\u001b[1;33m\u001b[0m\u001b[1;33m\u001b[0m\u001b[0m\n\u001b[0m\u001b[0;32m      2\u001b[0m \u001b[0mapp\u001b[0m\u001b[1;33m\u001b[0m\u001b[1;33m\u001b[0m\u001b[0m\n",
      "\u001b[1;31mTypeError\u001b[0m: unsupported operand type(s) for *: 'method' and 'int'"
     ]
    }
   ],
   "source": [
    "app=input*8\n",
    "app"
   ]
  },
  {
   "cell_type": "code",
   "execution_count": 40,
   "id": "04c9b520",
   "metadata": {},
   "outputs": [
    {
     "name": "stderr",
     "output_type": "stream",
     "text": [
      "<>:5: SyntaxWarning: 'float' object is not callable; perhaps you missed a comma?\n",
      "<>:5: SyntaxWarning: 'float' object is not callable; perhaps you missed a comma?\n",
      "<ipython-input-40-47af383e471a>:5: SyntaxWarning: 'float' object is not callable; perhaps you missed a comma?\n",
      "  d=round(0.9(a/b)*c)   #Missing a Mathematical Operator\n"
     ]
    },
    {
     "ename": "TypeError",
     "evalue": "'float' object is not callable",
     "output_type": "error",
     "traceback": [
      "\u001b[1;31m---------------------------------------------------------------------------\u001b[0m",
      "\u001b[1;31mTypeError\u001b[0m                                 Traceback (most recent call last)",
      "\u001b[1;32m<ipython-input-40-47af383e471a>\u001b[0m in \u001b[0;36m<module>\u001b[1;34m\u001b[0m\n\u001b[0;32m      3\u001b[0m \u001b[0mc\u001b[0m \u001b[1;33m=\u001b[0m \u001b[1;36m16\u001b[0m\u001b[1;33m\u001b[0m\u001b[1;33m\u001b[0m\u001b[0m\n\u001b[0;32m      4\u001b[0m \u001b[1;33m\u001b[0m\u001b[0m\n\u001b[1;32m----> 5\u001b[1;33m \u001b[0md\u001b[0m\u001b[1;33m=\u001b[0m\u001b[0mround\u001b[0m\u001b[1;33m(\u001b[0m\u001b[1;36m0.9\u001b[0m\u001b[1;33m(\u001b[0m\u001b[0ma\u001b[0m\u001b[1;33m/\u001b[0m\u001b[0mb\u001b[0m\u001b[1;33m)\u001b[0m\u001b[1;33m*\u001b[0m\u001b[0mc\u001b[0m\u001b[1;33m)\u001b[0m   \u001b[1;31m#Missing a Mathematical Operator\u001b[0m\u001b[1;33m\u001b[0m\u001b[1;33m\u001b[0m\u001b[0m\n\u001b[0m\u001b[0;32m      6\u001b[0m \u001b[0md\u001b[0m\u001b[1;33m\u001b[0m\u001b[1;33m\u001b[0m\u001b[0m\n",
      "\u001b[1;31mTypeError\u001b[0m: 'float' object is not callable"
     ]
    }
   ],
   "source": [
    "a = 23\n",
    "b = 45\n",
    "c = 16\n",
    "\n",
    "d=round(0.9(a/b)*c)   #Missing a Mathematical Operator\n",
    "d"
   ]
  },
  {
   "cell_type": "code",
   "execution_count": 41,
   "id": "6ebf8ed0",
   "metadata": {},
   "outputs": [
    {
     "data": {
      "text/plain": [
       "7"
      ]
     },
     "execution_count": 41,
     "metadata": {},
     "output_type": "execute_result"
    }
   ],
   "source": [
    "a = 23\n",
    "b = 45\n",
    "c = 16\n",
    "\n",
    "d=round(0.9*(a/b)*c)\n",
    "d"
   ]
  },
  {
   "cell_type": "code",
   "execution_count": 42,
   "id": "0225cc7e",
   "metadata": {},
   "outputs": [
    {
     "name": "stdout",
     "output_type": "stream",
     "text": [
      "0\n"
     ]
    },
    {
     "ename": "TypeError",
     "evalue": "'int' object is not callable",
     "output_type": "error",
     "traceback": [
      "\u001b[1;31m---------------------------------------------------------------------------\u001b[0m",
      "\u001b[1;31mTypeError\u001b[0m                                 Traceback (most recent call last)",
      "\u001b[1;32m<ipython-input-42-9a63d8f4b007>\u001b[0m in \u001b[0;36m<module>\u001b[1;34m\u001b[0m\n\u001b[0;32m      2\u001b[0m \u001b[0mmax\u001b[0m \u001b[1;33m=\u001b[0m \u001b[1;36m0\u001b[0m\u001b[1;33m\u001b[0m\u001b[1;33m\u001b[0m\u001b[0m\n\u001b[0;32m      3\u001b[0m \u001b[0mprint\u001b[0m\u001b[1;33m(\u001b[0m\u001b[0mmax\u001b[0m\u001b[1;33m)\u001b[0m\u001b[1;33m\u001b[0m\u001b[1;33m\u001b[0m\u001b[0m\n\u001b[1;32m----> 4\u001b[1;33m \u001b[0mmax\u001b[0m \u001b[1;33m=\u001b[0m \u001b[0mmax\u001b[0m\u001b[1;33m(\u001b[0m\u001b[0ma\u001b[0m\u001b[1;33m)\u001b[0m   \u001b[1;31m#now this max biltin function holds value of 0. so to call it require mathamatical opreator before bracket\u001b[0m\u001b[1;33m\u001b[0m\u001b[1;33m\u001b[0m\u001b[0m\n\u001b[0m\u001b[0;32m      5\u001b[0m \u001b[0mprint\u001b[0m\u001b[1;33m(\u001b[0m\u001b[0mmax\u001b[0m\u001b[1;33m)\u001b[0m\u001b[1;33m\u001b[0m\u001b[1;33m\u001b[0m\u001b[0m\n",
      "\u001b[1;31mTypeError\u001b[0m: 'int' object is not callable"
     ]
    }
   ],
   "source": [
    "a = [5, 10, 15, 20]\n",
    "max = 0\n",
    "print(max)\n",
    "max = max(a)   #now this max biltin function holds value of 0. so to call it require mathamatical opreator before bracket\n",
    "print(max)"
   ]
  },
  {
   "cell_type": "code",
   "execution_count": null,
   "id": "e96d81c3",
   "metadata": {},
   "outputs": [],
   "source": [
    "a = [5, 10, 15, 20]\n",
    "max = 0\n",
    "max = max*(a)   #now this max biltin function holds value of 0. so to call it require mathamatical opreator before bracket\n",
    "print(max)"
   ]
  },
  {
   "cell_type": "code",
   "execution_count": null,
   "id": "872fdad3",
   "metadata": {},
   "outputs": [],
   "source": [
    "b = [5, 10, 15, 20]\n",
    "var = 0\n",
    "var =min(b)\n",
    "print(var)"
   ]
  },
  {
   "cell_type": "code",
   "execution_count": null,
   "id": "59dedb39",
   "metadata": {},
   "outputs": [],
   "source": [
    "sis='vino'\n",
    "print(ses)"
   ]
  },
  {
   "cell_type": "code",
   "execution_count": null,
   "id": "1610b156",
   "metadata": {},
   "outputs": [],
   "source": [
    "sis='vino'\n",
    "print(na)"
   ]
  },
  {
   "cell_type": "code",
   "execution_count": null,
   "id": "dca95ea1",
   "metadata": {},
   "outputs": [],
   "source": [
    "help(round)"
   ]
  },
  {
   "cell_type": "markdown",
   "id": "9e331e42",
   "metadata": {},
   "source": [
    "### band name generation pgm"
   ]
  },
  {
   "cell_type": "code",
   "execution_count": 10,
   "id": "14bf4b90",
   "metadata": {},
   "outputs": [
    {
     "name": "stdout",
     "output_type": "stream",
     "text": [
      "welcome to the city center\n",
      "here we create band name creation pgm by combining city and pet name\n",
      "enter a city name: kum\n",
      "enter a fav pet name: temple\n",
      "your bandname is kum temple\n"
     ]
    }
   ],
   "source": [
    "print('welcome to the city center\\nhere we create band name creation pgm by combining city and pet name')\n",
    "city_name=input('enter a city name: ')\n",
    "pet_name=input('enter a fav pet name: ')\n",
    "bandname=city_name+' '+pet_name\n",
    "print('your bandname is',bandname)   #here 1 space is created after a your bandname is and after that that value replaced\n",
    "\n"
   ]
  },
  {
   "cell_type": "code",
   "execution_count": null,
   "id": "7aea518e",
   "metadata": {},
   "outputs": [],
   "source": [
    "a=5\n",
    "print('you assaigned variable name a as',a)"
   ]
  },
  {
   "cell_type": "code",
   "execution_count": null,
   "id": "cba6c467",
   "metadata": {},
   "outputs": [],
   "source": [
    "print('welcome to the city center\\nhere we create band name creation pgm by combining city and pet name')\n",
    "city_name=input('enter a city name:\\n')\n",
    "pet_name=input('enter a fav pet name:\\n')\n",
    "#bandname=city_name+' '+pet_name\n",
    "#print('your bandname is',bandname)   #here 1 space is created after a your bandname is and after that that value replaced\n",
    "print('your bandname is'+' '+city_name+' '+pet_name)  #you can change this 5 lines of code into 4 lines of code"
   ]
  },
  {
   "cell_type": "code",
   "execution_count": null,
   "id": "9bfc8057",
   "metadata": {},
   "outputs": [],
   "source": []
  }
 ],
 "metadata": {
  "kernelspec": {
   "display_name": "Python 3 (ipykernel)",
   "language": "python",
   "name": "python3"
  },
  "language_info": {
   "codemirror_mode": {
    "name": "ipython",
    "version": 3
   },
   "file_extension": ".py",
   "mimetype": "text/x-python",
   "name": "python",
   "nbconvert_exporter": "python",
   "pygments_lexer": "ipython3",
   "version": "3.11.5"
  }
 },
 "nbformat": 4,
 "nbformat_minor": 5
}
