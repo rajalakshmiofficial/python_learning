{
 "cells": [
  {
   "cell_type": "code",
   "execution_count": 7,
   "id": "77a28933",
   "metadata": {},
   "outputs": [],
   "source": [
    "#from mem_profile import memory_usage_psutil\n",
    "#import mem_profile \n",
    "import random\n",
    "import time\n",
    "\n",
    "names = ['John', 'Corey', 'Adam', 'Steve', 'Rick', 'Thomas']\n",
    "majors = ['Math', 'Engineering', 'CompSci', 'Arts', 'Business']\n",
    "\n",
    "#print('Memory (Before): {}Mb'.format(mem_profile.memory_usage_psutil()))"
   ]
  },
  {
   "cell_type": "code",
   "execution_count": 12,
   "id": "ea1d88ce",
   "metadata": {},
   "outputs": [
    {
     "data": {
      "text/plain": [
       "[{'id': 0, 'name': 'Thomas', 'major': 'Arts'},\n",
       " {'id': 1, 'name': 'Thomas', 'major': 'CompSci'},\n",
       " {'id': 2, 'name': 'Rick', 'major': 'CompSci'},\n",
       " {'id': 3, 'name': 'John', 'major': 'Arts'},\n",
       " {'id': 4, 'name': 'Corey', 'major': 'Arts'},\n",
       " {'id': 5, 'name': 'Rick', 'major': 'Business'},\n",
       " {'id': 6, 'name': 'Thomas', 'major': 'CompSci'},\n",
       " {'id': 7, 'name': 'Adam', 'major': 'Math'},\n",
       " {'id': 8, 'name': 'Rick', 'major': 'Arts'},\n",
       " {'id': 9, 'name': 'Steve', 'major': 'Business'}]"
      ]
     },
     "execution_count": 12,
     "metadata": {},
     "output_type": "execute_result"
    }
   ],
   "source": [
    "def people_list(num_people):\n",
    "    result = []\n",
    "    for i in range(num_people):\n",
    "        person = {\n",
    "                    'id': i,\n",
    "                    'name': random.choice(names),\n",
    "                    'major': random.choice(majors)\n",
    "                }\n",
    "        result.append(person)\n",
    "    return result\n",
    "people = people_list(10)\n",
    "people"
   ]
  },
  {
   "cell_type": "code",
   "execution_count": 19,
   "id": "8c4b86f9",
   "metadata": {},
   "outputs": [
    {
     "name": "stdout",
     "output_type": "stream",
     "text": [
      "{'id': 0, 'name': 'Steve', 'major': 'Engineering'}\n",
      "{'id': 1, 'name': 'Adam', 'major': 'Math'}\n",
      "{'id': 2, 'name': 'Corey', 'major': 'Engineering'}\n",
      "{'id': 3, 'name': 'Corey', 'major': 'CompSci'}\n",
      "{'id': 4, 'name': 'John', 'major': 'CompSci'}\n",
      "{'id': 5, 'name': 'Adam', 'major': 'Business'}\n",
      "{'id': 6, 'name': 'Adam', 'major': 'CompSci'}\n",
      "{'id': 7, 'name': 'Adam', 'major': 'Engineering'}\n",
      "{'id': 8, 'name': 'Thomas', 'major': 'Engineering'}\n",
      "{'id': 9, 'name': 'Rick', 'major': 'Business'}\n"
     ]
    }
   ],
   "source": [
    "def people_generator(num_people):\n",
    "    for i in range(num_people):\n",
    "        person = {\n",
    "                    'id': i,\n",
    "                    'name': random.choice(names),\n",
    "                    'major': random.choice(majors)\n",
    "                }\n",
    "        yield person\n",
    "\n",
    "# t1 = time.clock()\n",
    "# people = people_list(1000000)\n",
    "# t2 = time.clock()\n",
    "\n",
    "#t1 = time.clock()\n",
    "people = people_generator(10)\n",
    "people\n",
    "for items in people:\n",
    "    print(items)\n",
    "#t2 = time.clock()"
   ]
  },
  {
   "cell_type": "markdown",
   "id": "2eabd673",
   "metadata": {},
   "source": [
    "The difference between 1 st and 2nd method is fast runtime and less memory usage"
   ]
  },
  {
   "cell_type": "markdown",
   "id": "5716ef1f",
   "metadata": {},
   "source": [
    "## 3 methods to print square numbers"
   ]
  },
  {
   "cell_type": "code",
   "execution_count": 21,
   "id": "21119d1a",
   "metadata": {},
   "outputs": [
    {
     "data": {
      "text/plain": [
       "[1]"
      ]
     },
     "execution_count": 21,
     "metadata": {},
     "output_type": "execute_result"
    }
   ],
   "source": [
    "def square_numbers(nums):\n",
    "    result=[]\n",
    "    for i in nums:\n",
    "        result.append(i*i)\n",
    "        return result\n",
    "         \n",
    "\n",
    "my_nums = square_numbers([1,2,3,4,5])\n",
    "my_nums"
   ]
  },
  {
   "cell_type": "code",
   "execution_count": 22,
   "id": "2e553ffe",
   "metadata": {},
   "outputs": [
    {
     "data": {
      "text/plain": [
       "[1, 4, 9, 16, 25]"
      ]
     },
     "execution_count": 22,
     "metadata": {},
     "output_type": "execute_result"
    }
   ],
   "source": [
    "def square_numbers(nums):\n",
    "    result=[]\n",
    "    for i in nums:\n",
    "        result.append(i*i)\n",
    "    return result\n",
    "         \n",
    "\n",
    "my_nums = square_numbers([1,2,3,4,5])\n",
    "my_nums"
   ]
  },
  {
   "cell_type": "code",
   "execution_count": 23,
   "id": "bd014e2e",
   "metadata": {},
   "outputs": [
    {
     "data": {
      "text/plain": [
       "<generator object square_numbers at 0x000001C6B7DFE5F0>"
      ]
     },
     "execution_count": 23,
     "metadata": {},
     "output_type": "execute_result"
    }
   ],
   "source": [
    "def square_numbers(nums):\n",
    "    \n",
    "    for i in nums:\n",
    "        yield (i*i)\n",
    "\n",
    "my_nums = square_numbers([1,2,3,4,5])\n",
    "my_nums"
   ]
  },
  {
   "cell_type": "code",
   "execution_count": 27,
   "id": "0d8bd55f",
   "metadata": {},
   "outputs": [
    {
     "name": "stdout",
     "output_type": "stream",
     "text": [
      "1\n",
      "4\n",
      "9\n",
      "16\n",
      "25\n"
     ]
    }
   ],
   "source": [
    "def square_numbers(nums):    \n",
    "    for i in nums:\n",
    "        yield (i*i)\n",
    "\n",
    "my_nums = square_numbers([1,2,3,4,5])\n",
    "print(next(my_nums))\n",
    "print(next(my_nums))\n",
    "print(next(my_nums))\n",
    "print(next(my_nums))\n",
    "print(next(my_nums))\n",
    "#print(next(my_nums))"
   ]
  },
  {
   "cell_type": "code",
   "execution_count": 29,
   "id": "9160d4ea",
   "metadata": {},
   "outputs": [
    {
     "name": "stdout",
     "output_type": "stream",
     "text": [
      "[1, 4, 9, 16, 25]\n"
     ]
    }
   ],
   "source": [
    "my_nums = (x*x for x in [1,2,3,4,5])\n",
    "\n",
    "print(list(my_nums)) # [1, 4, 9, 16, 25]"
   ]
  },
  {
   "cell_type": "code",
   "execution_count": 32,
   "id": "d2061499",
   "metadata": {},
   "outputs": [
    {
     "name": "stdout",
     "output_type": "stream",
     "text": [
      "[2, 4]\n"
     ]
    }
   ],
   "source": [
    "my_nums = (x for x in [1,2,3,4,5] if x%2==0)\n",
    "\n",
    "print(list(my_nums))"
   ]
  },
  {
   "cell_type": "code",
   "execution_count": null,
   "id": "07bbaa6d",
   "metadata": {},
   "outputs": [],
   "source": []
  }
 ],
 "metadata": {
  "kernelspec": {
   "display_name": "Python 3",
   "language": "python",
   "name": "python3"
  },
  "language_info": {
   "codemirror_mode": {
    "name": "ipython",
    "version": 3
   },
   "file_extension": ".py",
   "mimetype": "text/x-python",
   "name": "python",
   "nbconvert_exporter": "python",
   "pygments_lexer": "ipython3",
   "version": "3.8.8"
  }
 },
 "nbformat": 4,
 "nbformat_minor": 5
}
