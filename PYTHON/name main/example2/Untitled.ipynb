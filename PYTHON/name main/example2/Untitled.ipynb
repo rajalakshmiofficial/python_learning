{
 "cells": [
  {
   "cell_type": "code",
   "execution_count": 1,
   "id": "f61a438a",
   "metadata": {},
   "outputs": [
    {
     "name": "stdout",
     "output_type": "stream",
     "text": [
      "C:\\Users\\2124259\\OneDrive - Cognizant\\Desktop\\PYTHON\\name main\\example2\\.ipynb_checkpoints\n",
      "C:\\Users\\2124259\\OneDrive - Cognizant\\Desktop\\PYTHON\\name main\\example2\\mainfile.py\n",
      "C:\\Users\\2124259\\OneDrive - Cognizant\\Desktop\\PYTHON\\name main\\example2\\sub.py\n",
      "C:\\Users\\2124259\\OneDrive - Cognizant\\Desktop\\PYTHON\\name main\\example2\\Untitled.ipynb\n",
      "C:\\Users\\2124259\\OneDrive - Cognizant\\Desktop\\PYTHON\\name main\\example2\\__pycache__\n"
     ]
    }
   ],
   "source": [
    "# Importing OS module\n",
    "import os\n",
    "# geting the current directory\n",
    "cwd = os.getcwd()\n",
    "# joining the current directory\n",
    "path = os.path.join(cwd)\n",
    "# creating list of path\n",
    "files = os.listdir(path)\n",
    "# using for loop\n",
    "for file in files:\n",
    "    # printing the file name\n",
    "\tprint(os.path.join(path, file))"
   ]
  },
  {
   "cell_type": "code",
   "execution_count": 3,
   "id": "efd826a9",
   "metadata": {},
   "outputs": [
    {
     "data": {
      "text/plain": [
       "'C:\\\\Users\\\\2124259\\\\OneDrive - Cognizant\\\\Desktop\\\\PYTHON\\\\name main\\\\example2'"
      ]
     },
     "execution_count": 3,
     "metadata": {},
     "output_type": "execute_result"
    }
   ],
   "source": [
    "# Importing OS module\n",
    "import os\n",
    "# geting the current directory\n",
    "cwd = os.getcwd()\n",
    "cwd"
   ]
  },
  {
   "cell_type": "code",
   "execution_count": 4,
   "id": "76ebd596",
   "metadata": {},
   "outputs": [
    {
     "data": {
      "text/plain": [
       "'C:\\\\Users\\\\2124259\\\\OneDrive - Cognizant\\\\Desktop\\\\PYTHON\\\\name main\\\\example2'"
      ]
     },
     "execution_count": 4,
     "metadata": {},
     "output_type": "execute_result"
    }
   ],
   "source": [
    "path = os.path.join(cwd)\n",
    "path"
   ]
  },
  {
   "cell_type": "code",
   "execution_count": 5,
   "id": "41ed9558",
   "metadata": {},
   "outputs": [
    {
     "data": {
      "text/plain": [
       "['.ipynb_checkpoints',\n",
       " 'mainfile.py',\n",
       " 'sub.py',\n",
       " 'Untitled.ipynb',\n",
       " '__pycache__']"
      ]
     },
     "execution_count": 5,
     "metadata": {},
     "output_type": "execute_result"
    }
   ],
   "source": [
    "files = os.listdir(path)\n",
    "files"
   ]
  },
  {
   "cell_type": "markdown",
   "id": "e69645bc",
   "metadata": {},
   "source": [
    "https://www.tutorialsteacher.com/python/main-in-python"
   ]
  },
  {
   "cell_type": "markdown",
   "id": "b3bed203",
   "metadata": {},
   "source": [
    "Thus, using the special variable __name__ and the top-level scope __main__ increases the reusability. The Python script file can be executed from the command prompt/termainal as an indipendent script as well as when imported as a module."
   ]
  },
  {
   "cell_type": "code",
   "execution_count": null,
   "id": "c1a1d5ec",
   "metadata": {},
   "outputs": [],
   "source": []
  }
 ],
 "metadata": {
  "kernelspec": {
   "display_name": "Python 3",
   "language": "python",
   "name": "python3"
  },
  "language_info": {
   "codemirror_mode": {
    "name": "ipython",
    "version": 3
   },
   "file_extension": ".py",
   "mimetype": "text/x-python",
   "name": "python",
   "nbconvert_exporter": "python",
   "pygments_lexer": "ipython3",
   "version": "3.8.8"
  }
 },
 "nbformat": 4,
 "nbformat_minor": 5
}
