{
 "cells": [
  {
   "cell_type": "markdown",
   "id": "083bea24",
   "metadata": {},
   "source": [
    "https://www.askpython.com/python/built-in-methods/dot-notation"
   ]
  },
  {
   "cell_type": "code",
   "execution_count": 12,
   "id": "ad2dcf30",
   "metadata": {},
   "outputs": [],
   "source": [
    "class Person():\n",
    "    def __init__(self, name, age):\n",
    "        self.name = name\n",
    "        self.age = age\n",
    " \n",
    "    def sayHello(self):\n",
    "        print( \"Hello, World\" )\n",
    " \n",
    "    def sayName(self,father_name):\n",
    "        print( f\"My name is {self.name} and my father name is {father_name}\")"
   ]
  },
  {
   "cell_type": "code",
   "execution_count": 13,
   "id": "24d8735c",
   "metadata": {},
   "outputs": [],
   "source": [
    "object1_personclass=Person('raj',23)\n",
    "object2_personclass=Person('vino',18)\n"
   ]
  },
  {
   "cell_type": "code",
   "execution_count": 14,
   "id": "41807794",
   "metadata": {},
   "outputs": [
    {
     "data": {
      "text/plain": [
       "23"
      ]
     },
     "execution_count": 14,
     "metadata": {},
     "output_type": "execute_result"
    }
   ],
   "source": [
    "#Checking attributes through dot notation\n",
    "object1_personclass.age"
   ]
  },
  {
   "cell_type": "code",
   "execution_count": 15,
   "id": "d4ffbb6f",
   "metadata": {},
   "outputs": [
    {
     "name": "stdout",
     "output_type": "stream",
     "text": [
      "Hello, World\n"
     ]
    }
   ],
   "source": [
    "#Accessing the attributes through dot notation\n",
    "object1_personclass.sayHello()"
   ]
  },
  {
   "cell_type": "code",
   "execution_count": 17,
   "id": "5f243abe",
   "metadata": {},
   "outputs": [
    {
     "name": "stdout",
     "output_type": "stream",
     "text": [
      "My name is raj and my father name is karuppaiya\n"
     ]
    }
   ],
   "source": [
    "object1_personclass.sayName('karuppaiya')"
   ]
  },
  {
   "cell_type": "code",
   "execution_count": 19,
   "id": "f2eb9826",
   "metadata": {},
   "outputs": [
    {
     "data": {
      "text/plain": [
       "2"
      ]
     },
     "execution_count": 19,
     "metadata": {},
     "output_type": "execute_result"
    }
   ],
   "source": [
    "#A simple list called array with 3 elements\n",
    "words = ['godzilla', 'darkness', 'leaving heaven']\n",
    " \n",
    "#Getting the index of the list\n",
    "words.index('leaving heaven')"
   ]
  },
  {
   "cell_type": "markdown",
   "id": "5e115337",
   "metadata": {},
   "source": [
    "https://python-textbok.readthedocs.io/en/1.0/Classes.html"
   ]
  },
  {
   "cell_type": "code",
   "execution_count": 21,
   "id": "4106eb93",
   "metadata": {},
   "outputs": [
    {
     "name": "stdout",
     "output_type": "stream",
     "text": [
      "Heyy my name is Vikram. I Love coding\n"
     ]
    }
   ],
   "source": [
    "# Creating a class named Scaler\n",
    "class Scaler:\n",
    "    \n",
    "    def __init__(self, name, age, hobby):\n",
    "        self.name = name\n",
    "        self.age = age\n",
    "        self.hobby= hobby\n",
    "\n",
    "    def new(self):\n",
    "        print(\"Heyy my name is \" + self.name + \". I Love \" + self.hobby)\n",
    "\n",
    "obj2 = Scaler(\"Vikram\", 24, \"coding\")\n",
    "obj2.new()"
   ]
  },
  {
   "cell_type": "markdown",
   "id": "39785f20",
   "metadata": {},
   "source": [
    " the first argument which is passed in the function of the class must be \n",
    "    The “self” refers to the current instance of the class.the object itself. So it’s conventionally called “self”, passed as the first argument, followed by the subsequent arguments \n",
    "    The “self” refers to the current instance of the class."
   ]
  },
  {
   "cell_type": "markdown",
   "id": "0c647324",
   "metadata": {},
   "source": [
    " The init method is called each and every time a new object is being created from any class. The init method is similar to the constructors as in other programming languages(C++, Java). Such a method contains statements that would be executed during the run time(time of object creation)"
   ]
  },
  {
   "cell_type": "code",
   "execution_count": 22,
   "id": "80599198",
   "metadata": {},
   "outputs": [
    {
     "name": "stdout",
     "output_type": "stream",
     "text": [
      "10\n",
      "After modifying the object properties\n",
      "200\n"
     ]
    }
   ],
   "source": [
    "# Creating a class named Scaler\n",
    "class Scaler:\n",
    "  a = 10\n",
    "\n",
    "# Declaring an object\n",
    "obj1 = Scaler()\n",
    "print(obj1.a)\n",
    "\n",
    "#Modifying value\n",
    "obj1.a = 200\n",
    "print(\"After modifying the object properties\")\n",
    "print(obj1.a) "
   ]
  },
  {
   "cell_type": "code",
   "execution_count": 23,
   "id": "06166935",
   "metadata": {},
   "outputs": [],
   "source": [
    "del obj1.a"
   ]
  },
  {
   "cell_type": "markdown",
   "id": "76338666",
   "metadata": {},
   "source": [
    "Objects in python help us in practical problem-solving. Working around Classes and Objects makes writing code easier and more organized. We can group similar items and functions and reuse the code whenever we want, making the program more efficient.\n",
    "\n",
    "Grouping things together provide a clean structure and increases the program's readability."
   ]
  },
  {
   "cell_type": "markdown",
   "id": "c79a3055",
   "metadata": {},
   "source": [
    "https://www.scaler.com/topics/python/python-decorators/"
   ]
  },
  {
   "cell_type": "markdown",
   "id": "5069c6ec",
   "metadata": {},
   "source": [
    "### decorator example"
   ]
  },
  {
   "cell_type": "code",
   "execution_count": 39,
   "id": "8802e92e",
   "metadata": {},
   "outputs": [],
   "source": [
    "def decorator(func):\n",
    "  def wrapper():\n",
    "    print(\"This is printed before the function is called\")\n",
    "    func()\n",
    "    print(\"This is printed after the function is called\")\n",
    "    \n",
    "  return wrapper\n",
    "\n",
    "@decorator\n",
    "def say_hello():\n",
    "  print(\"Hello! The function is executing\")\n"
   ]
  },
  {
   "cell_type": "code",
   "execution_count": 40,
   "id": "a988edfa",
   "metadata": {},
   "outputs": [
    {
     "name": "stdout",
     "output_type": "stream",
     "text": [
      "This is printed before the function is called\n",
      "Hello! The function is executing\n",
      "This is printed after the function is called\n"
     ]
    }
   ],
   "source": [
    " say_hello()"
   ]
  },
  {
   "cell_type": "code",
   "execution_count": 65,
   "id": "99aac811",
   "metadata": {},
   "outputs": [],
   "source": [
    "#Explain the differences between the attributes name, surname and profession, and what values they can have in different instances of this class:\n",
    "\n",
    "class Smith:\n",
    "    surname = \"Smith\"\n",
    "    profession = \"default\"\n",
    "\n",
    "    def __init__(self, name, profession=None):\n",
    "   # def __init__(self, name, profession):\n",
    "        self.name = name\n",
    "        if profession is not None:\n",
    "            self.profession = profession"
   ]
  },
  {
   "cell_type": "code",
   "execution_count": 60,
   "id": "27b4ccb5",
   "metadata": {},
   "outputs": [],
   "source": [
    "o1=Smith('raj','engineer')"
   ]
  },
  {
   "cell_type": "code",
   "execution_count": 61,
   "id": "835170c8",
   "metadata": {},
   "outputs": [
    {
     "data": {
      "text/plain": [
       "'engineer'"
      ]
     },
     "execution_count": 61,
     "metadata": {},
     "output_type": "execute_result"
    }
   ],
   "source": [
    "o1.profession"
   ]
  },
  {
   "cell_type": "code",
   "execution_count": 69,
   "id": "2cbd9c5f",
   "metadata": {},
   "outputs": [
    {
     "data": {
      "text/plain": [
       "'Smith'"
      ]
     },
     "execution_count": 69,
     "metadata": {},
     "output_type": "execute_result"
    }
   ],
   "source": [
    "o1.surname"
   ]
  },
  {
   "cell_type": "markdown",
   "id": "bc91b992",
   "metadata": {},
   "source": [
    "name is always an instance attribute which is set in the constructor, and each class instance can have a different name value. surname is always a class attribute, and cannot be overridden in the constructor – every instance will have a surname value of Smith. profession is a class attribute, but it can optionally be overridden by an instance attribute in the constructor. Each instance will have a profession value of smith unless the optional surname parameter is passed into the constructor with a different value."
   ]
  },
  {
   "cell_type": "code",
   "execution_count": 70,
   "id": "5b7212a4",
   "metadata": {},
   "outputs": [],
   "source": [
    "o1.surname='pandey'"
   ]
  },
  {
   "cell_type": "code",
   "execution_count": 71,
   "id": "e5cdd214",
   "metadata": {},
   "outputs": [
    {
     "data": {
      "text/plain": [
       "'pandey'"
      ]
     },
     "execution_count": 71,
     "metadata": {},
     "output_type": "execute_result"
    }
   ],
   "source": [
    "o1.surname"
   ]
  },
  {
   "cell_type": "code",
   "execution_count": 72,
   "id": "f91a2fa2",
   "metadata": {},
   "outputs": [
    {
     "data": {
      "text/plain": [
       "'Smith'"
      ]
     },
     "execution_count": 72,
     "metadata": {},
     "output_type": "execute_result"
    }
   ],
   "source": [
    "o2.surname"
   ]
  },
  {
   "cell_type": "code",
   "execution_count": 67,
   "id": "a558bd2f",
   "metadata": {},
   "outputs": [],
   "source": [
    "o2=Smith('raj')"
   ]
  },
  {
   "cell_type": "code",
   "execution_count": 68,
   "id": "324c5364",
   "metadata": {},
   "outputs": [
    {
     "data": {
      "text/plain": [
       "'default'"
      ]
     },
     "execution_count": 68,
     "metadata": {},
     "output_type": "execute_result"
    }
   ],
   "source": [
    "o2.profession"
   ]
  },
  {
   "cell_type": "code",
   "execution_count": 75,
   "id": "65a75ebf",
   "metadata": {},
   "outputs": [
    {
     "name": "stdout",
     "output_type": "stream",
     "text": [
      "C:\\Users\\2124259\\OneDrive - Cognizant\\Desktop\\PYTHON\\dotmethoed\n"
     ]
    }
   ],
   "source": [
    "# importing os module\n",
    "import os   \n",
    "# os.getcwd method\n",
    "print(os.getcwd())  "
   ]
  },
  {
   "cell_type": "code",
   "execution_count": null,
   "id": "2dd3f8b1",
   "metadata": {},
   "outputs": [],
   "source": []
  }
 ],
 "metadata": {
  "kernelspec": {
   "display_name": "Python 3",
   "language": "python",
   "name": "python3"
  },
  "language_info": {
   "codemirror_mode": {
    "name": "ipython",
    "version": 3
   },
   "file_extension": ".py",
   "mimetype": "text/x-python",
   "name": "python",
   "nbconvert_exporter": "python",
   "pygments_lexer": "ipython3",
   "version": "3.8.8"
  }
 },
 "nbformat": 4,
 "nbformat_minor": 5
}
