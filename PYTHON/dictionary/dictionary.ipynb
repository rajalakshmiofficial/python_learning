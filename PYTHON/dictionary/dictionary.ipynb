{
 "cells": [
  {
   "cell_type": "code",
   "execution_count": 1,
   "id": "f776c8f5",
   "metadata": {},
   "outputs": [
    {
     "data": {
      "text/plain": [
       "{'a': 'hi', 'b': 'hello'}"
      ]
     },
     "execution_count": 1,
     "metadata": {},
     "output_type": "execute_result"
    }
   ],
   "source": [
    "a={'a':'hi','b':'hello'}\n",
    "a"
   ]
  },
  {
   "cell_type": "code",
   "execution_count": 3,
   "id": "0f89b60f",
   "metadata": {},
   "outputs": [
    {
     "data": {
      "text/plain": [
       "'hello'"
      ]
     },
     "execution_count": 3,
     "metadata": {},
     "output_type": "execute_result"
    }
   ],
   "source": [
    "item_b=a.get('b')\n",
    "item_b"
   ]
  },
  {
   "cell_type": "code",
   "execution_count": 7,
   "id": "dd9e531e",
   "metadata": {},
   "outputs": [],
   "source": [
    "a=dict(a='how',b='are')"
   ]
  },
  {
   "cell_type": "code",
   "execution_count": 8,
   "id": "54e64b41",
   "metadata": {},
   "outputs": [
    {
     "data": {
      "text/plain": [
       "{'a': 'how', 'b': 'are'}"
      ]
     },
     "execution_count": 8,
     "metadata": {},
     "output_type": "execute_result"
    }
   ],
   "source": [
    "a"
   ]
  },
  {
   "cell_type": "code",
   "execution_count": 15,
   "id": "d458ae8e",
   "metadata": {},
   "outputs": [
    {
     "data": {
      "text/plain": [
       "{'country': 'india',\n",
       " 'continent': 'asia',\n",
       " 'vowel': ('a', 'e', 'i', 'o', 'u'),\n",
       " 'last': 'removed'}"
      ]
     },
     "execution_count": 15,
     "metadata": {},
     "output_type": "execute_result"
    }
   ],
   "source": [
    "#adding items in dictionary\n",
    "d={}\n",
    "d['country']='india'\n",
    "d['continent']='asia'\n",
    "d['vowel']='a','e','i','o','u'\n",
    "d['last']='removed'\n",
    "d"
   ]
  },
  {
   "cell_type": "code",
   "execution_count": null,
   "id": "8c5998a0",
   "metadata": {},
   "outputs": [],
   "source": [
    "#remove items from dictionary"
   ]
  },
  {
   "cell_type": "code",
   "execution_count": 16,
   "id": "74c6cdbc",
   "metadata": {},
   "outputs": [
    {
     "data": {
      "text/plain": [
       "'india'"
      ]
     },
     "execution_count": 16,
     "metadata": {},
     "output_type": "execute_result"
    }
   ],
   "source": [
    "a=d.pop('country') #delete key and returns value\n",
    "a\n"
   ]
  },
  {
   "cell_type": "code",
   "execution_count": 17,
   "id": "e8dfb204",
   "metadata": {},
   "outputs": [
    {
     "data": {
      "text/plain": [
       "('last', 'removed')"
      ]
     },
     "execution_count": 17,
     "metadata": {},
     "output_type": "execute_result"
    }
   ],
   "source": [
    "a=d.popitem() #lastkey removed and returns keyvalue\n",
    "a"
   ]
  },
  {
   "cell_type": "code",
   "execution_count": 18,
   "id": "8c473b25",
   "metadata": {},
   "outputs": [
    {
     "data": {
      "text/plain": [
       "{'continent': 'asia', 'vowel': ('a', 'e', 'i', 'o', 'u')}"
      ]
     },
     "execution_count": 18,
     "metadata": {},
     "output_type": "execute_result"
    }
   ],
   "source": [
    "d"
   ]
  },
  {
   "cell_type": "code",
   "execution_count": 19,
   "id": "adfd4dac",
   "metadata": {},
   "outputs": [
    {
     "ename": "TypeError",
     "evalue": "popitem() takes no arguments (1 given)",
     "output_type": "error",
     "traceback": [
      "\u001b[1;31m---------------------------------------------------------------------------\u001b[0m",
      "\u001b[1;31mTypeError\u001b[0m                                 Traceback (most recent call last)",
      "\u001b[1;32m<ipython-input-19-a1f1243a822f>\u001b[0m in \u001b[0;36m<module>\u001b[1;34m\u001b[0m\n\u001b[1;32m----> 1\u001b[1;33m \u001b[0ma\u001b[0m\u001b[1;33m=\u001b[0m\u001b[0md\u001b[0m\u001b[1;33m.\u001b[0m\u001b[0mpopitem\u001b[0m\u001b[1;33m(\u001b[0m\u001b[1;34m'continent'\u001b[0m\u001b[1;33m)\u001b[0m\u001b[1;33m\u001b[0m\u001b[1;33m\u001b[0m\u001b[0m\n\u001b[0m",
      "\u001b[1;31mTypeError\u001b[0m: popitem() takes no arguments (1 given)"
     ]
    }
   ],
   "source": [
    "a=d.popitem('continent')"
   ]
  },
  {
   "cell_type": "code",
   "execution_count": 20,
   "id": "cab8a3fc",
   "metadata": {},
   "outputs": [
    {
     "data": {
      "text/plain": [
       "{'continent': 'asia', 'vowel': ('a', 'e', 'i', 'o', 'u')}"
      ]
     },
     "execution_count": 20,
     "metadata": {},
     "output_type": "execute_result"
    }
   ],
   "source": [
    "d"
   ]
  },
  {
   "cell_type": "code",
   "execution_count": 21,
   "id": "be1aee71",
   "metadata": {},
   "outputs": [],
   "source": [
    "del d['continent']"
   ]
  },
  {
   "cell_type": "code",
   "execution_count": 22,
   "id": "9129aab8",
   "metadata": {},
   "outputs": [
    {
     "data": {
      "text/plain": [
       "{'vowel': ('a', 'e', 'i', 'o', 'u')}"
      ]
     },
     "execution_count": 22,
     "metadata": {},
     "output_type": "execute_result"
    }
   ],
   "source": [
    "d"
   ]
  },
  {
   "cell_type": "code",
   "execution_count": 23,
   "id": "f7b4f6ff",
   "metadata": {},
   "outputs": [],
   "source": [
    "del d"
   ]
  },
  {
   "cell_type": "code",
   "execution_count": 24,
   "id": "502ba8a9",
   "metadata": {},
   "outputs": [
    {
     "ename": "NameError",
     "evalue": "name 'd' is not defined",
     "output_type": "error",
     "traceback": [
      "\u001b[1;31m---------------------------------------------------------------------------\u001b[0m",
      "\u001b[1;31mNameError\u001b[0m                                 Traceback (most recent call last)",
      "\u001b[1;32m<ipython-input-24-e983f374794d>\u001b[0m in \u001b[0;36m<module>\u001b[1;34m\u001b[0m\n\u001b[1;32m----> 1\u001b[1;33m \u001b[0md\u001b[0m\u001b[1;33m\u001b[0m\u001b[1;33m\u001b[0m\u001b[0m\n\u001b[0m",
      "\u001b[1;31mNameError\u001b[0m: name 'd' is not defined"
     ]
    }
   ],
   "source": [
    "d"
   ]
  },
  {
   "cell_type": "code",
   "execution_count": 25,
   "id": "36043099",
   "metadata": {},
   "outputs": [],
   "source": [
    "#updating dictionary"
   ]
  },
  {
   "cell_type": "code",
   "execution_count": 26,
   "id": "935f2b03",
   "metadata": {},
   "outputs": [
    {
     "data": {
      "text/plain": [
       "{'country': 'india',\n",
       " 'continent': 'asia',\n",
       " 'vowel': ('a', 'e', 'i', 'o', 'u'),\n",
       " 'last': 'removed'}"
      ]
     },
     "execution_count": 26,
     "metadata": {},
     "output_type": "execute_result"
    }
   ],
   "source": [
    "d={}\n",
    "d['country']='india'\n",
    "d['continent']='asia'\n",
    "d['vowel']='a','e','i','o','u'\n",
    "d['last']='removed'\n",
    "d"
   ]
  },
  {
   "cell_type": "code",
   "execution_count": 27,
   "id": "b50b8cc3",
   "metadata": {},
   "outputs": [
    {
     "data": {
      "text/plain": [
       "{'country': 'india',\n",
       " 'continent': 'asia',\n",
       " 'vowel': ('a', 'e', 'i', 'o', 'u'),\n",
       " 'last': 'removed',\n",
       " 'new': 'added'}"
      ]
     },
     "execution_count": 27,
     "metadata": {},
     "output_type": "execute_result"
    }
   ],
   "source": [
    "d.update({'new':'added'})\n",
    "d"
   ]
  },
  {
   "cell_type": "code",
   "execution_count": 28,
   "id": "98820c96",
   "metadata": {},
   "outputs": [
    {
     "data": {
      "text/plain": [
       "{'country': 'Pakisthan',\n",
       " 'continent': 'asia',\n",
       " 'vowel': ('a', 'e', 'i', 'o', 'u'),\n",
       " 'last': 'removed',\n",
       " 'new': 'added',\n",
       " 'new2': 'added_new'}"
      ]
     },
     "execution_count": 28,
     "metadata": {},
     "output_type": "execute_result"
    }
   ],
   "source": [
    "#another method\n",
    "d['new2']='added_new'\n",
    "d['country']='Pakisthan'  #already present key -->value change\n",
    "d"
   ]
  },
  {
   "cell_type": "code",
   "execution_count": 29,
   "id": "0c907411",
   "metadata": {},
   "outputs": [],
   "source": [
    "#combine dictionary"
   ]
  },
  {
   "cell_type": "code",
   "execution_count": 30,
   "id": "cb601d38",
   "metadata": {},
   "outputs": [
    {
     "ename": "TypeError",
     "evalue": "unsupported operand type(s) for +: 'dict' and 'dict'",
     "output_type": "error",
     "traceback": [
      "\u001b[1;31m---------------------------------------------------------------------------\u001b[0m",
      "\u001b[1;31mTypeError\u001b[0m                                 Traceback (most recent call last)",
      "\u001b[1;32m<ipython-input-30-f226edbaa862>\u001b[0m in \u001b[0;36m<module>\u001b[1;34m\u001b[0m\n\u001b[0;32m      7\u001b[0m \u001b[0mdict2\u001b[0m\u001b[1;33m[\u001b[0m\u001b[1;34m'new2'\u001b[0m\u001b[1;33m]\u001b[0m\u001b[1;33m=\u001b[0m\u001b[1;34m'added_new'\u001b[0m\u001b[1;33m\u001b[0m\u001b[1;33m\u001b[0m\u001b[0m\n\u001b[0;32m      8\u001b[0m \u001b[0mdict2\u001b[0m\u001b[1;33m[\u001b[0m\u001b[1;34m'country'\u001b[0m\u001b[1;33m]\u001b[0m\u001b[1;33m=\u001b[0m\u001b[1;34m'Pakisthan'\u001b[0m\u001b[1;33m\u001b[0m\u001b[1;33m\u001b[0m\u001b[0m\n\u001b[1;32m----> 9\u001b[1;33m \u001b[0mdict3\u001b[0m\u001b[1;33m=\u001b[0m\u001b[0mdict1\u001b[0m\u001b[1;33m+\u001b[0m\u001b[0mdict2\u001b[0m\u001b[1;33m\u001b[0m\u001b[1;33m\u001b[0m\u001b[0m\n\u001b[0m",
      "\u001b[1;31mTypeError\u001b[0m: unsupported operand type(s) for +: 'dict' and 'dict'"
     ]
    }
   ],
   "source": [
    "dict1={}\n",
    "dict1['country']='india'\n",
    "dict1['continent']='asia'\n",
    "dict1['vowel']='a','e','i','o','u'\n",
    "dict1['last']='removed'\n",
    "dict2={}\n",
    "dict2['new2']='added_new'\n",
    "dict2['country']='Pakisthan'\n",
    "#dict3=dict1+dict2"
   ]
  },
  {
   "cell_type": "code",
   "execution_count": 33,
   "id": "166a5eb0",
   "metadata": {},
   "outputs": [
    {
     "name": "stdout",
     "output_type": "stream",
     "text": [
      "{'country': 'india', 'continent': 'asia', 'vowel': ('a', 'e', 'i', 'o', 'u'), 'last': 'removed'}\n",
      "{'new2': 'added_new', 'country': 'Pakisthan'}\n"
     ]
    }
   ],
   "source": [
    "dict3={}\n",
    "for items in dict1,dict2:\n",
    "    print(items)\n",
    "    dict3.update(items)"
   ]
  },
  {
   "cell_type": "code",
   "execution_count": 32,
   "id": "595b2049",
   "metadata": {},
   "outputs": [
    {
     "data": {
      "text/plain": [
       "{'country': 'Pakisthan',\n",
       " 'continent': 'asia',\n",
       " 'vowel': ('a', 'e', 'i', 'o', 'u'),\n",
       " 'last': 'removed',\n",
       " 'new2': 'added_new'}"
      ]
     },
     "execution_count": 32,
     "metadata": {},
     "output_type": "execute_result"
    }
   ],
   "source": [
    "dict3"
   ]
  },
  {
   "cell_type": "code",
   "execution_count": 38,
   "id": "b39e8fbb",
   "metadata": {},
   "outputs": [
    {
     "ename": "TypeError",
     "evalue": "update expected at most 1 argument, got 2",
     "output_type": "error",
     "traceback": [
      "\u001b[1;31m---------------------------------------------------------------------------\u001b[0m",
      "\u001b[1;31mTypeError\u001b[0m                                 Traceback (most recent call last)",
      "\u001b[1;32m<ipython-input-38-13dee15bc81a>\u001b[0m in \u001b[0;36m<module>\u001b[1;34m\u001b[0m\n\u001b[0;32m      1\u001b[0m \u001b[0mdict4\u001b[0m\u001b[1;33m=\u001b[0m\u001b[1;33m{\u001b[0m\u001b[1;33m}\u001b[0m\u001b[1;33m\u001b[0m\u001b[1;33m\u001b[0m\u001b[0m\n\u001b[1;32m----> 2\u001b[1;33m \u001b[0mdict4\u001b[0m\u001b[1;33m.\u001b[0m\u001b[0mupdate\u001b[0m\u001b[1;33m(\u001b[0m\u001b[0mdict1\u001b[0m\u001b[1;33m,\u001b[0m\u001b[0mdict2\u001b[0m\u001b[1;33m)\u001b[0m\u001b[1;33m\u001b[0m\u001b[1;33m\u001b[0m\u001b[0m\n\u001b[0m\u001b[0;32m      3\u001b[0m \u001b[0mdict4\u001b[0m\u001b[1;33m\u001b[0m\u001b[1;33m\u001b[0m\u001b[0m\n",
      "\u001b[1;31mTypeError\u001b[0m: update expected at most 1 argument, got 2"
     ]
    }
   ],
   "source": [
    "dict4={}\n",
    "dict4.update(dict1,dict2)\n",
    "dict4\n"
   ]
  },
  {
   "cell_type": "code",
   "execution_count": 39,
   "id": "076d305c",
   "metadata": {},
   "outputs": [],
   "source": [
    "#Nested dictionary\n",
    "d={'evensq':{2:4,3:9,4:16},\n",
    "  'oddsq':{3:9,5:25,7:49}}"
   ]
  },
  {
   "cell_type": "code",
   "execution_count": 40,
   "id": "03da9271",
   "metadata": {},
   "outputs": [
    {
     "data": {
      "text/plain": [
       "{'evensq': {2: 4, 3: 9, 4: 16}, 'oddsq': {3: 9, 5: 25, 7: 49}}"
      ]
     },
     "execution_count": 40,
     "metadata": {},
     "output_type": "execute_result"
    }
   ],
   "source": [
    "d"
   ]
  },
  {
   "cell_type": "code",
   "execution_count": 41,
   "id": "f9c6e278",
   "metadata": {},
   "outputs": [
    {
     "data": {
      "text/plain": [
       "{2: 4, 3: 9, 4: 16}"
      ]
     },
     "execution_count": 41,
     "metadata": {},
     "output_type": "execute_result"
    }
   ],
   "source": [
    "d['evensq']"
   ]
  },
  {
   "cell_type": "code",
   "execution_count": 42,
   "id": "be053963",
   "metadata": {},
   "outputs": [
    {
     "data": {
      "text/plain": [
       "9"
      ]
     },
     "execution_count": 42,
     "metadata": {},
     "output_type": "execute_result"
    }
   ],
   "source": [
    "d['evensq'][3]"
   ]
  },
  {
   "cell_type": "code",
   "execution_count": null,
   "id": "b9b683bc",
   "metadata": {},
   "outputs": [],
   "source": [
    "#keys of dictionary"
   ]
  },
  {
   "cell_type": "code",
   "execution_count": 43,
   "id": "15de84fe",
   "metadata": {},
   "outputs": [
    {
     "name": "stdout",
     "output_type": "stream",
     "text": [
      "country\n",
      "continent\n",
      "vowel\n",
      "last\n"
     ]
    }
   ],
   "source": [
    "for items in dict1:\n",
    "    print(items)"
   ]
  },
  {
   "cell_type": "code",
   "execution_count": 45,
   "id": "eb82f31d",
   "metadata": {},
   "outputs": [
    {
     "name": "stdout",
     "output_type": "stream",
     "text": [
      "{'country': 'india', 'continent': 'asia', 'vowel': ('a', 'e', 'i', 'o', 'u'), 'last': 'removed'}\n",
      "{'new2': 'added_new', 'country': 'Pakisthan'}\n"
     ]
    }
   ],
   "source": [
    "for items in dict1,dict2:  #checkin\n",
    "    print(items)"
   ]
  },
  {
   "cell_type": "code",
   "execution_count": 48,
   "id": "7788c31b",
   "metadata": {},
   "outputs": [
    {
     "name": "stdout",
     "output_type": "stream",
     "text": [
      "dict_keys(['country', 'continent', 'vowel', 'last', 'new2'])\n"
     ]
    }
   ],
   "source": [
    "print(dict3.keys())"
   ]
  },
  {
   "cell_type": "code",
   "execution_count": 49,
   "id": "f971d30b",
   "metadata": {},
   "outputs": [
    {
     "name": "stdout",
     "output_type": "stream",
     "text": [
      "evensq\n",
      "oddsq\n"
     ]
    }
   ],
   "source": [
    "#get values using forloop\n",
    "for x in d:  #keys\n",
    "    print(x)"
   ]
  },
  {
   "cell_type": "code",
   "execution_count": 50,
   "id": "0602cd40",
   "metadata": {},
   "outputs": [
    {
     "name": "stdout",
     "output_type": "stream",
     "text": [
      "{2: 4, 3: 9, 4: 16}\n",
      "{3: 9, 5: 25, 7: 49}\n"
     ]
    }
   ],
   "source": [
    "for x in d:\n",
    "    print(d[x])"
   ]
  },
  {
   "cell_type": "code",
   "execution_count": 51,
   "id": "a0b89789",
   "metadata": {},
   "outputs": [
    {
     "name": "stdout",
     "output_type": "stream",
     "text": [
      "Pakisthan\n",
      "asia\n",
      "('a', 'e', 'i', 'o', 'u')\n",
      "removed\n",
      "added_new\n"
     ]
    }
   ],
   "source": [
    "for x in dict3:\n",
    "    print(dict3[x])"
   ]
  },
  {
   "cell_type": "code",
   "execution_count": 52,
   "id": "35037de6",
   "metadata": {},
   "outputs": [
    {
     "data": {
      "text/plain": [
       "dict_values(['Pakisthan', 'asia', ('a', 'e', 'i', 'o', 'u'), 'removed', 'added_new'])"
      ]
     },
     "execution_count": 52,
     "metadata": {},
     "output_type": "execute_result"
    }
   ],
   "source": [
    "dict3.values()"
   ]
  },
  {
   "cell_type": "code",
   "execution_count": 53,
   "id": "0ad2e615",
   "metadata": {},
   "outputs": [
    {
     "data": {
      "text/plain": [
       "{'country': 'Pakisthan',\n",
       " 'continent': 'asia',\n",
       " 'vowel': ('a', 'e', 'i', 'o', 'u'),\n",
       " 'last': 'removed',\n",
       " 'new2': 'added_new'}"
      ]
     },
     "execution_count": 53,
     "metadata": {},
     "output_type": "execute_result"
    }
   ],
   "source": [
    "dict3"
   ]
  },
  {
   "cell_type": "code",
   "execution_count": 54,
   "id": "77149569",
   "metadata": {},
   "outputs": [
    {
     "data": {
      "text/plain": [
       "dict_items([('country', 'Pakisthan'), ('continent', 'asia'), ('vowel', ('a', 'e', 'i', 'o', 'u')), ('last', 'removed'), ('new2', 'added_new')])"
      ]
     },
     "execution_count": 54,
     "metadata": {},
     "output_type": "execute_result"
    }
   ],
   "source": [
    "dict3.items()"
   ]
  },
  {
   "cell_type": "code",
   "execution_count": 56,
   "id": "cf321364",
   "metadata": {},
   "outputs": [
    {
     "name": "stdout",
     "output_type": "stream",
     "text": [
      "evensq {2: 4, 3: 9, 4: 16}\n",
      "oddsq {3: 9, 5: 25, 7: 49}\n"
     ]
    }
   ],
   "source": [
    "for x,y in d.items():\n",
    "    print(x,y)"
   ]
  },
  {
   "cell_type": "code",
   "execution_count": 59,
   "id": "4e0166cc",
   "metadata": {},
   "outputs": [
    {
     "name": "stdout",
     "output_type": "stream",
     "text": [
      "yes\n"
     ]
    }
   ],
   "source": [
    "#in/del/clear\n",
    "if 'continent' in dict3:\n",
    "    print('yes')"
   ]
  },
  {
   "cell_type": "code",
   "execution_count": 61,
   "id": "7076a225",
   "metadata": {},
   "outputs": [
    {
     "name": "stdout",
     "output_type": "stream",
     "text": [
      "no\n"
     ]
    }
   ],
   "source": [
    "if 'co' in dict3:\n",
    "    print('yes')\n",
    "else:\n",
    "    print('no')"
   ]
  },
  {
   "cell_type": "code",
   "execution_count": 62,
   "id": "8404b7b1",
   "metadata": {},
   "outputs": [],
   "source": [
    "d.clear()"
   ]
  },
  {
   "cell_type": "code",
   "execution_count": 63,
   "id": "c7fb929c",
   "metadata": {},
   "outputs": [
    {
     "data": {
      "text/plain": [
       "{}"
      ]
     },
     "execution_count": 63,
     "metadata": {},
     "output_type": "execute_result"
    }
   ],
   "source": [
    "d"
   ]
  },
  {
   "cell_type": "code",
   "execution_count": 64,
   "id": "68d67410",
   "metadata": {},
   "outputs": [
    {
     "data": {
      "text/plain": [
       "{'country': 'india',\n",
       " 'continent': 'asia',\n",
       " 'vowel': ('a', 'e', 'i', 'o', 'u'),\n",
       " 'last': 'removed'}"
      ]
     },
     "execution_count": 64,
     "metadata": {},
     "output_type": "execute_result"
    }
   ],
   "source": [
    "dict1"
   ]
  },
  {
   "cell_type": "code",
   "execution_count": 65,
   "id": "8d348436",
   "metadata": {},
   "outputs": [],
   "source": [
    "del dict1 #completely delete"
   ]
  },
  {
   "cell_type": "code",
   "execution_count": 66,
   "id": "dc7dbde8",
   "metadata": {},
   "outputs": [
    {
     "ename": "NameError",
     "evalue": "name 'dict1' is not defined",
     "output_type": "error",
     "traceback": [
      "\u001b[1;31m---------------------------------------------------------------------------\u001b[0m",
      "\u001b[1;31mNameError\u001b[0m                                 Traceback (most recent call last)",
      "\u001b[1;32m<ipython-input-66-e36219336d90>\u001b[0m in \u001b[0;36m<module>\u001b[1;34m\u001b[0m\n\u001b[1;32m----> 1\u001b[1;33m \u001b[0mdict1\u001b[0m\u001b[1;33m\u001b[0m\u001b[1;33m\u001b[0m\u001b[0m\n\u001b[0m",
      "\u001b[1;31mNameError\u001b[0m: name 'dict1' is not defined"
     ]
    }
   ],
   "source": [
    "dict1"
   ]
  },
  {
   "cell_type": "code",
   "execution_count": 67,
   "id": "51bf0192",
   "metadata": {},
   "outputs": [
    {
     "data": {
      "text/plain": [
       "{}"
      ]
     },
     "execution_count": 67,
     "metadata": {},
     "output_type": "execute_result"
    }
   ],
   "source": [
    "dict2.clear()  #it will remove/clear all elements and return empty dic\n",
    "dict2"
   ]
  },
  {
   "cell_type": "code",
   "execution_count": 73,
   "id": "45529449",
   "metadata": {},
   "outputs": [
    {
     "name": "stdout",
     "output_type": "stream",
     "text": [
      "2187922037440\n",
      "2187937391360\n"
     ]
    }
   ],
   "source": [
    "#copy dictionary --it not exactly same just copy and memory is different,both are different if change one another wont affect\n",
    "dict4=dict3.copy()\n",
    "print(id(dict3))\n",
    "print(id(dict4))"
   ]
  },
  {
   "cell_type": "code",
   "execution_count": 69,
   "id": "7b0f05da",
   "metadata": {},
   "outputs": [
    {
     "data": {
      "text/plain": [
       "{'country': 'Pakisthan',\n",
       " 'continent': 'asia',\n",
       " 'vowel': ('a', 'e', 'i', 'o', 'u'),\n",
       " 'last': 'removed',\n",
       " 'new2': 'added_new'}"
      ]
     },
     "execution_count": 69,
     "metadata": {},
     "output_type": "execute_result"
    }
   ],
   "source": [
    "dict4"
   ]
  },
  {
   "cell_type": "code",
   "execution_count": 70,
   "id": "4093d40a",
   "metadata": {},
   "outputs": [],
   "source": [
    "del dict4['new2']"
   ]
  },
  {
   "cell_type": "code",
   "execution_count": 71,
   "id": "7bc7adfd",
   "metadata": {},
   "outputs": [
    {
     "data": {
      "text/plain": [
       "{'country': 'Pakisthan',\n",
       " 'continent': 'asia',\n",
       " 'vowel': ('a', 'e', 'i', 'o', 'u'),\n",
       " 'last': 'removed'}"
      ]
     },
     "execution_count": 71,
     "metadata": {},
     "output_type": "execute_result"
    }
   ],
   "source": [
    "dict4"
   ]
  },
  {
   "cell_type": "code",
   "execution_count": 72,
   "id": "58d025d6",
   "metadata": {},
   "outputs": [
    {
     "data": {
      "text/plain": [
       "{'country': 'Pakisthan',\n",
       " 'continent': 'asia',\n",
       " 'vowel': ('a', 'e', 'i', 'o', 'u'),\n",
       " 'last': 'removed',\n",
       " 'new2': 'added_new'}"
      ]
     },
     "execution_count": 72,
     "metadata": {},
     "output_type": "execute_result"
    }
   ],
   "source": [
    "dict3"
   ]
  },
  {
   "cell_type": "code",
   "execution_count": 74,
   "id": "ecdbce5f",
   "metadata": {},
   "outputs": [
    {
     "name": "stdout",
     "output_type": "stream",
     "text": [
      "2187922037440\n",
      "2187922037440\n"
     ]
    }
   ],
   "source": [
    "#case2\n",
    "dict5=dict3\n",
    "print(id(dict3))\n",
    "print(id(dict5))"
   ]
  },
  {
   "cell_type": "code",
   "execution_count": 75,
   "id": "38a702e2",
   "metadata": {},
   "outputs": [],
   "source": [
    "del dict5['new2']"
   ]
  },
  {
   "cell_type": "code",
   "execution_count": 76,
   "id": "fbf63652",
   "metadata": {},
   "outputs": [
    {
     "data": {
      "text/plain": [
       "{'country': 'Pakisthan',\n",
       " 'continent': 'asia',\n",
       " 'vowel': ('a', 'e', 'i', 'o', 'u'),\n",
       " 'last': 'removed'}"
      ]
     },
     "execution_count": 76,
     "metadata": {},
     "output_type": "execute_result"
    }
   ],
   "source": [
    "dict5"
   ]
  },
  {
   "cell_type": "code",
   "execution_count": 77,
   "id": "458c37a9",
   "metadata": {},
   "outputs": [
    {
     "data": {
      "text/plain": [
       "{'country': 'Pakisthan',\n",
       " 'continent': 'asia',\n",
       " 'vowel': ('a', 'e', 'i', 'o', 'u'),\n",
       " 'last': 'removed'}"
      ]
     },
     "execution_count": 77,
     "metadata": {},
     "output_type": "execute_result"
    }
   ],
   "source": [
    "dict3"
   ]
  },
  {
   "cell_type": "code",
   "execution_count": 78,
   "id": "e7779ee4",
   "metadata": {},
   "outputs": [],
   "source": [
    "#convert tuple to dictionary"
   ]
  },
  {
   "cell_type": "code",
   "execution_count": 79,
   "id": "1f76ce2b",
   "metadata": {},
   "outputs": [
    {
     "data": {
      "text/plain": [
       "{2: 3, 4: 5, 6: 7}"
      ]
     },
     "execution_count": 79,
     "metadata": {},
     "output_type": "execute_result"
    }
   ],
   "source": [
    "t=((2,3),(4,5),(6,7))\n",
    "r=dict(t)\n",
    "r"
   ]
  },
  {
   "cell_type": "code",
   "execution_count": 80,
   "id": "040b5978",
   "metadata": {},
   "outputs": [],
   "source": [
    "#convert dictionary to tuple"
   ]
  },
  {
   "cell_type": "code",
   "execution_count": 82,
   "id": "dbd15f34",
   "metadata": {},
   "outputs": [
    {
     "data": {
      "text/plain": [
       "('country', 'continent', 'vowel', 'last')"
      ]
     },
     "execution_count": 82,
     "metadata": {},
     "output_type": "execute_result"
    }
   ],
   "source": [
    "t=tuple(dict3)\n",
    "t"
   ]
  },
  {
   "cell_type": "code",
   "execution_count": null,
   "id": "17e48bc1",
   "metadata": {},
   "outputs": [],
   "source": []
  },
  {
   "cell_type": "raw",
   "id": "e413e2e7",
   "metadata": {},
   "source": [
    "### understand"
   ]
  },
  {
   "cell_type": "code",
   "execution_count": 87,
   "id": "b14264f4",
   "metadata": {},
   "outputs": [
    {
     "name": "stdout",
     "output_type": "stream",
     "text": [
      "a d "
     ]
    }
   ],
   "source": [
    "dict1 = {}\n",
    "dict1[0] = ['a', 'b']\n",
    "dict1[1] = ['c', 'd']\n",
    " \n",
    "for n in dict1.keys():\n",
    "    print(dict1[n][n], end=' ')"
   ]
  },
  {
   "cell_type": "code",
   "execution_count": 88,
   "id": "352a51d9",
   "metadata": {},
   "outputs": [
    {
     "data": {
      "text/plain": [
       "{0: ['a', 'b'], 1: ['c', 'd']}"
      ]
     },
     "execution_count": 88,
     "metadata": {},
     "output_type": "execute_result"
    }
   ],
   "source": [
    "dict1"
   ]
  },
  {
   "cell_type": "code",
   "execution_count": 89,
   "id": "7c6ec91a",
   "metadata": {},
   "outputs": [
    {
     "data": {
      "text/plain": [
       "dict_keys([0, 1])"
      ]
     },
     "execution_count": 89,
     "metadata": {},
     "output_type": "execute_result"
    }
   ],
   "source": [
    "dict1.keys()"
   ]
  },
  {
   "cell_type": "code",
   "execution_count": 91,
   "id": "54accb76",
   "metadata": {},
   "outputs": [
    {
     "data": {
      "text/plain": [
       "[1, 2, 3, 4, 5, 6]"
      ]
     },
     "execution_count": 91,
     "metadata": {},
     "output_type": "execute_result"
    }
   ],
   "source": [
    "p = [2, 3, 4, 5, 6]\n",
    "p.insert(0, 1)\n",
    "p"
   ]
  },
  {
   "cell_type": "code",
   "execution_count": 92,
   "id": "4992448a",
   "metadata": {},
   "outputs": [
    {
     "name": "stdout",
     "output_type": "stream",
     "text": [
      "4\n"
     ]
    }
   ],
   "source": [
    "del p[4], p[2]\n",
    "print(p[2])"
   ]
  },
  {
   "cell_type": "code",
   "execution_count": 93,
   "id": "e2d46865",
   "metadata": {},
   "outputs": [],
   "source": [
    "#TypeError: '>' not supported between instances of 'dict' and 'dict' as dict does not follow an order."
   ]
  },
  {
   "cell_type": "code",
   "execution_count": 94,
   "id": "6a156fbf",
   "metadata": {},
   "outputs": [
    {
     "ename": "TypeError",
     "evalue": "'>' not supported between instances of 'dict' and 'dict'",
     "output_type": "error",
     "traceback": [
      "\u001b[1;31m---------------------------------------------------------------------------\u001b[0m",
      "\u001b[1;31mTypeError\u001b[0m                                 Traceback (most recent call last)",
      "\u001b[1;32m<ipython-input-94-f8a2f1389228>\u001b[0m in \u001b[0;36m<module>\u001b[1;34m\u001b[0m\n\u001b[0;32m      1\u001b[0m \u001b[0mdict1\u001b[0m \u001b[1;33m=\u001b[0m \u001b[1;33m{\u001b[0m\u001b[1;36m12\u001b[0m\u001b[1;33m:\u001b[0m\u001b[1;36m35\u001b[0m\u001b[1;33m,\u001b[0m\u001b[1;36m13\u001b[0m\u001b[1;33m:\u001b[0m\u001b[1;36m26\u001b[0m\u001b[1;33m,\u001b[0m\u001b[1;36m49\u001b[0m\u001b[1;33m:\u001b[0m\u001b[1;36m24\u001b[0m\u001b[1;33m,\u001b[0m\u001b[1;36m55\u001b[0m\u001b[1;33m:\u001b[0m\u001b[1;36m46\u001b[0m\u001b[1;33m,\u001b[0m\u001b[1;36m90\u001b[0m\u001b[1;33m:\u001b[0m\u001b[1;36m20\u001b[0m\u001b[1;33m}\u001b[0m\u001b[1;33m\u001b[0m\u001b[1;33m\u001b[0m\u001b[0m\n\u001b[0;32m      2\u001b[0m \u001b[0mdict2\u001b[0m \u001b[1;33m=\u001b[0m \u001b[1;33m{\u001b[0m\u001b[1;36m56\u001b[0m\u001b[1;33m:\u001b[0m\u001b[1;36m68\u001b[0m\u001b[1;33m,\u001b[0m\u001b[1;36m35\u001b[0m\u001b[1;33m:\u001b[0m\u001b[1;36m15\u001b[0m\u001b[1;33m,\u001b[0m\u001b[1;36m25\u001b[0m\u001b[1;33m:\u001b[0m\u001b[1;36m28\u001b[0m\u001b[1;33m,\u001b[0m\u001b[1;36m32\u001b[0m\u001b[1;33m:\u001b[0m\u001b[1;36m39\u001b[0m\u001b[1;33m,\u001b[0m\u001b[1;36m65\u001b[0m\u001b[1;33m:\u001b[0m\u001b[1;36m40\u001b[0m\u001b[1;33m}\u001b[0m\u001b[1;33m\u001b[0m\u001b[1;33m\u001b[0m\u001b[0m\n\u001b[1;32m----> 3\u001b[1;33m \u001b[0moutput\u001b[0m \u001b[1;33m=\u001b[0m \u001b[0mdict1\u001b[0m \u001b[1;33m>\u001b[0m \u001b[0mdict2\u001b[0m\u001b[1;33m\u001b[0m\u001b[1;33m\u001b[0m\u001b[0m\n\u001b[0m\u001b[0;32m      4\u001b[0m \u001b[0mprint\u001b[0m\u001b[1;33m(\u001b[0m\u001b[0moutput\u001b[0m\u001b[1;33m)\u001b[0m\u001b[1;33m\u001b[0m\u001b[1;33m\u001b[0m\u001b[0m\n",
      "\u001b[1;31mTypeError\u001b[0m: '>' not supported between instances of 'dict' and 'dict'"
     ]
    }
   ],
   "source": [
    "dict1 = {12:35,13:26,49:24,55:46,90:20}\n",
    "dict2 = {56:68,35:15,25:28,32:39,65:40}\n",
    "output = dict1 > dict2\n",
    "print(output)"
   ]
  },
  {
   "cell_type": "code",
   "execution_count": 95,
   "id": "4fcc52df",
   "metadata": {},
   "outputs": [
    {
     "ename": "TypeError",
     "evalue": "'dict' object is not callable",
     "output_type": "error",
     "traceback": [
      "\u001b[1;31m---------------------------------------------------------------------------\u001b[0m",
      "\u001b[1;31mTypeError\u001b[0m                                 Traceback (most recent call last)",
      "\u001b[1;32m<ipython-input-95-4fd5062e6cf3>\u001b[0m in \u001b[0;36m<module>\u001b[1;34m\u001b[0m\n\u001b[1;32m----> 1\u001b[1;33m \u001b[0md1\u001b[0m \u001b[1;33m=\u001b[0m \u001b[0mdict\u001b[0m\u001b[1;33m(\u001b[0m\u001b[1;33m{\u001b[0m\u001b[1;36m1\u001b[0m\u001b[1;33m:\u001b[0m \u001b[1;34m'ONE'\u001b[0m\u001b[1;33m,\u001b[0m \u001b[1;36m2\u001b[0m\u001b[1;33m:\u001b[0m \u001b[1;34m'TWO'\u001b[0m\u001b[1;33m,\u001b[0m \u001b[1;36m3\u001b[0m\u001b[1;33m:\u001b[0m \u001b[1;34m'THREE'\u001b[0m\u001b[1;33m}\u001b[0m\u001b[1;33m)\u001b[0m\u001b[1;33m\u001b[0m\u001b[1;33m\u001b[0m\u001b[0m\n\u001b[0m\u001b[0;32m      2\u001b[0m \u001b[0mprint\u001b[0m\u001b[1;33m(\u001b[0m\u001b[0md1\u001b[0m\u001b[1;33m)\u001b[0m\u001b[1;33m\u001b[0m\u001b[1;33m\u001b[0m\u001b[0m\n",
      "\u001b[1;31mTypeError\u001b[0m: 'dict' object is not callable"
     ]
    }
   ],
   "source": []
  },
  {
   "cell_type": "code",
   "execution_count": null,
   "id": "5e3f158c",
   "metadata": {},
   "outputs": [],
   "source": []
  }
 ],
 "metadata": {
  "kernelspec": {
   "display_name": "Python 3",
   "language": "python",
   "name": "python3"
  },
  "language_info": {
   "codemirror_mode": {
    "name": "ipython",
    "version": 3
   },
   "file_extension": ".py",
   "mimetype": "text/x-python",
   "name": "python",
   "nbconvert_exporter": "python",
   "pygments_lexer": "ipython3",
   "version": "3.8.8"
  }
 },
 "nbformat": 4,
 "nbformat_minor": 5
}
