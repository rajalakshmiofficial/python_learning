{
 "cells": [
  {
   "cell_type": "code",
   "execution_count": 2,
   "id": "769cb48d",
   "metadata": {},
   "outputs": [
    {
     "data": {
      "text/plain": [
       "'**********'"
      ]
     },
     "execution_count": 2,
     "metadata": {},
     "output_type": "execute_result"
    }
   ],
   "source": [
    "'*' * 10\n"
   ]
  },
  {
   "cell_type": "code",
   "execution_count": 3,
   "id": "01216f6d",
   "metadata": {},
   "outputs": [
    {
     "data": {
      "text/plain": [
       "'helloworld'"
      ]
     },
     "execution_count": 3,
     "metadata": {},
     "output_type": "execute_result"
    }
   ],
   "source": [
    "'helloworld'"
   ]
  },
  {
   "cell_type": "code",
   "execution_count": 5,
   "id": "d5b0df33",
   "metadata": {},
   "outputs": [
    {
     "data": {
      "text/plain": [
       "'hello'"
      ]
     },
     "execution_count": 5,
     "metadata": {},
     "output_type": "execute_result"
    }
   ],
   "source": [
    "'hello'\n"
   ]
  },
  {
   "cell_type": "code",
   "execution_count": 6,
   "id": "a99b9342",
   "metadata": {},
   "outputs": [],
   "source": [
    "un='raji'\n",
    "password='secret'"
   ]
  },
  {
   "cell_type": "code",
   "execution_count": 8,
   "id": "e4eae755",
   "metadata": {},
   "outputs": [
    {
     "data": {
      "text/plain": [
       "6"
      ]
     },
     "execution_count": 8,
     "metadata": {},
     "output_type": "execute_result"
    }
   ],
   "source": [
    "leng=len(password)\n",
    "leng"
   ]
  },
  {
   "cell_type": "code",
   "execution_count": 12,
   "id": "33e04aab",
   "metadata": {},
   "outputs": [
    {
     "data": {
      "text/plain": [
       "'******'"
      ]
     },
     "execution_count": 12,
     "metadata": {},
     "output_type": "execute_result"
    }
   ],
   "source": [
    "\n",
    "a=leng * '*'\n",
    "a"
   ]
  },
  {
   "cell_type": "code",
   "execution_count": 13,
   "id": "20f560fa",
   "metadata": {},
   "outputs": [
    {
     "name": "stdout",
     "output_type": "stream",
     "text": [
      "your username is raji and your password is secret and your decoded password is ****** and 6 long\n"
     ]
    }
   ],
   "source": [
    "print(f'your username is {un} and your password is {password} and your decoded password is {a} and {leng} long')"
   ]
  },
  {
   "cell_type": "markdown",
   "id": "9fbc9d23",
   "metadata": {},
   "source": [
    "# list"
   ]
  },
  {
   "cell_type": "code",
   "execution_count": 15,
   "id": "72fcd216",
   "metadata": {},
   "outputs": [
    {
     "data": {
      "text/plain": [
       "'note'"
      ]
     },
     "execution_count": 15,
     "metadata": {},
     "output_type": "execute_result"
    }
   ],
   "source": [
    "list=[1,2,'note']\n",
    "list[2]"
   ]
  },
  {
   "cell_type": "markdown",
   "id": "5f3c13e6",
   "metadata": {},
   "source": [
    "# string slicing"
   ]
  },
  {
   "cell_type": "code",
   "execution_count": 17,
   "id": "4ff7c2b5",
   "metadata": {},
   "outputs": [
    {
     "data": {
      "text/plain": [
       "'hello'"
      ]
     },
     "execution_count": 17,
     "metadata": {},
     "output_type": "execute_result"
    }
   ],
   "source": [
    "raj='hellohowareyou'\n",
    "raj[0:5]"
   ]
  },
  {
   "cell_type": "code",
   "execution_count": 18,
   "id": "6816269b",
   "metadata": {},
   "outputs": [
    {
     "data": {
      "text/plain": [
       "'hellohowareyou'"
      ]
     },
     "execution_count": 18,
     "metadata": {},
     "output_type": "execute_result"
    }
   ],
   "source": [
    "raj[:]   #[start:stop:stop]\n",
    "           #no value given it take default start and stop"
   ]
  },
  {
   "cell_type": "code",
   "execution_count": 20,
   "id": "b6ab99f5",
   "metadata": {},
   "outputs": [
    {
     "data": {
      "text/plain": [
       "'hellohow'"
      ]
     },
     "execution_count": 20,
     "metadata": {},
     "output_type": "execute_result"
    }
   ],
   "source": [
    "raj[:8]"
   ]
  },
  {
   "cell_type": "code",
   "execution_count": 28,
   "id": "eaaa3f30",
   "metadata": {},
   "outputs": [
    {
     "data": {
      "text/plain": [
       "'eowe'"
      ]
     },
     "execution_count": 28,
     "metadata": {},
     "output_type": "execute_result"
    }
   ],
   "source": [
    "raj[1:13:3]"
   ]
  },
  {
   "cell_type": "code",
   "execution_count": 21,
   "id": "3eb24ce8",
   "metadata": {},
   "outputs": [
    {
     "data": {
      "text/plain": [
       "14"
      ]
     },
     "execution_count": 21,
     "metadata": {},
     "output_type": "execute_result"
    }
   ],
   "source": [
    "len(raj)"
   ]
  },
  {
   "cell_type": "markdown",
   "id": "87868142",
   "metadata": {},
   "source": [
    "# string immutable"
   ]
  },
  {
   "cell_type": "code",
   "execution_count": 30,
   "id": "61c138db",
   "metadata": {},
   "outputs": [
    {
     "ename": "TypeError",
     "evalue": "'str' object does not support item assignment",
     "output_type": "error",
     "traceback": [
      "\u001b[1;31m---------------------------------------------------------------------------\u001b[0m",
      "\u001b[1;31mTypeError\u001b[0m                                 Traceback (most recent call last)",
      "\u001b[1;32m<ipython-input-30-a38e3baf1f4c>\u001b[0m in \u001b[0;36m<module>\u001b[1;34m\u001b[0m\n\u001b[0;32m      1\u001b[0m \u001b[0mraj\u001b[0m\u001b[1;33m=\u001b[0m\u001b[1;34m'hellohowareyou'\u001b[0m\u001b[1;33m\u001b[0m\u001b[1;33m\u001b[0m\u001b[0m\n\u001b[1;32m----> 2\u001b[1;33m \u001b[0mraj\u001b[0m\u001b[1;33m[\u001b[0m\u001b[1;36m0\u001b[0m\u001b[1;33m]\u001b[0m\u001b[1;33m=\u001b[0m\u001b[1;34m'u'\u001b[0m\u001b[1;33m\u001b[0m\u001b[1;33m\u001b[0m\u001b[0m\n\u001b[0m",
      "\u001b[1;31mTypeError\u001b[0m: 'str' object does not support item assignment"
     ]
    }
   ],
   "source": [
    "raj='hellohowareyou'\n",
    "raj[0]='u'"
   ]
  },
  {
   "cell_type": "markdown",
   "id": "38b85a16",
   "metadata": {},
   "source": [
    "# list mutable"
   ]
  },
  {
   "cell_type": "code",
   "execution_count": 31,
   "id": "b0ef5373",
   "metadata": {},
   "outputs": [],
   "source": [
    "list=['amazon','hello']\n",
    "list[0]='hi'"
   ]
  },
  {
   "cell_type": "code",
   "execution_count": 32,
   "id": "c5001686",
   "metadata": {},
   "outputs": [
    {
     "data": {
      "text/plain": [
       "['hi', 'hello']"
      ]
     },
     "execution_count": 32,
     "metadata": {},
     "output_type": "execute_result"
    }
   ],
   "source": [
    "list"
   ]
  },
  {
   "cell_type": "markdown",
   "id": "f43eb4b0",
   "metadata": {},
   "source": [
    "# list copy and modify"
   ]
  },
  {
   "cell_type": "code",
   "execution_count": 37,
   "id": "6caf84fb",
   "metadata": {},
   "outputs": [
    {
     "data": {
      "text/plain": [
       "['hi', 'hello']"
      ]
     },
     "execution_count": 37,
     "metadata": {},
     "output_type": "execute_result"
    }
   ],
   "source": [
    "a=['amazon','hello']\n",
    "a[0]='hi'   #i want old list again i must reassian by use another variable\n",
    "a"
   ]
  },
  {
   "cell_type": "code",
   "execution_count": 34,
   "id": "b8d5a7de",
   "metadata": {},
   "outputs": [
    {
     "name": "stdout",
     "output_type": "stream",
     "text": [
      "['hi', 'hello']\n",
      "['hi', 'hello']\n"
     ]
    }
   ],
   "source": [
    "a=['amazon','hello']   # =sign copies every thing\n",
    "b=a  #\n",
    "b[0]='hi'\n",
    "print(b)\n",
    "print(a)"
   ]
  },
  {
   "cell_type": "code",
   "execution_count": 36,
   "id": "9338befd",
   "metadata": {},
   "outputs": [
    {
     "name": "stdout",
     "output_type": "stream",
     "text": [
      "['hi', 'hello']\n",
      "['amazon', 'hello']\n"
     ]
    }
   ],
   "source": [
    "a=['amazon','hello']   # =sign copies every thing\n",
    "b=a[:]   #\n",
    "b[0]='hi'\n",
    "print(b)\n",
    "print(a)"
   ]
  },
  {
   "cell_type": "markdown",
   "id": "a41e2b0d",
   "metadata": {},
   "source": [
    "# list methods"
   ]
  },
  {
   "cell_type": "code",
   "execution_count": 39,
   "id": "3d0806f0",
   "metadata": {},
   "outputs": [
    {
     "data": {
      "text/plain": [
       "4"
      ]
     },
     "execution_count": 39,
     "metadata": {},
     "output_type": "execute_result"
    }
   ],
   "source": [
    "list=[1,2,3,4]   #len-->built in function\n",
    "len(list)"
   ]
  },
  {
   "cell_type": "code",
   "execution_count": 40,
   "id": "099f0639",
   "metadata": {},
   "outputs": [],
   "source": [
    "list.append(100)"
   ]
  },
  {
   "cell_type": "code",
   "execution_count": 41,
   "id": "8339723c",
   "metadata": {},
   "outputs": [
    {
     "data": {
      "text/plain": [
       "[1, 2, 3, 4, 100]"
      ]
     },
     "execution_count": 41,
     "metadata": {},
     "output_type": "execute_result"
    }
   ],
   "source": [
    "list"
   ]
  },
  {
   "cell_type": "code",
   "execution_count": 51,
   "id": "8a73461f",
   "metadata": {},
   "outputs": [],
   "source": [
    "a=list.append(100)\n"
   ]
  },
  {
   "cell_type": "code",
   "execution_count": 43,
   "id": "4323c2a6",
   "metadata": {},
   "outputs": [],
   "source": [
    "a     ##it doest not return"
   ]
  },
  {
   "cell_type": "code",
   "execution_count": 47,
   "id": "64b41047",
   "metadata": {},
   "outputs": [],
   "source": [
    "list.append(100)\n"
   ]
  },
  {
   "cell_type": "code",
   "execution_count": 48,
   "id": "f019c67c",
   "metadata": {},
   "outputs": [],
   "source": [
    "a=list"
   ]
  },
  {
   "cell_type": "code",
   "execution_count": 49,
   "id": "c59b33de",
   "metadata": {},
   "outputs": [
    {
     "data": {
      "text/plain": [
       "[1, 2, 3, 4, 100, 100, 100, 100]"
      ]
     },
     "execution_count": 49,
     "metadata": {},
     "output_type": "execute_result"
    }
   ],
   "source": [
    "a"
   ]
  },
  {
   "cell_type": "code",
   "execution_count": 52,
   "id": "8709ec47",
   "metadata": {},
   "outputs": [
    {
     "ename": "TypeError",
     "evalue": "append() takes exactly one argument (2 given)",
     "output_type": "error",
     "traceback": [
      "\u001b[1;31m---------------------------------------------------------------------------\u001b[0m",
      "\u001b[1;31mTypeError\u001b[0m                                 Traceback (most recent call last)",
      "\u001b[1;32m<ipython-input-52-117bab747969>\u001b[0m in \u001b[0;36m<module>\u001b[1;34m\u001b[0m\n\u001b[1;32m----> 1\u001b[1;33m \u001b[0ma\u001b[0m\u001b[1;33m=\u001b[0m\u001b[0mlist\u001b[0m\u001b[1;33m.\u001b[0m\u001b[0mappend\u001b[0m\u001b[1;33m(\u001b[0m\u001b[1;36m100\u001b[0m\u001b[1;33m,\u001b[0m\u001b[1;36m200\u001b[0m\u001b[1;33m)\u001b[0m\u001b[1;33m\u001b[0m\u001b[1;33m\u001b[0m\u001b[0m\n\u001b[0m",
      "\u001b[1;31mTypeError\u001b[0m: append() takes exactly one argument (2 given)"
     ]
    }
   ],
   "source": [
    "a=list.append(100,200)"
   ]
  },
  {
   "cell_type": "code",
   "execution_count": 58,
   "id": "1b2c561e",
   "metadata": {},
   "outputs": [
    {
     "data": {
      "text/plain": [
       "[1,\n",
       " 2,\n",
       " 3,\n",
       " 4,\n",
       " 100,\n",
       " 100,\n",
       " 100,\n",
       " 100,\n",
       " 100,\n",
       " [100, 200],\n",
       " [100, 200],\n",
       " 100,\n",
       " 200,\n",
       " 100,\n",
       " 200,\n",
       " 100,\n",
       " 200,\n",
       " 100,\n",
       " 200]"
      ]
     },
     "execution_count": 58,
     "metadata": {},
     "output_type": "execute_result"
    }
   ],
   "source": [
    "list.extend([100,200])\n",
    "b=list\n",
    "b"
   ]
  },
  {
   "cell_type": "code",
   "execution_count": 59,
   "id": "d154778b",
   "metadata": {},
   "outputs": [],
   "source": [
    "list1=[1,2]\n",
    "list1.extend([5,4])"
   ]
  },
  {
   "cell_type": "code",
   "execution_count": 60,
   "id": "4fa4ee48",
   "metadata": {},
   "outputs": [
    {
     "data": {
      "text/plain": [
       "[1, 2, 5, 4]"
      ]
     },
     "execution_count": 60,
     "metadata": {},
     "output_type": "execute_result"
    }
   ],
   "source": [
    "list1"
   ]
  },
  {
   "cell_type": "code",
   "execution_count": 61,
   "id": "a75b3876",
   "metadata": {},
   "outputs": [
    {
     "data": {
      "text/plain": [
       "[1, 2, 5, 4]"
      ]
     },
     "execution_count": 61,
     "metadata": {},
     "output_type": "execute_result"
    }
   ],
   "source": [
    "a=list1\n",
    "a"
   ]
  },
  {
   "cell_type": "code",
   "execution_count": 62,
   "id": "63d4874d",
   "metadata": {},
   "outputs": [
    {
     "data": {
      "text/plain": [
       "False"
      ]
     },
     "execution_count": 62,
     "metadata": {},
     "output_type": "execute_result"
    }
   ],
   "source": [
    "'a'>'b'"
   ]
  },
  {
   "cell_type": "code",
   "execution_count": 63,
   "id": "efb2ecad",
   "metadata": {},
   "outputs": [
    {
     "data": {
      "text/plain": [
       "True"
      ]
     },
     "execution_count": 63,
     "metadata": {},
     "output_type": "execute_result"
    }
   ],
   "source": [
    "'a'>'A'"
   ]
  },
  {
   "cell_type": "code",
   "execution_count": 64,
   "id": "52293d83",
   "metadata": {},
   "outputs": [],
   "source": [
    "#conditional operators gives true or false"
   ]
  },
  {
   "cell_type": "code",
   "execution_count": 67,
   "id": "ea75c2f9",
   "metadata": {},
   "outputs": [
    {
     "data": {
      "text/plain": [
       "False"
      ]
     },
     "execution_count": 67,
     "metadata": {},
     "output_type": "execute_result"
    }
   ],
   "source": [
    "not(1==1)   #(1==1 is true, true not edutha false)"
   ]
  },
  {
   "cell_type": "code",
   "execution_count": 66,
   "id": "45166c12",
   "metadata": {},
   "outputs": [
    {
     "data": {
      "text/plain": [
       "True"
      ]
     },
     "execution_count": 66,
     "metadata": {},
     "output_type": "execute_result"
    }
   ],
   "source": [
    "not(2==3)"
   ]
  },
  {
   "cell_type": "markdown",
   "id": "07777af9",
   "metadata": {},
   "source": [
    "# functions"
   ]
  },
  {
   "cell_type": "code",
   "execution_count": 69,
   "id": "291c5a19",
   "metadata": {},
   "outputs": [],
   "source": [
    "def highest_even(lis):\n",
    "    even=[]\n",
    "    for item in lis:\n",
    "        if item%2 == 0:\n",
    "            even.append(item)\n",
    "    return max(even)        "
   ]
  },
  {
   "cell_type": "code",
   "execution_count": 70,
   "id": "1175002e",
   "metadata": {},
   "outputs": [
    {
     "data": {
      "text/plain": [
       "100"
      ]
     },
     "execution_count": 70,
     "metadata": {},
     "output_type": "execute_result"
    }
   ],
   "source": [
    "highest_even([2,34,78,100,2,6])"
   ]
  },
  {
   "cell_type": "markdown",
   "id": "276916c0",
   "metadata": {},
   "source": [
    "# scope"
   ]
  },
  {
   "cell_type": "code",
   "execution_count": 71,
   "id": "d8f00c61",
   "metadata": {},
   "outputs": [
    {
     "name": "stdout",
     "output_type": "stream",
     "text": [
      "10\n"
     ]
    }
   ],
   "source": [
    "if True:   #functional scope\n",
    "    x=10\n",
    "print(x)    "
   ]
  },
  {
   "cell_type": "code",
   "execution_count": 72,
   "id": "1be5e260",
   "metadata": {},
   "outputs": [
    {
     "ename": "NameError",
     "evalue": "name 'total' is not defined",
     "output_type": "error",
     "traceback": [
      "\u001b[1;31m---------------------------------------------------------------------------\u001b[0m",
      "\u001b[1;31mNameError\u001b[0m                                 Traceback (most recent call last)",
      "\u001b[1;32m<ipython-input-72-22a058effed0>\u001b[0m in \u001b[0;36m<module>\u001b[1;34m\u001b[0m\n\u001b[0;32m      1\u001b[0m \u001b[1;32mdef\u001b[0m \u001b[0msum\u001b[0m\u001b[1;33m(\u001b[0m\u001b[1;33m)\u001b[0m\u001b[1;33m:\u001b[0m\u001b[1;33m\u001b[0m\u001b[1;33m\u001b[0m\u001b[0m\n\u001b[0;32m      2\u001b[0m     \u001b[0mtotal\u001b[0m\u001b[1;33m=\u001b[0m\u001b[1;36m100\u001b[0m\u001b[1;33m\u001b[0m\u001b[1;33m\u001b[0m\u001b[0m\n\u001b[1;32m----> 3\u001b[1;33m \u001b[0mprint\u001b[0m\u001b[1;33m(\u001b[0m\u001b[0mtotal\u001b[0m\u001b[1;33m)\u001b[0m\u001b[1;33m\u001b[0m\u001b[1;33m\u001b[0m\u001b[0m\n\u001b[0m",
      "\u001b[1;31mNameError\u001b[0m: name 'total' is not defined"
     ]
    }
   ],
   "source": [
    "def sum():\n",
    "    total=100    #bcz functional scope\n",
    "print(total)    "
   ]
  },
  {
   "cell_type": "code",
   "execution_count": 80,
   "id": "156adc2a",
   "metadata": {},
   "outputs": [
    {
     "name": "stdout",
     "output_type": "stream",
     "text": [
      "100\n",
      "Help on function sum in module __main__:\n",
      "\n",
      "sum()\n",
      "    info: this is sum function\n",
      "\n"
     ]
    }
   ],
   "source": [
    "def sum():\n",
    "    '''\n",
    "    info: this is sum function\n",
    "    '''\n",
    "    total=100\n",
    "    print(total)\n",
    "                                 #bcz functional scope\n",
    "sum()\n",
    "help(sum)"
   ]
  },
  {
   "cell_type": "code",
   "execution_count": 81,
   "id": "f1953e03",
   "metadata": {},
   "outputs": [],
   "source": [
    "def hi_h(a):\n",
    "    def hi_2(a):\n",
    "        return a"
   ]
  },
  {
   "cell_type": "code",
   "execution_count": 82,
   "id": "558be408",
   "metadata": {},
   "outputs": [],
   "source": [
    "hi_h(2)   #it doesnot return anything"
   ]
  },
  {
   "cell_type": "code",
   "execution_count": 89,
   "id": "913fa97f",
   "metadata": {},
   "outputs": [],
   "source": [
    "def hi_h(a):\n",
    "    def hi_2(a):\n",
    "        return a\n",
    "    return hi_2(a)"
   ]
  },
  {
   "cell_type": "code",
   "execution_count": 90,
   "id": "ce19c783",
   "metadata": {},
   "outputs": [
    {
     "data": {
      "text/plain": [
       "2"
      ]
     },
     "execution_count": 90,
     "metadata": {},
     "output_type": "execute_result"
    }
   ],
   "source": [
    "hi_h(2) "
   ]
  },
  {
   "cell_type": "code",
   "execution_count": 99,
   "id": "e8826425",
   "metadata": {},
   "outputs": [],
   "source": [
    "def hi_h(a):\n",
    "    a=10\n",
    "    def hi_2(a):\n",
    "        a=5       #parent local variable\n",
    "        #a=5\n",
    "        return a\n",
    "    return hi_2(a)"
   ]
  },
  {
   "cell_type": "code",
   "execution_count": 100,
   "id": "61f03bed",
   "metadata": {},
   "outputs": [
    {
     "data": {
      "text/plain": [
       "5"
      ]
     },
     "execution_count": 100,
     "metadata": {},
     "output_type": "execute_result"
    }
   ],
   "source": [
    "hi_h(7) "
   ]
  },
  {
   "cell_type": "markdown",
   "id": "f6282146",
   "metadata": {},
   "source": [
    "# global(m-1)"
   ]
  },
  {
   "cell_type": "code",
   "execution_count": 108,
   "id": "43964d94",
   "metadata": {},
   "outputs": [
    {
     "name": "stdout",
     "output_type": "stream",
     "text": [
      "8\n",
      "6\n"
     ]
    },
    {
     "data": {
      "text/plain": [
       "10"
      ]
     },
     "execution_count": 108,
     "metadata": {},
     "output_type": "execute_result"
    }
   ],
   "source": [
    "a=10\n",
    "def con(b):\n",
    "    print(b)\n",
    "    a=6\n",
    "    print(a)\n",
    "con(8)  \n",
    "a\n",
    "    \n"
   ]
  },
  {
   "cell_type": "code",
   "execution_count": 113,
   "id": "209c50a8",
   "metadata": {},
   "outputs": [
    {
     "name": "stdout",
     "output_type": "stream",
     "text": [
      "8\n"
     ]
    },
    {
     "data": {
      "text/plain": [
       "10"
      ]
     },
     "execution_count": 113,
     "metadata": {},
     "output_type": "execute_result"
    }
   ],
   "source": [
    "a=10\n",
    "def con(b):\n",
    "    return b\n",
    "    a=6\n",
    "    print(a)\n",
    "print(con(8))\n",
    "a\n"
   ]
  },
  {
   "cell_type": "code",
   "execution_count": 116,
   "id": "f306bdb9",
   "metadata": {},
   "outputs": [
    {
     "name": "stdout",
     "output_type": "stream",
     "text": [
      "8\n",
      "6\n",
      "None\n"
     ]
    },
    {
     "data": {
      "text/plain": [
       "10"
      ]
     },
     "execution_count": 116,
     "metadata": {},
     "output_type": "execute_result"
    }
   ],
   "source": [
    "a=10   #global variable we can acces anyhere from function\n",
    "def con(b):\n",
    "    print(b)     #function modify(print use panalam)c,if we didnot use return it throws output none\n",
    "    a=6  #localvarible(it scoepes only inside function)\n",
    "    print(a)\n",
    "print(con(8))  \n",
    "a "
   ]
  },
  {
   "cell_type": "markdown",
   "id": "1634af83",
   "metadata": {},
   "source": [
    "# c-2"
   ]
  },
  {
   "cell_type": "code",
   "execution_count": 120,
   "id": "9507a223",
   "metadata": {},
   "outputs": [
    {
     "ename": "UnboundLocalError",
     "evalue": "local variable 'total' referenced before assignment",
     "output_type": "error",
     "traceback": [
      "\u001b[1;31m---------------------------------------------------------------------------\u001b[0m",
      "\u001b[1;31mUnboundLocalError\u001b[0m                         Traceback (most recent call last)",
      "\u001b[1;32m<ipython-input-120-a930ccaccc16>\u001b[0m in \u001b[0;36m<module>\u001b[1;34m\u001b[0m\n\u001b[0;32m      3\u001b[0m     \u001b[0mtotal\u001b[0m \u001b[1;33m+=\u001b[0m \u001b[1;36m1\u001b[0m   \u001b[1;31m#here local varible total assigned referenced before assignment\u001b[0m\u001b[1;33m\u001b[0m\u001b[1;33m\u001b[0m\u001b[0m\n\u001b[0;32m      4\u001b[0m     \u001b[1;32mreturn\u001b[0m \u001b[0mtotal\u001b[0m\u001b[1;33m\u001b[0m\u001b[1;33m\u001b[0m\u001b[0m\n\u001b[1;32m----> 5\u001b[1;33m \u001b[0mprint\u001b[0m\u001b[1;33m(\u001b[0m\u001b[0mco\u001b[0m\u001b[1;33m(\u001b[0m\u001b[1;33m)\u001b[0m\u001b[1;33m)\u001b[0m\u001b[1;33m\u001b[0m\u001b[1;33m\u001b[0m\u001b[0m\n\u001b[0m",
      "\u001b[1;32m<ipython-input-120-a930ccaccc16>\u001b[0m in \u001b[0;36mco\u001b[1;34m()\u001b[0m\n\u001b[0;32m      1\u001b[0m \u001b[0mtotal\u001b[0m\u001b[1;33m=\u001b[0m\u001b[1;36m0\u001b[0m\u001b[1;33m\u001b[0m\u001b[1;33m\u001b[0m\u001b[0m\n\u001b[0;32m      2\u001b[0m \u001b[1;32mdef\u001b[0m \u001b[0mco\u001b[0m\u001b[1;33m(\u001b[0m\u001b[1;33m)\u001b[0m\u001b[1;33m:\u001b[0m\u001b[1;33m\u001b[0m\u001b[1;33m\u001b[0m\u001b[0m\n\u001b[1;32m----> 3\u001b[1;33m     \u001b[0mtotal\u001b[0m \u001b[1;33m+=\u001b[0m \u001b[1;36m1\u001b[0m   \u001b[1;31m#here local varible total assigned referenced before assignment\u001b[0m\u001b[1;33m\u001b[0m\u001b[1;33m\u001b[0m\u001b[0m\n\u001b[0m\u001b[0;32m      4\u001b[0m     \u001b[1;32mreturn\u001b[0m \u001b[0mtotal\u001b[0m\u001b[1;33m\u001b[0m\u001b[1;33m\u001b[0m\u001b[0m\n\u001b[0;32m      5\u001b[0m \u001b[0mprint\u001b[0m\u001b[1;33m(\u001b[0m\u001b[0mco\u001b[0m\u001b[1;33m(\u001b[0m\u001b[1;33m)\u001b[0m\u001b[1;33m)\u001b[0m\u001b[1;33m\u001b[0m\u001b[1;33m\u001b[0m\u001b[0m\n",
      "\u001b[1;31mUnboundLocalError\u001b[0m: local variable 'total' referenced before assignment"
     ]
    }
   ],
   "source": [
    "total=0\n",
    "def co():\n",
    "    total += 1   #here local varible total assigned referenced before assignment\n",
    "    return total\n",
    "print(co())"
   ]
  },
  {
   "cell_type": "code",
   "execution_count": 119,
   "id": "a5406f85",
   "metadata": {},
   "outputs": [
    {
     "name": "stdout",
     "output_type": "stream",
     "text": [
      "1\n"
     ]
    }
   ],
   "source": [
    "total=0  #global variable\n",
    "def co():\n",
    "    total=0\n",
    "    total += 1   #here local varible total assigned \n",
    "    return total\n",
    "print(co())"
   ]
  },
  {
   "cell_type": "markdown",
   "id": "ccb8436b",
   "metadata": {},
   "source": [
    "# c=3"
   ]
  },
  {
   "cell_type": "code",
   "execution_count": 124,
   "id": "8655d6c3",
   "metadata": {},
   "outputs": [
    {
     "name": "stdout",
     "output_type": "stream",
     "text": [
      "1\n"
     ]
    }
   ],
   "source": [
    "total=0  #global variable\n",
    "def co():\n",
    "    total=0\n",
    "    total += 1   #here local varible total assigned \n",
    "    return total\n",
    "co()\n",
    "co()\n",
    "co()\n",
    "\n",
    "\n",
    "\n",
    "print(co())    #here it didbot sum bcz it everytime assigned total=0"
   ]
  },
  {
   "cell_type": "markdown",
   "id": "a19a37d2",
   "metadata": {},
   "source": [
    "# to fix this we use global keyword"
   ]
  },
  {
   "cell_type": "code",
   "execution_count": 129,
   "id": "249e25c9",
   "metadata": {},
   "outputs": [
    {
     "ename": "SyntaxError",
     "evalue": "invalid syntax (<ipython-input-129-071b1aab014e>, line 6)",
     "output_type": "error",
     "traceback": [
      "\u001b[1;36m  File \u001b[1;32m\"<ipython-input-129-071b1aab014e>\"\u001b[1;36m, line \u001b[1;32m6\u001b[0m\n\u001b[1;33m    global total += 1   #here local varible total assigned\u001b[0m\n\u001b[1;37m                 ^\u001b[0m\n\u001b[1;31mSyntaxError\u001b[0m\u001b[1;31m:\u001b[0m invalid syntax\n"
     ]
    }
   ],
   "source": [
    "total=0  #global variable\n",
    "def co():\n",
    "    \n",
    "    \n",
    "    \n",
    "    global total += 1   #here local varible total assigned \n",
    "    return total\n",
    "co()\n",
    "co()\n",
    "co()\n",
    "print(co())\n"
   ]
  },
  {
   "cell_type": "code",
   "execution_count": 130,
   "id": "4c141207",
   "metadata": {},
   "outputs": [
    {
     "name": "stdout",
     "output_type": "stream",
     "text": [
      "4\n"
     ]
    }
   ],
   "source": [
    "total=0  #global variable\n",
    "def co():\n",
    "    \n",
    "    \n",
    "    global total\n",
    "    total += 1   #here local varible total assigned \n",
    "    return total\n",
    "co()\n",
    "co()\n",
    "co()\n",
    "print(co())"
   ]
  },
  {
   "cell_type": "markdown",
   "id": "1ad4b481",
   "metadata": {},
   "source": [
    "# upper is not better so we use another dependency injection"
   ]
  },
  {
   "cell_type": "code",
   "execution_count": 131,
   "id": "b4ec21cc",
   "metadata": {},
   "outputs": [
    {
     "name": "stdout",
     "output_type": "stream",
     "text": [
      "1\n"
     ]
    }
   ],
   "source": [
    "total=0  #global variable\n",
    "def co(total):\n",
    "    \n",
    "    \n",
    "    #global total\n",
    "    total += 1   #here local varible total assigned \n",
    "    return total\n",
    "co(total)\n",
    "co(total)\n",
    "\n",
    "print(co(total))"
   ]
  },
  {
   "cell_type": "markdown",
   "id": "c7d7ebf0",
   "metadata": {},
   "source": [
    "# to fix"
   ]
  },
  {
   "cell_type": "code",
   "execution_count": 133,
   "id": "653c518b",
   "metadata": {},
   "outputs": [
    {
     "name": "stdout",
     "output_type": "stream",
     "text": [
      "3\n"
     ]
    }
   ],
   "source": [
    "total=0  #global variable\n",
    "def co(total):\n",
    "    \n",
    "    \n",
    "    #global total\n",
    "    total += 1   #here local varible total assigned \n",
    "    return total\n",
    "co(total)\n",
    "print(co(co(co(total))))"
   ]
  },
  {
   "cell_type": "code",
   "execution_count": null,
   "id": "8a9e4abb",
   "metadata": {},
   "outputs": [],
   "source": []
  }
 ],
 "metadata": {
  "kernelspec": {
   "display_name": "Python 3",
   "language": "python",
   "name": "python3"
  },
  "language_info": {
   "codemirror_mode": {
    "name": "ipython",
    "version": 3
   },
   "file_extension": ".py",
   "mimetype": "text/x-python",
   "name": "python",
   "nbconvert_exporter": "python",
   "pygments_lexer": "ipython3",
   "version": "3.8.8"
  }
 },
 "nbformat": 4,
 "nbformat_minor": 5
}
