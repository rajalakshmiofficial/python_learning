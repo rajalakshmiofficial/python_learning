{
 "cells": [
  {
   "cell_type": "code",
   "execution_count": 6,
   "id": "25c5417e",
   "metadata": {},
   "outputs": [],
   "source": [
    "s='Local Variable'\n",
    "def fun():\n",
    "    \n",
    "    print('hi')\n",
    "    #return 1\n",
    "\n",
    "\n"
   ]
  },
  {
   "cell_type": "code",
   "execution_count": 7,
   "id": "3dea4475",
   "metadata": {},
   "outputs": [
    {
     "name": "stdout",
     "output_type": "stream",
     "text": [
      "hi\n"
     ]
    }
   ],
   "source": [
    "#print(fun())\n",
    "fun()"
   ]
  },
  {
   "cell_type": "code",
   "execution_count": 16,
   "id": "dd04ca0f",
   "metadata": {},
   "outputs": [
    {
     "name": "stdout",
     "output_type": "stream",
     "text": [
      "{'__name__': '__main__', '__doc__': 'Automatically created module for IPython interactive environment', '__package__': None, '__loader__': None, '__spec__': None, '__builtin__': <module 'builtins' (built-in)>, '__builtins__': <module 'builtins' (built-in)>, '_ih': ['', \"def fun():\\n    print('hi')\\n    return 1\", 'fun()', \"def fun():\\n    print('hi')\\n    #return 1\", 'fun()', 'print(globals())', \"s='Global Variable'\\ndef fun():\\n    \\n    print('hi')\\n    #return 1\", 'fun()', 'print(globals())', 'print(globals().keys())', \"globals()['s']\", 'globals()[name]', 'globals()[__name__]', \"globals()['s']\", \"s='Local Variable'\\ndef fun():\\n    \\n    print('hi')\\n    #return 1\", 'fun()', 'print(globals())'], '_oh': {2: 1, 10: 'Global Variable', 13: 'Global Variable'}, '_dh': ['C:\\\\Users\\\\2124259\\\\python bootcamp\\\\decorators'], 'In': ['', \"def fun():\\n    print('hi')\\n    return 1\", 'fun()', \"def fun():\\n    print('hi')\\n    #return 1\", 'fun()', 'print(globals())', \"s='Global Variable'\\ndef fun():\\n    \\n    print('hi')\\n    #return 1\", 'fun()', 'print(globals())', 'print(globals().keys())', \"globals()['s']\", 'globals()[name]', 'globals()[__name__]', \"globals()['s']\", \"s='Local Variable'\\ndef fun():\\n    \\n    print('hi')\\n    #return 1\", 'fun()', 'print(globals())'], 'Out': {2: 1, 10: 'Global Variable', 13: 'Global Variable'}, 'get_ipython': <bound method InteractiveShell.get_ipython of <ipykernel.zmqshell.ZMQInteractiveShell object at 0x000001F7E51BDC70>>, 'exit': <IPython.core.autocall.ZMQExitAutocall object at 0x000001F7E522BA60>, 'quit': <IPython.core.autocall.ZMQExitAutocall object at 0x000001F7E522BA60>, '_': 'Global Variable', '__': 'Global Variable', '___': 1, '_i': 'fun()', '_ii': \"s='Local Variable'\\ndef fun():\\n    \\n    print('hi')\\n    #return 1\", '_iii': \"globals()['s']\", '_i1': \"def fun():\\n    print('hi')\\n    return 1\", 'fun': <function fun at 0x000001F7E53628B0>, '_i2': 'fun()', '_2': 1, '_i3': \"def fun():\\n    print('hi')\\n    #return 1\", '_i4': 'fun()', '_i5': 'print(globals())', '_i6': \"s='Global Variable'\\ndef fun():\\n    \\n    print('hi')\\n    #return 1\", 's': 'Local Variable', '_i7': 'fun()', '_i8': 'print(globals())', '_i9': 'print(globals().keys())', '_i10': \"globals()['s']\", '_10': 'Global Variable', '_i11': 'globals()[name]', '_i12': 'globals()[__name__]', '_i13': \"globals()['s']\", '_13': 'Global Variable', '_i14': \"s='Local Variable'\\ndef fun():\\n    \\n    print('hi')\\n    #return 1\", '_i15': 'fun()', '_i16': 'print(globals())'}\n"
     ]
    }
   ],
   "source": [
    "print(globals())"
   ]
  },
  {
   "cell_type": "code",
   "execution_count": 9,
   "id": "0711e615",
   "metadata": {},
   "outputs": [
    {
     "name": "stdout",
     "output_type": "stream",
     "text": [
      "dict_keys(['__name__', '__doc__', '__package__', '__loader__', '__spec__', '__builtin__', '__builtins__', '_ih', '_oh', '_dh', 'In', 'Out', 'get_ipython', 'exit', 'quit', '_', '__', '___', '_i', '_ii', '_iii', '_i1', 'fun', '_i2', '_2', '_i3', '_i4', '_i5', '_i6', 's', '_i7', '_i8', '_i9'])\n"
     ]
    }
   ],
   "source": [
    "print(globals().keys())"
   ]
  },
  {
   "cell_type": "code",
   "execution_count": 11,
   "id": "169d4a52",
   "metadata": {},
   "outputs": [
    {
     "ename": "NameError",
     "evalue": "name 'name' is not defined",
     "output_type": "error",
     "traceback": [
      "\u001b[1;31m---------------------------------------------------------------------------\u001b[0m",
      "\u001b[1;31mNameError\u001b[0m                                 Traceback (most recent call last)",
      "\u001b[1;32m<ipython-input-11-709992b7015f>\u001b[0m in \u001b[0;36m<module>\u001b[1;34m\u001b[0m\n\u001b[1;32m----> 1\u001b[1;33m \u001b[0mglobals\u001b[0m\u001b[1;33m(\u001b[0m\u001b[1;33m)\u001b[0m\u001b[1;33m[\u001b[0m\u001b[0mname\u001b[0m\u001b[1;33m]\u001b[0m\u001b[1;33m\u001b[0m\u001b[1;33m\u001b[0m\u001b[0m\n\u001b[0m",
      "\u001b[1;31mNameError\u001b[0m: name 'name' is not defined"
     ]
    }
   ],
   "source": [
    "globals()[name]"
   ]
  },
  {
   "cell_type": "code",
   "execution_count": 18,
   "id": "ea7c5650",
   "metadata": {},
   "outputs": [
    {
     "data": {
      "text/plain": [
       "'__main__'"
      ]
     },
     "execution_count": 18,
     "metadata": {},
     "output_type": "execute_result"
    }
   ],
   "source": [
    "globals()['__name__']"
   ]
  },
  {
   "cell_type": "code",
   "execution_count": 20,
   "id": "6ac5cdfe",
   "metadata": {},
   "outputs": [],
   "source": [
    "globals()['__loader__']"
   ]
  },
  {
   "cell_type": "code",
   "execution_count": 21,
   "id": "ac6e3204",
   "metadata": {},
   "outputs": [
    {
     "data": {
      "text/plain": [
       "{'__name__': '__main__',\n",
       " '__doc__': 'Automatically created module for IPython interactive environment',\n",
       " '__package__': None,\n",
       " '__loader__': None,\n",
       " '__spec__': None,\n",
       " '__builtin__': <module 'builtins' (built-in)>,\n",
       " '__builtins__': <module 'builtins' (built-in)>,\n",
       " '_ih': ['',\n",
       "  \"def fun():\\n    print('hi')\\n    return 1\",\n",
       "  'fun()',\n",
       "  \"def fun():\\n    print('hi')\\n    #return 1\",\n",
       "  'fun()',\n",
       "  'print(globals())',\n",
       "  \"s='Global Variable'\\ndef fun():\\n    \\n    print('hi')\\n    #return 1\",\n",
       "  'fun()',\n",
       "  'print(globals())',\n",
       "  'print(globals().keys())',\n",
       "  \"globals()['s']\",\n",
       "  'globals()[name]',\n",
       "  'globals()[__name__]',\n",
       "  \"globals()['s']\",\n",
       "  \"s='Local Variable'\\ndef fun():\\n    \\n    print('hi')\\n    #return 1\",\n",
       "  'fun()',\n",
       "  'print(globals())',\n",
       "  \"globals()['s']\",\n",
       "  \"globals()['__name__']\",\n",
       "  \"globals()[''__loader__']\",\n",
       "  \"globals()['__loader__']\",\n",
       "  'globals()'],\n",
       " '_oh': {2: 1,\n",
       "  10: 'Global Variable',\n",
       "  13: 'Global Variable',\n",
       "  17: 'Local Variable',\n",
       "  18: '__main__'},\n",
       " '_dh': ['C:\\\\Users\\\\2124259\\\\python bootcamp\\\\decorators'],\n",
       " 'In': ['',\n",
       "  \"def fun():\\n    print('hi')\\n    return 1\",\n",
       "  'fun()',\n",
       "  \"def fun():\\n    print('hi')\\n    #return 1\",\n",
       "  'fun()',\n",
       "  'print(globals())',\n",
       "  \"s='Global Variable'\\ndef fun():\\n    \\n    print('hi')\\n    #return 1\",\n",
       "  'fun()',\n",
       "  'print(globals())',\n",
       "  'print(globals().keys())',\n",
       "  \"globals()['s']\",\n",
       "  'globals()[name]',\n",
       "  'globals()[__name__]',\n",
       "  \"globals()['s']\",\n",
       "  \"s='Local Variable'\\ndef fun():\\n    \\n    print('hi')\\n    #return 1\",\n",
       "  'fun()',\n",
       "  'print(globals())',\n",
       "  \"globals()['s']\",\n",
       "  \"globals()['__name__']\",\n",
       "  \"globals()[''__loader__']\",\n",
       "  \"globals()['__loader__']\",\n",
       "  'globals()'],\n",
       " 'Out': {2: 1,\n",
       "  10: 'Global Variable',\n",
       "  13: 'Global Variable',\n",
       "  17: 'Local Variable',\n",
       "  18: '__main__'},\n",
       " 'get_ipython': <bound method InteractiveShell.get_ipython of <ipykernel.zmqshell.ZMQInteractiveShell object at 0x000001F7E51BDC70>>,\n",
       " 'exit': <IPython.core.autocall.ZMQExitAutocall at 0x1f7e522ba60>,\n",
       " 'quit': <IPython.core.autocall.ZMQExitAutocall at 0x1f7e522ba60>,\n",
       " '_': '__main__',\n",
       " '__': 'Local Variable',\n",
       " '___': 'Global Variable',\n",
       " '_i': \"globals()['__loader__']\",\n",
       " '_ii': \"globals()[''__loader__']\",\n",
       " '_iii': \"globals()['__name__']\",\n",
       " '_i1': \"def fun():\\n    print('hi')\\n    return 1\",\n",
       " 'fun': <function __main__.fun()>,\n",
       " '_i2': 'fun()',\n",
       " '_2': 1,\n",
       " '_i3': \"def fun():\\n    print('hi')\\n    #return 1\",\n",
       " '_i4': 'fun()',\n",
       " '_i5': 'print(globals())',\n",
       " '_i6': \"s='Global Variable'\\ndef fun():\\n    \\n    print('hi')\\n    #return 1\",\n",
       " 's': 'Local Variable',\n",
       " '_i7': 'fun()',\n",
       " '_i8': 'print(globals())',\n",
       " '_i9': 'print(globals().keys())',\n",
       " '_i10': \"globals()['s']\",\n",
       " '_10': 'Global Variable',\n",
       " '_i11': 'globals()[name]',\n",
       " '_i12': 'globals()[__name__]',\n",
       " '_i13': \"globals()['s']\",\n",
       " '_13': 'Global Variable',\n",
       " '_i14': \"s='Local Variable'\\ndef fun():\\n    \\n    print('hi')\\n    #return 1\",\n",
       " '_i15': 'fun()',\n",
       " '_i16': 'print(globals())',\n",
       " '_i17': \"globals()['s']\",\n",
       " '_17': 'Local Variable',\n",
       " '_i18': \"globals()['__name__']\",\n",
       " '_18': '__main__',\n",
       " '_i19': \"globals()[''__loader__']\",\n",
       " '_i20': \"globals()['__loader__']\",\n",
       " '_i21': 'globals()'}"
      ]
     },
     "execution_count": 21,
     "metadata": {},
     "output_type": "execute_result"
    }
   ],
   "source": [
    "globals()"
   ]
  },
  {
   "cell_type": "code",
   "execution_count": 22,
   "id": "1df0b954",
   "metadata": {},
   "outputs": [
    {
     "data": {
      "text/plain": [
       "{'__name__': '__main__',\n",
       " '__doc__': 'Automatically created module for IPython interactive environment',\n",
       " '__package__': None,\n",
       " '__loader__': None,\n",
       " '__spec__': None,\n",
       " '__builtin__': <module 'builtins' (built-in)>,\n",
       " '__builtins__': <module 'builtins' (built-in)>,\n",
       " '_ih': ['',\n",
       "  \"def fun():\\n    print('hi')\\n    return 1\",\n",
       "  'fun()',\n",
       "  \"def fun():\\n    print('hi')\\n    #return 1\",\n",
       "  'fun()',\n",
       "  'print(globals())',\n",
       "  \"s='Global Variable'\\ndef fun():\\n    \\n    print('hi')\\n    #return 1\",\n",
       "  'fun()',\n",
       "  'print(globals())',\n",
       "  'print(globals().keys())',\n",
       "  \"globals()['s']\",\n",
       "  'globals()[name]',\n",
       "  'globals()[__name__]',\n",
       "  \"globals()['s']\",\n",
       "  \"s='Local Variable'\\ndef fun():\\n    \\n    print('hi')\\n    #return 1\",\n",
       "  'fun()',\n",
       "  'print(globals())',\n",
       "  \"globals()['s']\",\n",
       "  \"globals()['__name__']\",\n",
       "  \"globals()[''__loader__']\",\n",
       "  \"globals()['__loader__']\",\n",
       "  'globals()',\n",
       "  'locals()'],\n",
       " '_oh': {2: 1,\n",
       "  10: 'Global Variable',\n",
       "  13: 'Global Variable',\n",
       "  17: 'Local Variable',\n",
       "  18: '__main__',\n",
       "  21: {...}},\n",
       " '_dh': ['C:\\\\Users\\\\2124259\\\\python bootcamp\\\\decorators'],\n",
       " 'In': ['',\n",
       "  \"def fun():\\n    print('hi')\\n    return 1\",\n",
       "  'fun()',\n",
       "  \"def fun():\\n    print('hi')\\n    #return 1\",\n",
       "  'fun()',\n",
       "  'print(globals())',\n",
       "  \"s='Global Variable'\\ndef fun():\\n    \\n    print('hi')\\n    #return 1\",\n",
       "  'fun()',\n",
       "  'print(globals())',\n",
       "  'print(globals().keys())',\n",
       "  \"globals()['s']\",\n",
       "  'globals()[name]',\n",
       "  'globals()[__name__]',\n",
       "  \"globals()['s']\",\n",
       "  \"s='Local Variable'\\ndef fun():\\n    \\n    print('hi')\\n    #return 1\",\n",
       "  'fun()',\n",
       "  'print(globals())',\n",
       "  \"globals()['s']\",\n",
       "  \"globals()['__name__']\",\n",
       "  \"globals()[''__loader__']\",\n",
       "  \"globals()['__loader__']\",\n",
       "  'globals()',\n",
       "  'locals()'],\n",
       " 'Out': {2: 1,\n",
       "  10: 'Global Variable',\n",
       "  13: 'Global Variable',\n",
       "  17: 'Local Variable',\n",
       "  18: '__main__',\n",
       "  21: {...}},\n",
       " 'get_ipython': <bound method InteractiveShell.get_ipython of <ipykernel.zmqshell.ZMQInteractiveShell object at 0x000001F7E51BDC70>>,\n",
       " 'exit': <IPython.core.autocall.ZMQExitAutocall at 0x1f7e522ba60>,\n",
       " 'quit': <IPython.core.autocall.ZMQExitAutocall at 0x1f7e522ba60>,\n",
       " '_': {...},\n",
       " '__': '__main__',\n",
       " '___': 'Local Variable',\n",
       " '_i': 'globals()',\n",
       " '_ii': \"globals()['__loader__']\",\n",
       " '_iii': \"globals()[''__loader__']\",\n",
       " '_i1': \"def fun():\\n    print('hi')\\n    return 1\",\n",
       " 'fun': <function __main__.fun()>,\n",
       " '_i2': 'fun()',\n",
       " '_2': 1,\n",
       " '_i3': \"def fun():\\n    print('hi')\\n    #return 1\",\n",
       " '_i4': 'fun()',\n",
       " '_i5': 'print(globals())',\n",
       " '_i6': \"s='Global Variable'\\ndef fun():\\n    \\n    print('hi')\\n    #return 1\",\n",
       " 's': 'Local Variable',\n",
       " '_i7': 'fun()',\n",
       " '_i8': 'print(globals())',\n",
       " '_i9': 'print(globals().keys())',\n",
       " '_i10': \"globals()['s']\",\n",
       " '_10': 'Global Variable',\n",
       " '_i11': 'globals()[name]',\n",
       " '_i12': 'globals()[__name__]',\n",
       " '_i13': \"globals()['s']\",\n",
       " '_13': 'Global Variable',\n",
       " '_i14': \"s='Local Variable'\\ndef fun():\\n    \\n    print('hi')\\n    #return 1\",\n",
       " '_i15': 'fun()',\n",
       " '_i16': 'print(globals())',\n",
       " '_i17': \"globals()['s']\",\n",
       " '_17': 'Local Variable',\n",
       " '_i18': \"globals()['__name__']\",\n",
       " '_18': '__main__',\n",
       " '_i19': \"globals()[''__loader__']\",\n",
       " '_i20': \"globals()['__loader__']\",\n",
       " '_i21': 'globals()',\n",
       " '_21': {...},\n",
       " '_i22': 'locals()'}"
      ]
     },
     "execution_count": 22,
     "metadata": {},
     "output_type": "execute_result"
    }
   ],
   "source": [
    "locals()"
   ]
  },
  {
   "cell_type": "code",
   "execution_count": 20,
   "id": "f28a27c5",
   "metadata": {},
   "outputs": [],
   "source": [
    "s = 'Global Variable'\n",
    "\n",
    "def check_for_locals():\n",
    "    a=5\n",
    "    b=10\n",
    "    #print(globals())\n",
    "    print(locals())\n",
    "    #return globals()\n",
    "    return locals()"
   ]
  },
  {
   "cell_type": "code",
   "execution_count": 21,
   "id": "69a3ec7b",
   "metadata": {},
   "outputs": [
    {
     "name": "stdout",
     "output_type": "stream",
     "text": [
      "{'a': 5, 'b': 10}\n"
     ]
    },
    {
     "data": {
      "text/plain": [
       "{'a': 5, 'b': 10}"
      ]
     },
     "execution_count": 21,
     "metadata": {},
     "output_type": "execute_result"
    }
   ],
   "source": [
    "check_for_locals()"
   ]
  },
  {
   "cell_type": "code",
   "execution_count": 22,
   "id": "c0d67ead",
   "metadata": {},
   "outputs": [
    {
     "name": "stdout",
     "output_type": "stream",
     "text": [
      "{'a': 5, 'b': 10}\n"
     ]
    },
    {
     "data": {
      "text/plain": [
       "dict_values([5, 10])"
      ]
     },
     "execution_count": 22,
     "metadata": {},
     "output_type": "execute_result"
    }
   ],
   "source": [
    "check_for_locals().values()"
   ]
  },
  {
   "cell_type": "code",
   "execution_count": 39,
   "id": "f761523e",
   "metadata": {},
   "outputs": [
    {
     "data": {
      "text/plain": [
       "function"
      ]
     },
     "execution_count": 39,
     "metadata": {},
     "output_type": "execute_result"
    }
   ],
   "source": [
    "type(check_for_locals)"
   ]
  },
  {
   "cell_type": "code",
   "execution_count": 46,
   "id": "17bd9870",
   "metadata": {},
   "outputs": [
    {
     "data": {
      "text/plain": [
       "<function __main__.check_for_locals()>"
      ]
     },
     "execution_count": 46,
     "metadata": {},
     "output_type": "execute_result"
    }
   ],
   "source": [
    "check_for_locals"
   ]
  },
  {
   "cell_type": "code",
   "execution_count": 23,
   "id": "1cbebf0c",
   "metadata": {},
   "outputs": [],
   "source": [
    "def hello(name='jose'):\n",
    "    return 'hi iam ' + name"
   ]
  },
  {
   "cell_type": "code",
   "execution_count": 24,
   "id": "5da59f48",
   "metadata": {},
   "outputs": [
    {
     "data": {
      "text/plain": [
       "'hi iam mani'"
      ]
     },
     "execution_count": 24,
     "metadata": {},
     "output_type": "execute_result"
    }
   ],
   "source": [
    "hello('mani')"
   ]
  },
  {
   "cell_type": "code",
   "execution_count": 57,
   "id": "fc33413c",
   "metadata": {},
   "outputs": [
    {
     "ename": "NameError",
     "evalue": "name 'greet' is not defined",
     "output_type": "error",
     "traceback": [
      "\u001b[1;31m---------------------------------------------------------------------------\u001b[0m",
      "\u001b[1;31mNameError\u001b[0m                                 Traceback (most recent call last)",
      "\u001b[1;32m<ipython-input-57-755b6f7a894f>\u001b[0m in \u001b[0;36m<module>\u001b[1;34m\u001b[0m\n\u001b[1;32m----> 1\u001b[1;33m \u001b[0mhello\u001b[0m\u001b[1;33m=\u001b[0m\u001b[0mgreet\u001b[0m\u001b[1;33m\u001b[0m\u001b[1;33m\u001b[0m\u001b[0m\n\u001b[0m",
      "\u001b[1;31mNameError\u001b[0m: name 'greet' is not defined"
     ]
    }
   ],
   "source": [
    "hello=greet   #copy"
   ]
  },
  {
   "cell_type": "code",
   "execution_count": 58,
   "id": "099b0bae",
   "metadata": {},
   "outputs": [],
   "source": [
    "greet=hello"
   ]
  },
  {
   "cell_type": "code",
   "execution_count": 59,
   "id": "cd83672c",
   "metadata": {},
   "outputs": [
    {
     "data": {
      "text/plain": [
       "'hi iam jose'"
      ]
     },
     "execution_count": 59,
     "metadata": {},
     "output_type": "execute_result"
    }
   ],
   "source": [
    "greet()"
   ]
  },
  {
   "cell_type": "markdown",
   "id": "9bbf2689",
   "metadata": {},
   "source": [
    "# Functions within function"
   ]
  },
  {
   "cell_type": "code",
   "execution_count": 30,
   "id": "3df1af04",
   "metadata": {},
   "outputs": [],
   "source": [
    "def hello(name='Jose'):\n",
    "    print(f'The hello() function has been executed and the name is {name}')\n",
    "    \n",
    "    def greeting():\n",
    "        return '\\t This is inside the greet() function'\n",
    "    \n",
    "    def welcome():\n",
    "        return \"\\t This is inside the welcome() function\"\n",
    "    "
   ]
  },
  {
   "cell_type": "code",
   "execution_count": 31,
   "id": "828cb02c",
   "metadata": {},
   "outputs": [
    {
     "name": "stdout",
     "output_type": "stream",
     "text": [
      "The hello() function has been executed and the name is raj\n"
     ]
    },
    {
     "ename": "NameError",
     "evalue": "name 'greeting' is not defined",
     "output_type": "error",
     "traceback": [
      "\u001b[1;31m---------------------------------------------------------------------------\u001b[0m",
      "\u001b[1;31mNameError\u001b[0m                                 Traceback (most recent call last)",
      "\u001b[1;32m<ipython-input-31-e701bd5ab3dc>\u001b[0m in \u001b[0;36m<module>\u001b[1;34m\u001b[0m\n\u001b[0;32m      4\u001b[0m     \u001b[0mgreeting\u001b[0m\u001b[1;33m(\u001b[0m\u001b[1;33m)\u001b[0m\u001b[1;33m\u001b[0m\u001b[1;33m\u001b[0m\u001b[0m\n\u001b[0;32m      5\u001b[0m     \u001b[0mwelcome\u001b[0m\u001b[1;33m(\u001b[0m\u001b[1;33m)\u001b[0m\u001b[1;33m\u001b[0m\u001b[1;33m\u001b[0m\u001b[0m\n\u001b[1;32m----> 6\u001b[1;33m \u001b[0mmain\u001b[0m\u001b[1;33m(\u001b[0m\u001b[1;33m)\u001b[0m\u001b[1;33m\u001b[0m\u001b[1;33m\u001b[0m\u001b[0m\n\u001b[0m",
      "\u001b[1;32m<ipython-input-31-e701bd5ab3dc>\u001b[0m in \u001b[0;36mmain\u001b[1;34m()\u001b[0m\n\u001b[0;32m      2\u001b[0m \u001b[1;32mdef\u001b[0m \u001b[0mmain\u001b[0m\u001b[1;33m(\u001b[0m\u001b[1;33m)\u001b[0m\u001b[1;33m:\u001b[0m\u001b[1;33m\u001b[0m\u001b[1;33m\u001b[0m\u001b[0m\n\u001b[0;32m      3\u001b[0m     \u001b[0mhello\u001b[0m\u001b[1;33m(\u001b[0m\u001b[1;34m'raj'\u001b[0m\u001b[1;33m)\u001b[0m\u001b[1;33m\u001b[0m\u001b[1;33m\u001b[0m\u001b[0m\n\u001b[1;32m----> 4\u001b[1;33m     \u001b[0mgreeting\u001b[0m\u001b[1;33m(\u001b[0m\u001b[1;33m)\u001b[0m\u001b[1;33m\u001b[0m\u001b[1;33m\u001b[0m\u001b[0m\n\u001b[0m\u001b[0;32m      5\u001b[0m     \u001b[0mwelcome\u001b[0m\u001b[1;33m(\u001b[0m\u001b[1;33m)\u001b[0m\u001b[1;33m\u001b[0m\u001b[1;33m\u001b[0m\u001b[0m\n\u001b[0;32m      6\u001b[0m \u001b[0mmain\u001b[0m\u001b[1;33m(\u001b[0m\u001b[1;33m)\u001b[0m\u001b[1;33m\u001b[0m\u001b[1;33m\u001b[0m\u001b[0m\n",
      "\u001b[1;31mNameError\u001b[0m: name 'greeting' is not defined"
     ]
    }
   ],
   "source": [
    "# more convenient\n",
    "def main():\n",
    "    hello('raj')\n",
    "    greeting()\n",
    "    welcome()\n",
    "main()    "
   ]
  },
  {
   "cell_type": "code",
   "execution_count": 32,
   "id": "a4872a18",
   "metadata": {},
   "outputs": [
    {
     "name": "stdout",
     "output_type": "stream",
     "text": [
      "The hello() function has been executed and the name is Jose\n"
     ]
    }
   ],
   "source": [
    "hello()"
   ]
  },
  {
   "cell_type": "code",
   "execution_count": 62,
   "id": "88e68757",
   "metadata": {},
   "outputs": [
    {
     "data": {
      "text/plain": [
       "<function __main__.hello(name='Jose')>"
      ]
     },
     "execution_count": 62,
     "metadata": {},
     "output_type": "execute_result"
    }
   ],
   "source": [
    "hello"
   ]
  },
  {
   "cell_type": "code",
   "execution_count": 65,
   "id": "93ff3280",
   "metadata": {},
   "outputs": [
    {
     "ename": "NameError",
     "evalue": "name 'welcome' is not defined",
     "output_type": "error",
     "traceback": [
      "\u001b[1;31m---------------------------------------------------------------------------\u001b[0m",
      "\u001b[1;31mNameError\u001b[0m                                 Traceback (most recent call last)",
      "\u001b[1;32m<ipython-input-65-a401d7101853>\u001b[0m in \u001b[0;36m<module>\u001b[1;34m\u001b[0m\n\u001b[1;32m----> 1\u001b[1;33m \u001b[0mwelcome\u001b[0m\u001b[1;33m(\u001b[0m\u001b[1;33m)\u001b[0m\u001b[1;33m\u001b[0m\u001b[1;33m\u001b[0m\u001b[0m\n\u001b[0m",
      "\u001b[1;31mNameError\u001b[0m: name 'welcome' is not defined"
     ]
    }
   ],
   "source": [
    "welcome()"
   ]
  },
  {
   "cell_type": "code",
   "execution_count": 37,
   "id": "00c4519a",
   "metadata": {},
   "outputs": [],
   "source": [
    "def hello(name='Jose'):\n",
    "    print('The hello() function has been executed')\n",
    "    \n",
    "    def greet():\n",
    "        print('This is inside the greet() function')\n",
    "    \n",
    "    def welcome():\n",
    "        return \"\\t This is inside the welcome() function\"\n",
    "    greet()\n",
    "    welcome()\n",
    "    \n",
    "    \n",
    "    #print(greet())\n",
    "    #print(welcome())\n",
    "    #print(\"\\t Now we are back inside the hello() function\")  #\\t 8spaces"
   ]
  },
  {
   "cell_type": "code",
   "execution_count": 38,
   "id": "4a198caf",
   "metadata": {},
   "outputs": [
    {
     "name": "stdout",
     "output_type": "stream",
     "text": [
      "The hello() function has been executed\n",
      "This is inside the greet() function\n"
     ]
    }
   ],
   "source": [
    "hello()"
   ]
  },
  {
   "cell_type": "code",
   "execution_count": 36,
   "id": "d4006204",
   "metadata": {},
   "outputs": [
    {
     "ename": "NameError",
     "evalue": "name 'greet' is not defined",
     "output_type": "error",
     "traceback": [
      "\u001b[1;31m---------------------------------------------------------------------------\u001b[0m",
      "\u001b[1;31mNameError\u001b[0m                                 Traceback (most recent call last)",
      "\u001b[1;32m<ipython-input-36-70b68215f8b8>\u001b[0m in \u001b[0;36m<module>\u001b[1;34m\u001b[0m\n\u001b[1;32m----> 1\u001b[1;33m \u001b[0mprint\u001b[0m\u001b[1;33m(\u001b[0m\u001b[0mgreet\u001b[0m\u001b[1;33m(\u001b[0m\u001b[1;33m)\u001b[0m\u001b[1;33m)\u001b[0m\u001b[1;33m\u001b[0m\u001b[1;33m\u001b[0m\u001b[0m\n\u001b[0m",
      "\u001b[1;31mNameError\u001b[0m: name 'greet' is not defined"
     ]
    }
   ],
   "source": [
    "print(greet())"
   ]
  },
  {
   "cell_type": "markdown",
   "id": "d9492c32",
   "metadata": {},
   "source": [
    "# returning functions"
   ]
  },
  {
   "cell_type": "code",
   "execution_count": 48,
   "id": "a2584616",
   "metadata": {},
   "outputs": [],
   "source": [
    "def hello(name='Jose'): \n",
    "    #here name=jose is ddefault parameter we can change name by any value when we call function so we provide value of name as parameter\n",
    "    print('hi')\n",
    "    def greet():\n",
    "        #return '\\t This is inside the greet() function'\n",
    "        print('hello')\n",
    "    def welcome():\n",
    "        return \"\\t This is inside the welcome() function\"\n",
    "    \n",
    "    if name == 'Jose':\n",
    "        return greet\n",
    "        #return greet()    \n",
    "    else:\n",
    "        return welcome()"
   ]
  },
  {
   "cell_type": "code",
   "execution_count": 49,
   "id": "bae648d5",
   "metadata": {},
   "outputs": [
    {
     "data": {
      "text/plain": [
       "<function __main__.hello(name='Jose')>"
      ]
     },
     "execution_count": 49,
     "metadata": {},
     "output_type": "execute_result"
    }
   ],
   "source": [
    "hello"
   ]
  },
  {
   "cell_type": "code",
   "execution_count": 50,
   "id": "7afa6244",
   "metadata": {},
   "outputs": [
    {
     "name": "stdout",
     "output_type": "stream",
     "text": [
      "hi\n"
     ]
    },
    {
     "data": {
      "text/plain": [
       "<function __main__.hello.<locals>.greet()>"
      ]
     },
     "execution_count": 50,
     "metadata": {},
     "output_type": "execute_result"
    }
   ],
   "source": [
    "hello()"
   ]
  },
  {
   "cell_type": "code",
   "execution_count": 44,
   "id": "7ae6ab52",
   "metadata": {},
   "outputs": [
    {
     "data": {
      "text/plain": [
       "<function __main__.hello.<locals>.greet()>"
      ]
     },
     "execution_count": 44,
     "metadata": {},
     "output_type": "execute_result"
    }
   ],
   "source": [
    "a=hello()\n",
    "a"
   ]
  },
  {
   "cell_type": "code",
   "execution_count": 51,
   "id": "631aacbf",
   "metadata": {},
   "outputs": [
    {
     "name": "stdout",
     "output_type": "stream",
     "text": [
      "hi\n"
     ]
    },
    {
     "data": {
      "text/plain": [
       "'\\t This is inside the welcome() function'"
      ]
     },
     "execution_count": 51,
     "metadata": {},
     "output_type": "execute_result"
    }
   ],
   "source": [
    "hello('sam')"
   ]
  },
  {
   "cell_type": "code",
   "execution_count": 52,
   "id": "af437eb1",
   "metadata": {},
   "outputs": [
    {
     "name": "stdout",
     "output_type": "stream",
     "text": [
      "hi\n"
     ]
    },
    {
     "data": {
      "text/plain": [
       "<function __main__.hello.<locals>.greet()>"
      ]
     },
     "execution_count": 52,
     "metadata": {},
     "output_type": "execute_result"
    }
   ],
   "source": [
    "hello('Jose')"
   ]
  },
  {
   "cell_type": "code",
   "execution_count": 100,
   "id": "0d56ebee",
   "metadata": {},
   "outputs": [],
   "source": [
    "def hello(name='Jose'):     #here name=jose is ddefault parameter we can change name by any value\n",
    "    \n",
    "    def greet():\n",
    "        return \"\\t This is inside the greet() function\"\n",
    "    \n",
    "    def welcome():\n",
    "        return \"\\t This is inside the welcome() function\"\n",
    "    \n",
    "    if name == 'Jose':\n",
    "        return greet\n",
    "    else:\n",
    "        return welcome"
   ]
  },
  {
   "cell_type": "code",
   "execution_count": 88,
   "id": "d014e433",
   "metadata": {},
   "outputs": [
    {
     "data": {
      "text/plain": [
       "<function __main__.hello.<locals>.welcome()>"
      ]
     },
     "execution_count": 88,
     "metadata": {},
     "output_type": "execute_result"
    }
   ],
   "source": [
    "hello(name='sam')"
   ]
  },
  {
   "cell_type": "code",
   "execution_count": 89,
   "id": "74c1f4d0",
   "metadata": {},
   "outputs": [
    {
     "data": {
      "text/plain": [
       "<function __main__.hello.<locals>.greet()>"
      ]
     },
     "execution_count": 89,
     "metadata": {},
     "output_type": "execute_result"
    }
   ],
   "source": [
    "hello(name='Jose')"
   ]
  },
  {
   "cell_type": "code",
   "execution_count": 111,
   "id": "76fa3da7",
   "metadata": {},
   "outputs": [],
   "source": [
    "def hello(name='Jose'):     #here name=jose is ddefault parameter we can change name by any value\n",
    "    \n",
    "    def greet():\n",
    "        return '\\t This is inside the greet() function'\n",
    "    \n",
    "    def welcome():\n",
    "        return \"\\t This is inside the welcome() function\"\n",
    "    \n",
    "    if name == 'Jose':\n",
    "        return greet\n",
    "    else:\n",
    "        return welcome"
   ]
  },
  {
   "cell_type": "code",
   "execution_count": 112,
   "id": "d5a52c7c",
   "metadata": {},
   "outputs": [
    {
     "data": {
      "text/plain": [
       "<function __main__.hello.<locals>.greet()>"
      ]
     },
     "execution_count": 112,
     "metadata": {},
     "output_type": "execute_result"
    }
   ],
   "source": [
    "hello(name='Jose')"
   ]
  },
  {
   "cell_type": "code",
   "execution_count": 92,
   "id": "4366c568",
   "metadata": {},
   "outputs": [],
   "source": [
    "x=hello()"
   ]
  },
  {
   "cell_type": "code",
   "execution_count": 93,
   "id": "a07abc0c",
   "metadata": {},
   "outputs": [
    {
     "data": {
      "text/plain": [
       "<function __main__.hello.<locals>.greet()>"
      ]
     },
     "execution_count": 93,
     "metadata": {},
     "output_type": "execute_result"
    }
   ],
   "source": [
    "x"
   ]
  },
  {
   "cell_type": "code",
   "execution_count": 101,
   "id": "5c131e24",
   "metadata": {},
   "outputs": [
    {
     "data": {
      "text/plain": [
       "'\\t This is inside the greet() function'"
      ]
     },
     "execution_count": 101,
     "metadata": {},
     "output_type": "execute_result"
    }
   ],
   "source": [
    "x()"
   ]
  },
  {
   "cell_type": "code",
   "execution_count": 102,
   "id": "e10cc4bc",
   "metadata": {},
   "outputs": [
    {
     "name": "stdout",
     "output_type": "stream",
     "text": [
      "\t This is inside the greet() function\n"
     ]
    }
   ],
   "source": [
    "print(x())"
   ]
  },
  {
   "cell_type": "markdown",
   "id": "b87dacab",
   "metadata": {},
   "source": [
    "# Functions as arguments"
   ]
  },
  {
   "cell_type": "code",
   "execution_count": 113,
   "id": "e43a43b0",
   "metadata": {},
   "outputs": [],
   "source": [
    "#hello is one function this function passed as argument for other function yellow"
   ]
  },
  {
   "cell_type": "code",
   "execution_count": 55,
   "id": "8a9c7c7c",
   "metadata": {},
   "outputs": [],
   "source": [
    "def hello():\n",
    "    #print('hi')\n",
    "    return 1"
   ]
  },
  {
   "cell_type": "code",
   "execution_count": 56,
   "id": "6b4d105b",
   "metadata": {},
   "outputs": [
    {
     "data": {
      "text/plain": [
       "1"
      ]
     },
     "execution_count": 56,
     "metadata": {},
     "output_type": "execute_result"
    }
   ],
   "source": [
    "hello()"
   ]
  },
  {
   "cell_type": "code",
   "execution_count": 57,
   "id": "0b10b097",
   "metadata": {},
   "outputs": [
    {
     "data": {
      "text/plain": [
       "<function __main__.hello()>"
      ]
     },
     "execution_count": 57,
     "metadata": {},
     "output_type": "execute_result"
    }
   ],
   "source": [
    "hello"
   ]
  },
  {
   "cell_type": "code",
   "execution_count": 128,
   "id": "34a489cf",
   "metadata": {},
   "outputs": [
    {
     "name": "stdout",
     "output_type": "stream",
     "text": [
      "hi\n",
      "None\n"
     ]
    }
   ],
   "source": [
    "print(hello())"
   ]
  },
  {
   "cell_type": "code",
   "execution_count": 53,
   "id": "56996031",
   "metadata": {},
   "outputs": [],
   "source": [
    "def hello():\n",
    "    #print('hi')\n",
    "    return 'hi'\n",
    "def yellow(func):\n",
    "    print('Other code would go here')\n",
    "    #print(func())\n",
    "    print(func)"
   ]
  },
  {
   "cell_type": "code",
   "execution_count": 54,
   "id": "fbfe6df4",
   "metadata": {},
   "outputs": [
    {
     "name": "stdout",
     "output_type": "stream",
     "text": [
      "Other code would go here\n",
      "<function hello at 0x00000291E42C61F0>\n"
     ]
    }
   ],
   "source": [
    "yellow(hello)"
   ]
  },
  {
   "cell_type": "code",
   "execution_count": 131,
   "id": "c759537d",
   "metadata": {},
   "outputs": [],
   "source": [
    "def new_decorator(func):    #argumenta func_needs_decprator pass agum\n",
    "\n",
    "    def wrap_func():\n",
    "        print(\"Code would be here, before executing the func\")\n",
    "\n",
    "        func()\n",
    "\n",
    "        print(\"Code here will execute after the func()\")\n",
    "\n",
    "    return wrap_func\n",
    "\n",
    "def func_needs_decorator():\n",
    "    print(\"This function is in need of a Decorator\")"
   ]
  },
  {
   "cell_type": "code",
   "execution_count": 132,
   "id": "09d7ad62",
   "metadata": {},
   "outputs": [
    {
     "name": "stdout",
     "output_type": "stream",
     "text": [
      "This function is in need of a Decorator\n"
     ]
    }
   ],
   "source": [
    "func_needs_decorator()"
   ]
  },
  {
   "cell_type": "code",
   "execution_count": 133,
   "id": "39f920d7",
   "metadata": {},
   "outputs": [],
   "source": [
    "# Reassign func_needs_decorator\n",
    "func_needs_decorator = new_decorator(func_needs_decorator)"
   ]
  },
  {
   "cell_type": "code",
   "execution_count": 134,
   "id": "aa46a3b2",
   "metadata": {},
   "outputs": [
    {
     "data": {
      "text/plain": [
       "<function __main__.new_decorator.<locals>.wrap_func()>"
      ]
     },
     "execution_count": 134,
     "metadata": {},
     "output_type": "execute_result"
    }
   ],
   "source": [
    "func_needs_decorator"
   ]
  },
  {
   "cell_type": "code",
   "execution_count": 135,
   "id": "07e88940",
   "metadata": {},
   "outputs": [
    {
     "name": "stdout",
     "output_type": "stream",
     "text": [
      "Code would be here, before executing the func\n",
      "This function is in need of a Decorator\n",
      "Code here will execute after the func()\n"
     ]
    }
   ],
   "source": [
    "func_needs_decorator()"
   ]
  },
  {
   "cell_type": "markdown",
   "id": "3938959d",
   "metadata": {},
   "source": [
    "#So what just happened here? A decorator simply wrapped the function and modified its behavior. Now let's understand how we can rewrite this code using the @ symbol, which is what Python uses for Decorators:"
   ]
  },
  {
   "cell_type": "code",
   "execution_count": 137,
   "id": "72e27558",
   "metadata": {},
   "outputs": [],
   "source": [
    "@new_decorator\n",
    "def func_needs_decorator():\n",
    "    print(\"This function is in need of a Decorator\")"
   ]
  },
  {
   "cell_type": "code",
   "execution_count": 138,
   "id": "142c7612",
   "metadata": {},
   "outputs": [
    {
     "data": {
      "text/plain": [
       "<function __main__.new_decorator.<locals>.wrap_func()>"
      ]
     },
     "execution_count": 138,
     "metadata": {},
     "output_type": "execute_result"
    }
   ],
   "source": [
    "func_needs_decorator"
   ]
  },
  {
   "cell_type": "code",
   "execution_count": 139,
   "id": "ad596594",
   "metadata": {},
   "outputs": [
    {
     "name": "stdout",
     "output_type": "stream",
     "text": [
      "Code would be here, before executing the func\n",
      "This function is in need of a Decorator\n",
      "Code here will execute after the func()\n"
     ]
    }
   ],
   "source": [
    "func_needs_decorator()"
   ]
  },
  {
   "cell_type": "markdown",
   "id": "b99127cb",
   "metadata": {},
   "source": [
    "# exm2"
   ]
  },
  {
   "cell_type": "code",
   "execution_count": 140,
   "id": "3ab060f5",
   "metadata": {},
   "outputs": [],
   "source": [
    "def div(a,b):\n",
    "    return a/b"
   ]
  },
  {
   "cell_type": "code",
   "execution_count": 141,
   "id": "ccc8d389",
   "metadata": {},
   "outputs": [
    {
     "data": {
      "text/plain": [
       "2.0"
      ]
     },
     "execution_count": 141,
     "metadata": {},
     "output_type": "execute_result"
    }
   ],
   "source": [
    "div(4,2)"
   ]
  },
  {
   "cell_type": "code",
   "execution_count": 142,
   "id": "1407b92f",
   "metadata": {},
   "outputs": [
    {
     "data": {
      "text/plain": [
       "0.5"
      ]
     },
     "execution_count": 142,
     "metadata": {},
     "output_type": "execute_result"
    }
   ],
   "source": [
    "div(2,4)"
   ]
  },
  {
   "cell_type": "code",
   "execution_count": 143,
   "id": "29c3db5b",
   "metadata": {},
   "outputs": [],
   "source": [
    "# i want 2.0 ans when div 2,4 also without disturbing div(a,b) so i want some logic and decorators to wrap it"
   ]
  },
  {
   "cell_type": "code",
   "execution_count": 158,
   "id": "4a03a012",
   "metadata": {},
   "outputs": [],
   "source": [
    "def smart_div(func):\n",
    "    def inner(a,b):\n",
    "        if a<b:\n",
    "            a,b=b,a\n",
    "        return func(a,b)\n",
    "    return inner\n",
    "        "
   ]
  },
  {
   "cell_type": "code",
   "execution_count": 145,
   "id": "ef98c262",
   "metadata": {},
   "outputs": [
    {
     "data": {
      "text/plain": [
       "<function __main__.smart_div.<locals>.inner(a, b)>"
      ]
     },
     "execution_count": 145,
     "metadata": {},
     "output_type": "execute_result"
    }
   ],
   "source": [
    "smart_div(div)"
   ]
  },
  {
   "cell_type": "code",
   "execution_count": 159,
   "id": "553dbccc",
   "metadata": {},
   "outputs": [
    {
     "data": {
      "text/plain": [
       "2.0"
      ]
     },
     "execution_count": 159,
     "metadata": {},
     "output_type": "execute_result"
    }
   ],
   "source": [
    "div=smart_div(div)\n",
    "div(2,4)"
   ]
  },
  {
   "cell_type": "code",
   "execution_count": 147,
   "id": "d1ac42a4",
   "metadata": {},
   "outputs": [
    {
     "ename": "TypeError",
     "evalue": "inner() missing 2 required positional arguments: 'a' and 'b'",
     "output_type": "error",
     "traceback": [
      "\u001b[1;31m---------------------------------------------------------------------------\u001b[0m",
      "\u001b[1;31mTypeError\u001b[0m                                 Traceback (most recent call last)",
      "\u001b[1;32m<ipython-input-147-ce2a0119077d>\u001b[0m in \u001b[0;36m<module>\u001b[1;34m\u001b[0m\n\u001b[1;32m----> 1\u001b[1;33m \u001b[0msmart_div\u001b[0m\u001b[1;33m(\u001b[0m\u001b[1;33m)\u001b[0m\u001b[1;33m\u001b[0m\u001b[1;33m\u001b[0m\u001b[0m\n\u001b[0m",
      "\u001b[1;31mTypeError\u001b[0m: inner() missing 2 required positional arguments: 'a' and 'b'"
     ]
    }
   ],
   "source": [
    "smart_div()"
   ]
  },
  {
   "cell_type": "code",
   "execution_count": 148,
   "id": "0d647f6c",
   "metadata": {},
   "outputs": [
    {
     "data": {
      "text/plain": [
       "2.0"
      ]
     },
     "execution_count": 148,
     "metadata": {},
     "output_type": "execute_result"
    }
   ],
   "source": [
    "smart_div(2,4)"
   ]
  },
  {
   "cell_type": "code",
   "execution_count": 149,
   "id": "9a7ef607",
   "metadata": {},
   "outputs": [
    {
     "data": {
      "text/plain": [
       "0.5"
      ]
     },
     "execution_count": 149,
     "metadata": {},
     "output_type": "execute_result"
    }
   ],
   "source": [
    "div(2,4)"
   ]
  },
  {
   "cell_type": "code",
   "execution_count": 160,
   "id": "cbf986d2",
   "metadata": {},
   "outputs": [],
   "source": [
    "@smart_div\n",
    "def div(a,b):\n",
    "    \n",
    "    print(a/b)\n",
    "    \n"
   ]
  },
  {
   "cell_type": "code",
   "execution_count": 161,
   "id": "79afbee0",
   "metadata": {},
   "outputs": [
    {
     "name": "stdout",
     "output_type": "stream",
     "text": [
      "2.0\n"
     ]
    }
   ],
   "source": [
    "div(2,4)"
   ]
  },
  {
   "cell_type": "code",
   "execution_count": 162,
   "id": "7839f5b8",
   "metadata": {},
   "outputs": [],
   "source": [
    "def div(a,b):\n",
    "    \n",
    "    print(a/b)"
   ]
  },
  {
   "cell_type": "code",
   "execution_count": 163,
   "id": "cc76e1f1",
   "metadata": {},
   "outputs": [
    {
     "name": "stdout",
     "output_type": "stream",
     "text": [
      "0.5\n"
     ]
    }
   ],
   "source": [
    "div(2,4)"
   ]
  },
  {
   "cell_type": "code",
   "execution_count": 3,
   "id": "06163fdc",
   "metadata": {},
   "outputs": [],
   "source": [
    "def inner(a,b):\n",
    "        if a<b:\n",
    "            a,b=b,a\n",
    "        return func(a,b)\n",
    "    "
   ]
  },
  {
   "cell_type": "code",
   "execution_count": 5,
   "id": "7605f0d3",
   "metadata": {},
   "outputs": [
    {
     "ename": "NameError",
     "evalue": "name 'func' is not defined",
     "output_type": "error",
     "traceback": [
      "\u001b[1;31m---------------------------------------------------------------------------\u001b[0m",
      "\u001b[1;31mNameError\u001b[0m                                 Traceback (most recent call last)",
      "\u001b[1;32m<ipython-input-5-b32a6a67bcc8>\u001b[0m in \u001b[0;36m<module>\u001b[1;34m\u001b[0m\n\u001b[1;32m----> 1\u001b[1;33m \u001b[0mfunc\u001b[0m\u001b[1;33m(\u001b[0m\u001b[1;36m4\u001b[0m\u001b[1;33m,\u001b[0m\u001b[1;36m5\u001b[0m\u001b[1;33m)\u001b[0m\u001b[1;33m\u001b[0m\u001b[1;33m\u001b[0m\u001b[0m\n\u001b[0m",
      "\u001b[1;31mNameError\u001b[0m: name 'func' is not defined"
     ]
    }
   ],
   "source": [
    "func(4,5)"
   ]
  },
  {
   "cell_type": "markdown",
   "id": "8356ce6e",
   "metadata": {},
   "source": [
    "### practice"
   ]
  },
  {
   "cell_type": "code",
   "execution_count": 80,
   "id": "20994178",
   "metadata": {},
   "outputs": [],
   "source": [
    "def div(a,b):\n",
    "    return a/b"
   ]
  },
  {
   "cell_type": "code",
   "execution_count": 59,
   "id": "5698b037",
   "metadata": {},
   "outputs": [
    {
     "data": {
      "text/plain": [
       "3.0"
      ]
     },
     "execution_count": 59,
     "metadata": {},
     "output_type": "execute_result"
    }
   ],
   "source": [
    "div(a=6,b=2)"
   ]
  },
  {
   "cell_type": "code",
   "execution_count": 60,
   "id": "4705f92b",
   "metadata": {},
   "outputs": [
    {
     "data": {
      "text/plain": [
       "0.3333333333333333"
      ]
     },
     "execution_count": 60,
     "metadata": {},
     "output_type": "execute_result"
    }
   ],
   "source": [
    "div(a=2,b=6)   #ineed same 3.0 without disturbing div"
   ]
  },
  {
   "cell_type": "code",
   "execution_count": 81,
   "id": "9259c6f5",
   "metadata": {},
   "outputs": [],
   "source": [
    "def decorator(func):\n",
    "    def logic(a,b):\n",
    "        if a<b:\n",
    "            a,b=b,a\n",
    "        return func(a,b)\n",
    "    return logic\n",
    "        "
   ]
  },
  {
   "cell_type": "code",
   "execution_count": 82,
   "id": "429dac3b",
   "metadata": {},
   "outputs": [],
   "source": [
    "div1=decorator(div)\n",
    "             "
   ]
  },
  {
   "cell_type": "code",
   "execution_count": 83,
   "id": "76d04e7a",
   "metadata": {},
   "outputs": [
    {
     "data": {
      "text/plain": [
       "3.0"
      ]
     },
     "execution_count": 83,
     "metadata": {},
     "output_type": "execute_result"
    }
   ],
   "source": [
    "div1(2,6)"
   ]
  },
  {
   "cell_type": "code",
   "execution_count": 84,
   "id": "653a6745",
   "metadata": {},
   "outputs": [],
   "source": [
    "@decorator   #decorator automatically take fun parameter func as div fun as argument--no need to pass like past 2 cells\n",
    "def div(a,b):\n",
    "    return a/b"
   ]
  },
  {
   "cell_type": "code",
   "execution_count": 85,
   "id": "2175e750",
   "metadata": {},
   "outputs": [
    {
     "data": {
      "text/plain": [
       "3.0"
      ]
     },
     "execution_count": 85,
     "metadata": {},
     "output_type": "execute_result"
    }
   ],
   "source": [
    "div(6,2)"
   ]
  },
  {
   "cell_type": "code",
   "execution_count": 86,
   "id": "53951fc2",
   "metadata": {},
   "outputs": [
    {
     "data": {
      "text/plain": [
       "3.0"
      ]
     },
     "execution_count": 86,
     "metadata": {},
     "output_type": "execute_result"
    }
   ],
   "source": [
    "div(2,6)"
   ]
  },
  {
   "cell_type": "code",
   "execution_count": null,
   "id": "3384dde1",
   "metadata": {},
   "outputs": [],
   "source": []
  }
 ],
 "metadata": {
  "kernelspec": {
   "display_name": "Python 3",
   "language": "python",
   "name": "python3"
  },
  "language_info": {
   "codemirror_mode": {
    "name": "ipython",
    "version": 3
   },
   "file_extension": ".py",
   "mimetype": "text/x-python",
   "name": "python",
   "nbconvert_exporter": "python",
   "pygments_lexer": "ipython3",
   "version": "3.8.8"
  }
 },
 "nbformat": 4,
 "nbformat_minor": 5
}
