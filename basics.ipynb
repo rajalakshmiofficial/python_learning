{
 "cells": [
  {
   "cell_type": "code",
   "execution_count": 6,
   "id": "a098f342",
   "metadata": {},
   "outputs": [
    {
     "name": "stdout",
     "output_type": "stream",
     "text": [
      "enter a number:12\n"
     ]
    }
   ],
   "source": [
    "a=input('enter a number:')"
   ]
  },
  {
   "cell_type": "code",
   "execution_count": 3,
   "id": "92103cbf",
   "metadata": {},
   "outputs": [
    {
     "ename": "TypeError",
     "evalue": "can only concatenate str (not \"int\") to str",
     "output_type": "error",
     "traceback": [
      "\u001b[1;31m---------------------------------------------------------------------------\u001b[0m",
      "\u001b[1;31mTypeError\u001b[0m                                 Traceback (most recent call last)",
      "Cell \u001b[1;32mIn[3], line 2\u001b[0m\n\u001b[0;32m      1\u001b[0m b\u001b[38;5;241m=\u001b[39m\u001b[38;5;241m2\u001b[39m\n\u001b[1;32m----> 2\u001b[0m c\u001b[38;5;241m=\u001b[39ma\u001b[38;5;241m+\u001b[39mb\n\u001b[0;32m      3\u001b[0m \u001b[38;5;28mprint\u001b[39m(c)\n",
      "\u001b[1;31mTypeError\u001b[0m: can only concatenate str (not \"int\") to str"
     ]
    }
   ],
   "source": [
    "b=2\n",
    "c=a+b\n",
    "print(c)"
   ]
  },
  {
   "cell_type": "code",
   "execution_count": 4,
   "id": "1d7da950",
   "metadata": {},
   "outputs": [
    {
     "name": "stdout",
     "output_type": "stream",
     "text": [
      "enter a number:12\n"
     ]
    }
   ],
   "source": [
    "a=int(input('enter a number:'))"
   ]
  },
  {
   "cell_type": "code",
   "execution_count": 5,
   "id": "810a4aaf",
   "metadata": {},
   "outputs": [
    {
     "name": "stdout",
     "output_type": "stream",
     "text": [
      "14\n"
     ]
    }
   ],
   "source": [
    "b=2\n",
    "c=a+b\n",
    "print(c)"
   ]
  },
  {
   "cell_type": "code",
   "execution_count": null,
   "id": "5363e15f",
   "metadata": {},
   "outputs": [],
   "source": [
    "a=input('enter a number:')"
   ]
  },
  {
   "cell_type": "code",
   "execution_count": 2,
   "id": "6776dca4",
   "metadata": {},
   "outputs": [
    {
     "data": {
      "text/plain": [
       "str"
      ]
     },
     "execution_count": 2,
     "metadata": {},
     "output_type": "execute_result"
    }
   ],
   "source": [
    "type(a)"
   ]
  },
  {
   "cell_type": "code",
   "execution_count": 8,
   "id": "7a733f55",
   "metadata": {},
   "outputs": [
    {
     "name": "stdout",
     "output_type": "stream",
     "text": [
      "12\n"
     ]
    }
   ],
   "source": [
    "print(a)"
   ]
  },
  {
   "cell_type": "code",
   "execution_count": 7,
   "id": "d5d6666c",
   "metadata": {},
   "outputs": [
    {
     "name": "stdout",
     "output_type": "stream",
     "text": [
      "1\n",
      "3\n"
     ]
    }
   ],
   "source": [
    "b=int(a[0])\n",
    "print(b)\n",
    "c=int(a[1])\n",
    "print(b+c)\n"
   ]
  },
  {
   "cell_type": "code",
   "execution_count": 5,
   "id": "901a8a67",
   "metadata": {},
   "outputs": [
    {
     "name": "stdout",
     "output_type": "stream",
     "text": [
      "7.0\n"
     ]
    }
   ],
   "source": [
    "print(3*3+3/3-3)   #operator presidence rule"
   ]
  },
  {
   "cell_type": "code",
   "execution_count": 9,
   "id": "2e428293",
   "metadata": {},
   "outputs": [
    {
     "name": "stdout",
     "output_type": "stream",
     "text": [
      "enter your weight w: 65\n",
      "enter your height m: 1.62\n",
      "25\n"
     ]
    }
   ],
   "source": [
    "w=int(input('enter your weight w: '))\n",
    "h=float(input('enter your height m: '))  #1m=100cm\n",
    "bmi=w/(h*h)\n",
    "print(round(bmi))"
   ]
  },
  {
   "cell_type": "code",
   "execution_count": 7,
   "id": "b241fe0b",
   "metadata": {},
   "outputs": [
    {
     "data": {
      "text/plain": [
       "float"
      ]
     },
     "execution_count": 7,
     "metadata": {},
     "output_type": "execute_result"
    }
   ],
   "source": [
    "type(h)"
   ]
  },
  {
   "cell_type": "code",
   "execution_count": 8,
   "id": "55f294f9",
   "metadata": {},
   "outputs": [
    {
     "name": "stdout",
     "output_type": "stream",
     "text": [
      "3\n"
     ]
    }
   ],
   "source": [
    "score=1\n",
    "score +=2\n",
    "print(score)"
   ]
  },
  {
   "cell_type": "code",
   "execution_count": 17,
   "id": "d063c7c6",
   "metadata": {},
   "outputs": [
    {
     "name": "stdout",
     "output_type": "stream",
     "text": [
      "enter a number12\n",
      "enter 2nd number 15\n",
      "a is  12\n",
      "b is  15\n",
      "a is  15\n",
      "b is  12\n"
     ]
    }
   ],
   "source": [
    "a=int(input('enter a number'))\n",
    "b=int(input('enter 2nd number '))\n",
    "\n",
    "print('a is ',a)\n",
    "print('b is ',b)\n",
    "c=a\n",
    "a=b\n",
    "b=c\n",
    "print('a is ',a)\n",
    "print('b is ',b)"
   ]
  },
  {
   "cell_type": "code",
   "execution_count": 10,
   "id": "169f4496",
   "metadata": {},
   "outputs": [
    {
     "name": "stdout",
     "output_type": "stream",
     "text": [
      "your score is 3\n"
     ]
    }
   ],
   "source": [
    "print('your score is '+  str(score))"
   ]
  },
  {
   "cell_type": "code",
   "execution_count": 11,
   "id": "513a6ec6",
   "metadata": {},
   "outputs": [
    {
     "ename": "TypeError",
     "evalue": "can only concatenate str (not \"int\") to str",
     "output_type": "error",
     "traceback": [
      "\u001b[1;31m---------------------------------------------------------------------------\u001b[0m",
      "\u001b[1;31mTypeError\u001b[0m                                 Traceback (most recent call last)",
      "\u001b[1;32m<ipython-input-11-98f3f4d27cf5>\u001b[0m in \u001b[0;36m<module>\u001b[1;34m\u001b[0m\n\u001b[1;32m----> 1\u001b[1;33m \u001b[0mprint\u001b[0m\u001b[1;33m(\u001b[0m\u001b[1;34m'your score is'\u001b[0m\u001b[1;33m+\u001b[0m \u001b[0mscore\u001b[0m\u001b[1;33m)\u001b[0m\u001b[1;33m\u001b[0m\u001b[1;33m\u001b[0m\u001b[0m\n\u001b[0m",
      "\u001b[1;31mTypeError\u001b[0m: can only concatenate str (not \"int\") to str"
     ]
    }
   ],
   "source": [
    "print('your score is'+ score)"
   ]
  },
  {
   "cell_type": "code",
   "execution_count": 12,
   "id": "946484e6",
   "metadata": {},
   "outputs": [
    {
     "name": "stdout",
     "output_type": "stream",
     "text": [
      "your score is 3\n"
     ]
    }
   ],
   "source": [
    "print(f'your score is {score}')"
   ]
  },
  {
   "cell_type": "code",
   "execution_count": 17,
   "id": "5584f042",
   "metadata": {},
   "outputs": [
    {
     "name": "stdout",
     "output_type": "stream",
     "text": [
      "welcome tip app\n",
      "enter bill amount 100\n",
      "enter percentage of tip 10,20,30: 10\n",
      "enter how many persons going to be share 10\n",
      "each person going to give 1.00\n",
      "each person going to give 1.0 rs\n"
     ]
    }
   ],
   "source": [
    "print('welcome tip app')\n",
    "b=int(input('enter bill amount '))\n",
    "p=int(input('enter percentage of tip 10,20,30: '))\n",
    "m=int(input('enter how many persons going to be share '))\n",
    "#totalamount=p/100*b+b\n",
    "totalamount=(b*(p/100)) \n",
    "totalamount=totalamount/m\n",
    "#if you missed to put * sign it will throw int object is not callable\n",
    "#print(round(totalamount,2))\n",
    "#print({':.2f'}.format(totalamount))  #it throws error set object has no attribute format\n",
    "print('each person going to give {:.2f}'.format(totalamount))\n",
    "#or\n",
    "print('each person going to give',totalamount, 'rs')"
   ]
  },
  {
   "cell_type": "code",
   "execution_count": 14,
   "id": "b4fa030f",
   "metadata": {},
   "outputs": [
    {
     "data": {
      "text/plain": [
       "110.0"
      ]
     },
     "execution_count": 14,
     "metadata": {},
     "output_type": "execute_result"
    }
   ],
   "source": [
    "27.5*4"
   ]
  },
  {
   "cell_type": "markdown",
   "id": "bc15b2f9",
   "metadata": {},
   "source": [
    "### life in weeks pgm"
   ]
  },
  {
   "cell_type": "markdown",
   "id": "4f5182e8",
   "metadata": {},
   "source": [
    "1yr=365days,  1yr=52weeks,  1yr=12months"
   ]
  },
  {
   "cell_type": "markdown",
   "id": "a8a3d2a8",
   "metadata": {},
   "source": [
    "#you have 90 years life and you have to tell how many months,weeks,days left  and use f string"
   ]
  },
  {
   "cell_type": "code",
   "execution_count": 15,
   "id": "107e03f0",
   "metadata": {},
   "outputs": [
    {
     "name": "stdout",
     "output_type": "stream",
     "text": [
      "enter your age:20\n",
      "you have 25550 days and 840 month and 70 year left\n"
     ]
    }
   ],
   "source": [
    "a=int(input('enter your age:'))\n",
    "remyears=90-a\n",
    "remmonth=remyears*12\n",
    "remweek=remyears*52\n",
    "remdays=remyears*365\n",
    "print(f'you have {remdays} days and {remmonth} month and {remyears} year left')\n"
   ]
  },
  {
   "cell_type": "code",
   "execution_count": 18,
   "id": "10d06366",
   "metadata": {},
   "outputs": [
    {
     "data": {
      "text/plain": [
       "5"
      ]
     },
     "execution_count": 18,
     "metadata": {},
     "output_type": "execute_result"
    }
   ],
   "source": [
    "a=len('hello')\n",
    "a"
   ]
  },
  {
   "cell_type": "code",
   "execution_count": 19,
   "id": "1d63a84e",
   "metadata": {},
   "outputs": [
    {
     "name": "stdout",
     "output_type": "stream",
     "text": [
      "raji\n",
      "raji\n",
      "raji\n",
      "raji\n",
      "raji\n"
     ]
    }
   ],
   "source": [
    "for _ in 'hello':   #after in is predefined and we can use variable whatever we want here _, i want to print the word no of times that is equal to len of hello\n",
    "    print('raji')"
   ]
  },
  {
   "cell_type": "code",
   "execution_count": 21,
   "id": "4b6cd32d",
   "metadata": {},
   "outputs": [
    {
     "data": {
      "text/plain": [
       "list"
      ]
     },
     "execution_count": 21,
     "metadata": {},
     "output_type": "execute_result"
    }
   ],
   "source": [
    "list1=[(1,2),(5,4),(3,7)]\n",
    "type(list1)"
   ]
  },
  {
   "cell_type": "code",
   "execution_count": 24,
   "id": "b32aa2b6",
   "metadata": {},
   "outputs": [
    {
     "name": "stdout",
     "output_type": "stream",
     "text": [
      "1 2\n",
      "1 2\n",
      "5 4\n",
      "5 4\n",
      "3 7\n",
      "3 7\n"
     ]
    }
   ],
   "source": [
    "for a,b in list1:\n",
    "    print(a,end=' ')\n",
    "    print(b)\n",
    "    print(a,b)"
   ]
  },
  {
   "cell_type": "code",
   "execution_count": 22,
   "id": "72bf529a",
   "metadata": {},
   "outputs": [
    {
     "data": {
      "text/plain": [
       "dict"
      ]
     },
     "execution_count": 22,
     "metadata": {},
     "output_type": "execute_result"
    }
   ],
   "source": [
    "# we iterate dictionary by default it iterate over key\n",
    "c={'a':12,'b':[1,2,3],'d':{'k1':10}}\n",
    "type(c)"
   ]
  },
  {
   "cell_type": "code",
   "execution_count": 26,
   "id": "c81d3885",
   "metadata": {},
   "outputs": [
    {
     "data": {
      "text/plain": [
       "3"
      ]
     },
     "execution_count": 26,
     "metadata": {},
     "output_type": "execute_result"
    }
   ],
   "source": [
    "c['b'][2]  #we can manupulate dictionary using key value"
   ]
  },
  {
   "cell_type": "code",
   "execution_count": 23,
   "id": "10749b6e",
   "metadata": {},
   "outputs": [
    {
     "name": "stdout",
     "output_type": "stream",
     "text": [
      "a\n",
      "b\n",
      "d\n"
     ]
    }
   ],
   "source": [
    "for key in c:\n",
    "    print(key)"
   ]
  },
  {
   "cell_type": "code",
   "execution_count": 29,
   "id": "6016ba70",
   "metadata": {},
   "outputs": [
    {
     "name": "stdout",
     "output_type": "stream",
     "text": [
      "12\n",
      "[1, 2, 3]\n",
      "{'k1': 10}\n"
     ]
    }
   ],
   "source": [
    "for key in c.values():\n",
    "    print(key)"
   ]
  },
  {
   "cell_type": "code",
   "execution_count": 27,
   "id": "876eee8c",
   "metadata": {},
   "outputs": [
    {
     "name": "stdout",
     "output_type": "stream",
     "text": [
      "('a', 12)\n",
      "('b', [1, 2, 3])\n",
      "('d', {'k1': 10})\n"
     ]
    }
   ],
   "source": [
    "for key in c.items():\n",
    "    print(key)"
   ]
  },
  {
   "cell_type": "code",
   "execution_count": 28,
   "id": "93eaca3e",
   "metadata": {},
   "outputs": [
    {
     "name": "stdout",
     "output_type": "stream",
     "text": [
      "a\n",
      "12\n",
      "b\n",
      "[1, 2, 3]\n",
      "d\n",
      "{'k1': 10}\n"
     ]
    }
   ],
   "source": [
    "for key,value in c.items():\n",
    "    print(key)\n",
    "    print(value)"
   ]
  },
  {
   "cell_type": "code",
   "execution_count": null,
   "id": "7d1927cb",
   "metadata": {},
   "outputs": [],
   "source": []
  }
 ],
 "metadata": {
  "kernelspec": {
   "display_name": "Python 3 (ipykernel)",
   "language": "python",
   "name": "python3"
  },
  "language_info": {
   "codemirror_mode": {
    "name": "ipython",
    "version": 3
   },
   "file_extension": ".py",
   "mimetype": "text/x-python",
   "name": "python",
   "nbconvert_exporter": "python",
   "pygments_lexer": "ipython3",
   "version": "3.11.5"
  }
 },
 "nbformat": 4,
 "nbformat_minor": 5
}
