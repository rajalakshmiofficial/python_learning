{
 "cells": [
  {
   "cell_type": "code",
   "execution_count": null,
   "id": "4491c654",
   "metadata": {},
   "outputs": [],
   "source": [
    "a=120\n",
    "if a>=150:\n",
    "    print('stop fill tank')\n",
    "else:\n",
    "    print('continue the tank fill')"
   ]
  },
  {
   "cell_type": "code",
   "execution_count": null,
   "id": "62e15602",
   "metadata": {},
   "outputs": [],
   "source": [
    "user_input=int(input('enter a number\\n'))\n",
    "if user_input%2 == 0:\n",
    "    print('input number is even no')\n",
    "else:\n",
    "    print('this is \\'odd\\' number')   # to print ''\n",
    "    "
   ]
  },
  {
   "cell_type": "markdown",
   "id": "7a1600c4",
   "metadata": {},
   "source": [
    "#### Nested if, elif statements"
   ]
  },
  {
   "cell_type": "markdown",
   "id": "8c2210ad",
   "metadata": {},
   "source": [
    "Rollercoaster problem"
   ]
  },
  {
   "cell_type": "code",
   "execution_count": null,
   "id": "836b681f",
   "metadata": {},
   "outputs": [],
   "source": [
    "print('welcome Rollercoaster')\n",
    "height=int(input('enter your height in cm\\n'))\n",
    "if height>= 120:\n",
    "    print('you are eligible to ride the rollercoaster')\n",
    "    age=int(input('enter a age\\n'))\n",
    "    if age<=5:\n",
    "        print('your bill amount is $2')\n",
    "    elif age<=12:\n",
    "        print('your bill amount is $4')\n",
    "    elif age<=18:\n",
    "        print('your bill amount is $5')\n",
    "    else:\n",
    "        print('your bill amount is $6')\n",
    "else:\n",
    "    print('you are not eligible')\n",
    "    "
   ]
  },
  {
   "cell_type": "markdown",
   "id": "2eb72e0c",
   "metadata": {},
   "source": [
    "BMI cal nd interpretation problem"
   ]
  },
  {
   "cell_type": "code",
   "execution_count": null,
   "id": "f175a81e",
   "metadata": {},
   "outputs": [],
   "source": [
    "weight=int(input('enter a weight: '))\n",
    "height=float(input('enter a height in meter: '))\n",
    "bmi=round(weight/height ** 2)\n",
    "print('your bmi is',bmi)\n",
    "bmi=17\n",
    "if bmi<18.5:\n",
    "    print(f'your bmi is {bmi} under weight')\n",
    "elif bmi<25:\n",
    "    print('normal weight')\n",
    "elif bmi<30:\n",
    "    print('over weight')\n",
    "elif bmi<35:\n",
    "    print('obese')\n",
    "else:\n",
    "    print('clinically obese')"
   ]
  },
  {
   "cell_type": "markdown",
   "id": "ba50d2c5",
   "metadata": {},
   "source": [
    "Leap year program"
   ]
  },
  {
   "cell_type": "code",
   "execution_count": null,
   "id": "03fecaff",
   "metadata": {},
   "outputs": [],
   "source": [
    "year=int(input('enter a input yr: '))\n",
    "if year%4==0:\n",
    "    if year%100==0:\n",
    "        if year%400==0:\n",
    "            print('leap yr')\n",
    "        else:\n",
    "            print('non leap yr')\n",
    "    else:\n",
    "        print('leap yr')\n",
    "    \n",
    "else:\n",
    "    print('non leap year')"
   ]
  },
  {
   "cell_type": "markdown",
   "id": "338c223b",
   "metadata": {},
   "source": [
    "#### Multiple if statement succession"
   ]
  },
  {
   "cell_type": "markdown",
   "id": "5c8ce7f9",
   "metadata": {},
   "source": [
    "if,elif,else"
   ]
  },
  {
   "cell_type": "markdown",
   "id": "3fc188ee",
   "metadata": {},
   "source": [
    "###### Roller cast photo condition"
   ]
  },
  {
   "cell_type": "markdown",
   "id": "00501c8d",
   "metadata": {},
   "source": [
    "if photo need pay extra 3 rs in bill and use logical operator rollerrider in age condition no bill amount"
   ]
  },
  {
   "cell_type": "code",
   "execution_count": null,
   "id": "195ba6b5",
   "metadata": {},
   "outputs": [
    {
     "name": "stdout",
     "output_type": "stream",
     "text": [
      "welcome Rollercoaster\n"
     ]
    }
   ],
   "source": [
    "print('welcome Rollercoaster')\n",
    "try:\n",
    "    height=int(input('enter your height in cm\\n'))\n",
    "except:\n",
    "    print('please enter integer value  for height')\n",
    "    height=int(input('enter your height in cm\\n'))\n",
    "bill=0\n",
    "if height>= 120:\n",
    "    print('you are eligible to ride the rollercoaster')\n",
    "    try:\n",
    "        age=int(input('enter a age\\n'))\n",
    "    except:\n",
    "        print('please enter age value as integer')\n",
    "        age=int(input('enter a age\\n'))\n",
    "    if age<=5:\n",
    "        bill=2\n",
    "        print(f'your bill amount is {bill}')\n",
    "    elif age<=12:\n",
    "        bill=4\n",
    "        print(f'your bill amount is {bill}')\n",
    "    elif age<=18:\n",
    "        bill=5\n",
    "        print(f'your bill amount is {bill} ')\n",
    "    elif age>=45 and age<=70:\n",
    "        #bill=0\n",
    "        print('you donot need to pay')\n",
    "    else:\n",
    "        bill=6\n",
    "        print(f'your bill amount is {bill}')\n",
    "    willing_photo=input('enter if you need photo y or no need enter n: ').lower()  \n",
    "    if willing_photo == 'y':\n",
    "        bill += 3\n",
    "    print('your total bill amount is',bill)\n",
    "else:\n",
    "    print('you are not eligible')"
   ]
  },
  {
   "cell_type": "code",
   "execution_count": 23,
   "id": "5d7f2088",
   "metadata": {},
   "outputs": [],
   "source": [
    "\n",
    "with open('test.txt','w') as new:\n",
    "    new.write('hi hello \\nhow are you \\nhome')\n",
    "    #content=new.read()"
   ]
  },
  {
   "cell_type": "code",
   "execution_count": 24,
   "id": "7aa8f2b0",
   "metadata": {},
   "outputs": [
    {
     "name": "stdout",
     "output_type": "stream",
     "text": [
      "hi hello \n",
      "how are you \n",
      "home\n"
     ]
    }
   ],
   "source": [
    "\n",
    "with open('test.txt','r') as new:\n",
    "    print(new.read())"
   ]
  },
  {
   "cell_type": "markdown",
   "id": "2b3daf62",
   "metadata": {},
   "source": [
    "#### love calculator"
   ]
  },
  {
   "cell_type": "code",
   "execution_count": 10,
   "id": "d189d8f8",
   "metadata": {},
   "outputs": [
    {
     "name": "stdout",
     "output_type": "stream",
     "text": [
      "enter your name1: kanye west\n",
      "enter your name2: kim kardashian\n",
      "kanye west\n",
      "kim kardashian\n",
      "4\n",
      "2\n",
      "your total score is 42\n",
      "you score is 42 and alright together\n"
     ]
    }
   ],
   "source": [
    "name1=input('enter your name1: ').lower()\n",
    "name2=input('enter your name2: ').lower()\n",
    "print(name1)\n",
    "print(name2)\n",
    "combined_name=(name1+name2)\n",
    "t=combined_name.count('t')\n",
    "r=combined_name.count('r')\n",
    "u=combined_name.count('u')\n",
    "e=combined_name.count('e')\n",
    "sum1=t+r+u+e\n",
    "print(sum1)\n",
    "l=combined_name.count('l')\n",
    "o=combined_name.count('o')\n",
    "v=combined_name.count('v')\n",
    "e=combined_name.count('e')\n",
    "sum2=l+o+v+e\n",
    "print(sum2)\n",
    "total=str(sum1)+str(sum2)\n",
    "total=int(total)\n",
    "print(f'your total score is {total}')\n",
    "if total<10 or total>90:\n",
    "    print(f'you score is {total} and u together coke and ments')\n",
    "elif total>=40 and total<=50:\n",
    "    print(f'you score is {total} and alright together')\n",
    "else:\n",
    "    print(f'you score is {total} and no comments')"
   ]
  },
  {
   "cell_type": "markdown",
   "id": "c01501e1",
   "metadata": {},
   "source": [
    "#### pizza order"
   ]
  },
  {
   "cell_type": "code",
   "execution_count": 13,
   "id": "f5dffabd",
   "metadata": {},
   "outputs": [
    {
     "name": "stdout",
     "output_type": "stream",
     "text": [
      "welcome to pizza delivery app\n",
      "enter size u need s,m,l: s\n",
      "enter pep y or n: y\n",
      "enter extra cheese y or n: y\n",
      "your bill is 18\n"
     ]
    }
   ],
   "source": [
    "print('welcome to pizza delivery app')\n",
    "size=input('enter size u need s,m,l: ')\n",
    "pep=input('enter pep y or n: ')\n",
    "extra_cheese=input('enter extra cheese y or n: ')\n",
    "if size=='s':\n",
    "    bill=15\n",
    "elif size=='m':\n",
    "    bill=20\n",
    "elif size=='l':\n",
    "    bill=25\n",
    "if pep=='y' and size=='s':\n",
    "    bill += 2\n",
    "if pep=='y' and size=='m' or size=='l':\n",
    "    bill += 3\n",
    "if extra_cheese=='y':\n",
    "    bill +=1\n",
    "print(f'your bill is {bill}')    "
   ]
  },
  {
   "cell_type": "markdown",
   "id": "6232a829",
   "metadata": {},
   "source": [
    "#### another approach"
   ]
  },
  {
   "cell_type": "code",
   "execution_count": 15,
   "id": "01088571",
   "metadata": {},
   "outputs": [
    {
     "name": "stdout",
     "output_type": "stream",
     "text": [
      "welcome to pizza delivery app\n",
      "enter size u need s,m,l: l\n",
      "enter pep y or n: y\n",
      "enter extra cheese y or n: y\n",
      "your bill is 29\n"
     ]
    }
   ],
   "source": [
    "print('welcome to pizza delivery app')\n",
    "size=input('enter size u need s,m,l: ')\n",
    "pep=input('enter pep y or n: ')\n",
    "extra_cheese=input('enter extra cheese y or n: ')\n",
    "if size=='s':\n",
    "    bill=15\n",
    "elif size=='m':\n",
    "    bill=20\n",
    "else:\n",
    "    bill=25\n",
    "if pep=='y':\n",
    "    if size=='s':\n",
    "        bill += 2\n",
    "    else:\n",
    "        bill += 3\n",
    "if extra_cheese=='y':\n",
    "    bill +=1\n",
    "print(f'your bill is {bill}') "
   ]
  },
  {
   "cell_type": "code",
   "execution_count": 17,
   "id": "54ce3f3c",
   "metadata": {},
   "outputs": [
    {
     "name": "stdout",
     "output_type": "stream",
     "text": [
      "\n",
      "*******************************************************************************\n",
      "          |                   |                  |                     |\n",
      " _________|________________.=\"\"_;=.______________|_____________________|_______\n",
      "|                   |  ,-\"_,=\"\"     `\"=.|                  |\n",
      "|___________________|__\"=._o`\"-._        `\"=.______________|___________________\n",
      "          |                `\"=._o`\"=._      _`\"=._                     |\n",
      " _________|_____________________:=._o \"=._.\"_.-=\"'\"=.__________________|_______\n",
      "|                   |    __.--\" , ; `\"=._o.\" ,-\"\"\"-._ \".   |\n",
      "|___________________|_._\"  ,. .` ` `` ,  `\"-._\"-._   \". '__|___________________\n",
      "          |           |o`\"=._` , \"` `; .\". ,  \"-._\"-._; ;              |\n",
      " _________|___________| ;`-.o`\"=._; .\" ` '`.\"\\` . \"-._ /_______________|_______\n",
      "|                   | |o;    `\"-.o`\"=._``  '` \" ,__.--o;   |\n",
      "|___________________|_| ;     (#) `-.o `\"=.`_.--\"_o.-; ;___|___________________\n",
      "____/______/______/___|o;._    \"      `\".o|o_.--\"    ;o;____/______/______/____\n",
      "/______/______/______/_\"=._o--._        ; | ;        ; ;/______/______/______/_\n",
      "____/______/______/______/__\"=._o--._   ;o|o;     _._;o;____/______/______/____\n",
      "/______/______/______/______/____\"=._o._; | ;_.--\"o.--\"_/______/______/______/_\n",
      "____/______/______/______/______/_____\"=.o|o_.--\"\"___/______/______/______/____\n",
      "/______/______/______/______/______/______/______/______/______/______/_____ /\n",
      "*******************************************************************************\n",
      "\n",
      "Welcome to Treasure Island.\n",
      "Your mission is to find the treasure.\n"
     ]
    }
   ],
   "source": [
    "\n",
    "print('''\n",
    "*******************************************************************************\n",
    "          |                   |                  |                     |\n",
    " _________|________________.=\"\"_;=.______________|_____________________|_______\n",
    "|                   |  ,-\"_,=\"\"     `\"=.|                  |\n",
    "|___________________|__\"=._o`\"-._        `\"=.______________|___________________\n",
    "          |                `\"=._o`\"=._      _`\"=._                     |\n",
    " _________|_____________________:=._o \"=._.\"_.-=\"'\"=.__________________|_______\n",
    "|                   |    __.--\" , ; `\"=._o.\" ,-\"\"\"-._ \".   |\n",
    "|___________________|_._\"  ,. .` ` `` ,  `\"-._\"-._   \". '__|___________________\n",
    "          |           |o`\"=._` , \"` `; .\". ,  \"-._\"-._; ;              |\n",
    " _________|___________| ;`-.o`\"=._; .\" ` '`.\"\\` . \"-._ /_______________|_______\n",
    "|                   | |o;    `\"-.o`\"=._``  '` \" ,__.--o;   |\n",
    "|___________________|_| ;     (#) `-.o `\"=.`_.--\"_o.-; ;___|___________________\n",
    "____/______/______/___|o;._    \"      `\".o|o_.--\"    ;o;____/______/______/____\n",
    "/______/______/______/_\"=._o--._        ; | ;        ; ;/______/______/______/_\n",
    "____/______/______/______/__\"=._o--._   ;o|o;     _._;o;____/______/______/____\n",
    "/______/______/______/______/____\"=._o._; | ;_.--\"o.--\"_/______/______/______/_\n",
    "____/______/______/______/______/_____\"=.o|o_.--\"\"___/______/______/______/____\n",
    "/______/______/______/______/______/______/______/______/______/______/_____ /\n",
    "*******************************************************************************\n",
    "''')\n",
    "print(\"Welcome to Treasure Island.\")\n",
    "print(\"Your mission is to find the treasure.\")"
   ]
  },
  {
   "cell_type": "code",
   "execution_count": 21,
   "id": "560666d8",
   "metadata": {},
   "outputs": [
    {
     "name": "stdout",
     "output_type": "stream",
     "text": [
      "enter choice left or right:left\n",
      "either swim or wait: wait\n",
      "either which door red,blue or green: red\n",
      "you win\n"
     ]
    }
   ],
   "source": [
    "choice=input('enter choice left or right:').lower()\n",
    "if choice=='left':\n",
    "    choice=input('either swim or wait: ').lower()\n",
    "    if choice=='wait':\n",
    "        choice=input('either which door red,blue or green: ').lower()\n",
    "        if choice=='red':\n",
    "            print('you win')\n",
    "        else:\n",
    "            print('game over')\n",
    "    else:\n",
    "        print('game over')    \n",
    "    \n",
    "else:    \n",
    "    print('game over')\n",
    "  "
   ]
  }
 ],
 "metadata": {
  "kernelspec": {
   "display_name": "Python 3",
   "language": "python",
   "name": "python3"
  },
  "language_info": {
   "codemirror_mode": {
    "name": "ipython",
    "version": 3
   },
   "file_extension": ".py",
   "mimetype": "text/x-python",
   "name": "python",
   "nbconvert_exporter": "python",
   "pygments_lexer": "ipython3",
   "version": "3.8.8"
  }
 },
 "nbformat": 4,
 "nbformat_minor": 5
}
